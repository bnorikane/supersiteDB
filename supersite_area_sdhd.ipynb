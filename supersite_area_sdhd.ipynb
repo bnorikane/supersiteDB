{
 "cells": [
  {
   "cell_type": "markdown",
   "metadata": {},
   "source": [
    "# add Area, SD, HD columns to supersite list\n",
    "- read in pct_supersite.xlsx\n",
    "- group by supersite\n",
    "- extract list of Area, SD, HD\n",
    "\n",
    "## Possible enhancements\n",
    "- Transform Areas column from Python list to string, eg. [BO-03, BO-04, MT-03] to \"BO-03, BO-04, MT-03\"\n",
    "- Transform Areas column from AreasShort to AreasLong format e.g. \"Boulder 03\"\n",
    "\n",
    "- create list of Supersites for each SD, HD"
   ]
  },
  {
   "cell_type": "code",
   "execution_count": null,
   "metadata": {},
   "outputs": [],
   "source": [
    "import pandas as pd"
   ]
  },
  {
   "cell_type": "code",
   "execution_count": null,
   "metadata": {},
   "outputs": [],
   "source": [
    "# read in pct_supersite.xlsx\n",
    "\n",
    "cols = ['Pct', 'AreaShort', 'SD', 'HD', 'supersite']\n",
    "pctss = pd.read_excel('data/pct_supersite.xlsx', usecols=cols)\n",
    "\n",
    "pctss.info()\n",
    "pctss"
   ]
  },
  {
   "cell_type": "code",
   "execution_count": null,
   "metadata": {},
   "outputs": [],
   "source": [
    "## try create arealist using Pandas functions for Altona MS\n",
    "\n",
    "# type(pctss[pctss['supersite'] == 'Altona MS']['AreaShort']) # .unique().tolist()\n",
    "\n",
    "pctss[pctss['supersite'] == 'Altona MS']['AreaShort'].unique().tolist()\n",
    "# pctss[pctss['supersite'] == 'Altona MS']['SD'].unique().tolist()\n"
   ]
  },
  {
   "cell_type": "code",
   "execution_count": null,
   "metadata": {},
   "outputs": [],
   "source": [
    "def collist(s):\n",
    "    return s.unique().tolist()\n",
    "\n",
    "ss_areas = pctss.groupby('supersite').agg(\n",
    "    areas=('AreaShort', collist),\n",
    "    SDs=('SD', collist),\n",
    "    HDs=('HD', collist),\n",
    "    PCTs=('Pct', collist)\n",
    ")\n",
    "\n",
    "ss_areas.to_excel('data/supersite_areas.xlsx', index=True)\n",
    "\n",
    "ss_areas.info()\n",
    "ss_areas\n",
    "\n"
   ]
  },
  {
   "cell_type": "code",
   "execution_count": null,
   "metadata": {},
   "outputs": [],
   "source": []
  }
 ],
 "metadata": {
  "kernelspec": {
   "display_name": "geop12",
   "language": "python",
   "name": "python3"
  },
  "language_info": {
   "codemirror_mode": {
    "name": "ipython",
    "version": 3
   },
   "file_extension": ".py",
   "mimetype": "text/x-python",
   "name": "python",
   "nbconvert_exporter": "python",
   "pygments_lexer": "ipython3",
   "version": "3.9.17"
  }
 },
 "nbformat": 4,
 "nbformat_minor": 2
}
