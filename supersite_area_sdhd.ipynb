{
 "cells": [
  {
   "cell_type": "markdown",
   "metadata": {},
   "source": [
    "# add Area, SD, HD columns to supersite list\n",
    "- read in pct_supersite.xlsx\n",
    "- group by supersite\n",
    "- extract list of Area, SD, HD\n"
   ]
  },
  {
   "cell_type": "code",
   "execution_count": 21,
   "metadata": {},
   "outputs": [],
   "source": [
    "import pandas as pd"
   ]
  },
  {
   "cell_type": "code",
   "execution_count": 22,
   "metadata": {},
   "outputs": [
    {
     "name": "stdout",
     "output_type": "stream",
     "text": [
      "<class 'pandas.core.frame.DataFrame'>\n",
      "RangeIndex: 193 entries, 0 to 192\n",
      "Data columns (total 5 columns):\n",
      " #   Column     Non-Null Count  Dtype \n",
      "---  ------     --------------  ----- \n",
      " 0   Pct        193 non-null    int64 \n",
      " 1   AreaShort  193 non-null    object\n",
      " 2   SD         193 non-null    int64 \n",
      " 3   HD         193 non-null    int64 \n",
      " 4   supersite  193 non-null    object\n",
      "dtypes: int64(3), object(2)\n",
      "memory usage: 7.7+ KB\n"
     ]
    },
    {
     "data": {
      "text/html": [
       "<div>\n",
       "<style scoped>\n",
       "    .dataframe tbody tr th:only-of-type {\n",
       "        vertical-align: middle;\n",
       "    }\n",
       "\n",
       "    .dataframe tbody tr th {\n",
       "        vertical-align: top;\n",
       "    }\n",
       "\n",
       "    .dataframe thead th {\n",
       "        text-align: right;\n",
       "    }\n",
       "</style>\n",
       "<table border=\"1\" class=\"dataframe\">\n",
       "  <thead>\n",
       "    <tr style=\"text-align: right;\">\n",
       "      <th></th>\n",
       "      <th>Pct</th>\n",
       "      <th>AreaShort</th>\n",
       "      <th>SD</th>\n",
       "      <th>HD</th>\n",
       "      <th>supersite</th>\n",
       "    </tr>\n",
       "  </thead>\n",
       "  <tbody>\n",
       "    <tr>\n",
       "      <th>0</th>\n",
       "      <td>2</td>\n",
       "      <td>LM-04</td>\n",
       "      <td>15</td>\n",
       "      <td>19</td>\n",
       "      <td>Trail Ridge MS</td>\n",
       "    </tr>\n",
       "    <tr>\n",
       "      <th>1</th>\n",
       "      <td>3</td>\n",
       "      <td>SU-01</td>\n",
       "      <td>18</td>\n",
       "      <td>49</td>\n",
       "      <td>Eldorado K8</td>\n",
       "    </tr>\n",
       "    <tr>\n",
       "      <th>2</th>\n",
       "      <td>4</td>\n",
       "      <td>BO-01</td>\n",
       "      <td>15</td>\n",
       "      <td>12</td>\n",
       "      <td>Manhattan MS</td>\n",
       "    </tr>\n",
       "    <tr>\n",
       "      <th>3</th>\n",
       "      <td>100</td>\n",
       "      <td>SU-01</td>\n",
       "      <td>18</td>\n",
       "      <td>12</td>\n",
       "      <td>Eldorado K8</td>\n",
       "    </tr>\n",
       "    <tr>\n",
       "      <th>4</th>\n",
       "      <td>101</td>\n",
       "      <td>SU-01</td>\n",
       "      <td>18</td>\n",
       "      <td>12</td>\n",
       "      <td>Eldorado K8</td>\n",
       "    </tr>\n",
       "    <tr>\n",
       "      <th>...</th>\n",
       "      <td>...</td>\n",
       "      <td>...</td>\n",
       "      <td>...</td>\n",
       "      <td>...</td>\n",
       "      <td>...</td>\n",
       "    </tr>\n",
       "    <tr>\n",
       "      <th>188</th>\n",
       "      <td>912</td>\n",
       "      <td>MT-02</td>\n",
       "      <td>15</td>\n",
       "      <td>49</td>\n",
       "      <td>Centennial MS</td>\n",
       "    </tr>\n",
       "    <tr>\n",
       "      <th>189</th>\n",
       "      <td>913</td>\n",
       "      <td>MT-02</td>\n",
       "      <td>15</td>\n",
       "      <td>49</td>\n",
       "      <td>Jamestown School</td>\n",
       "    </tr>\n",
       "    <tr>\n",
       "      <th>190</th>\n",
       "      <td>914</td>\n",
       "      <td>MT-03</td>\n",
       "      <td>15</td>\n",
       "      <td>49</td>\n",
       "      <td>Allenspark Fire Station</td>\n",
       "    </tr>\n",
       "    <tr>\n",
       "      <th>191</th>\n",
       "      <td>915</td>\n",
       "      <td>MT-03</td>\n",
       "      <td>15</td>\n",
       "      <td>49</td>\n",
       "      <td>Lyons Middle Senior</td>\n",
       "    </tr>\n",
       "    <tr>\n",
       "      <th>192</th>\n",
       "      <td>916</td>\n",
       "      <td>MT-03</td>\n",
       "      <td>15</td>\n",
       "      <td>49</td>\n",
       "      <td>Lyons Middle Senior</td>\n",
       "    </tr>\n",
       "  </tbody>\n",
       "</table>\n",
       "<p>193 rows × 5 columns</p>\n",
       "</div>"
      ],
      "text/plain": [
       "     Pct AreaShort  SD  HD                 supersite\n",
       "0      2     LM-04  15  19            Trail Ridge MS\n",
       "1      3     SU-01  18  49               Eldorado K8\n",
       "2      4     BO-01  15  12              Manhattan MS\n",
       "3    100     SU-01  18  12               Eldorado K8\n",
       "4    101     SU-01  18  12               Eldorado K8\n",
       "..   ...       ...  ..  ..                       ...\n",
       "188  912     MT-02  15  49             Centennial MS\n",
       "189  913     MT-02  15  49          Jamestown School\n",
       "190  914     MT-03  15  49  Allenspark Fire Station \n",
       "191  915     MT-03  15  49       Lyons Middle Senior\n",
       "192  916     MT-03  15  49       Lyons Middle Senior\n",
       "\n",
       "[193 rows x 5 columns]"
      ]
     },
     "execution_count": 22,
     "metadata": {},
     "output_type": "execute_result"
    }
   ],
   "source": [
    "# read in pct_supersite.xlsx\n",
    "\n",
    "cols = ['Pct', 'AreaShort', 'SD', 'HD', 'supersite']\n",
    "pctss = pd.read_excel('data/pct_supersite.xlsx', usecols=cols)\n",
    "\n",
    "pctss.info()\n",
    "pctss"
   ]
  },
  {
   "cell_type": "code",
   "execution_count": 23,
   "metadata": {},
   "outputs": [
    {
     "data": {
      "text/plain": [
       "['LM-02', 'LM-03']"
      ]
     },
     "execution_count": 23,
     "metadata": {},
     "output_type": "execute_result"
    }
   ],
   "source": [
    "## try create arealist using for loops for Altona MS\n",
    "\n",
    "pctss[pctss['supersite'] == 'Altona MS']['AreaShort'].unique().tolist()\n",
    "\n"
   ]
  },
  {
   "cell_type": "code",
   "execution_count": 24,
   "metadata": {},
   "outputs": [
    {
     "data": {
      "text/html": [
       "<div>\n",
       "<style scoped>\n",
       "    .dataframe tbody tr th:only-of-type {\n",
       "        vertical-align: middle;\n",
       "    }\n",
       "\n",
       "    .dataframe tbody tr th {\n",
       "        vertical-align: top;\n",
       "    }\n",
       "\n",
       "    .dataframe thead th {\n",
       "        text-align: right;\n",
       "    }\n",
       "</style>\n",
       "<table border=\"1\" class=\"dataframe\">\n",
       "  <thead>\n",
       "    <tr style=\"text-align: right;\">\n",
       "      <th></th>\n",
       "      <th>Pct</th>\n",
       "      <th>AreaShort</th>\n",
       "      <th>SD</th>\n",
       "      <th>HD</th>\n",
       "      <th>supersite</th>\n",
       "    </tr>\n",
       "  </thead>\n",
       "  <tbody>\n",
       "    <tr>\n",
       "      <th>0</th>\n",
       "      <td>2</td>\n",
       "      <td>LM-04</td>\n",
       "      <td>15</td>\n",
       "      <td>19</td>\n",
       "      <td>Trail Ridge MS</td>\n",
       "    </tr>\n",
       "    <tr>\n",
       "      <th>1</th>\n",
       "      <td>3</td>\n",
       "      <td>SU-01</td>\n",
       "      <td>18</td>\n",
       "      <td>49</td>\n",
       "      <td>Eldorado K8</td>\n",
       "    </tr>\n",
       "    <tr>\n",
       "      <th>2</th>\n",
       "      <td>4</td>\n",
       "      <td>BO-01</td>\n",
       "      <td>15</td>\n",
       "      <td>12</td>\n",
       "      <td>Manhattan MS</td>\n",
       "    </tr>\n",
       "    <tr>\n",
       "      <th>3</th>\n",
       "      <td>100</td>\n",
       "      <td>SU-01</td>\n",
       "      <td>18</td>\n",
       "      <td>12</td>\n",
       "      <td>Eldorado K8</td>\n",
       "    </tr>\n",
       "    <tr>\n",
       "      <th>4</th>\n",
       "      <td>101</td>\n",
       "      <td>SU-01</td>\n",
       "      <td>18</td>\n",
       "      <td>12</td>\n",
       "      <td>Eldorado K8</td>\n",
       "    </tr>\n",
       "    <tr>\n",
       "      <th>...</th>\n",
       "      <td>...</td>\n",
       "      <td>...</td>\n",
       "      <td>...</td>\n",
       "      <td>...</td>\n",
       "      <td>...</td>\n",
       "    </tr>\n",
       "    <tr>\n",
       "      <th>188</th>\n",
       "      <td>912</td>\n",
       "      <td>MT-02</td>\n",
       "      <td>15</td>\n",
       "      <td>49</td>\n",
       "      <td>Centennial MS</td>\n",
       "    </tr>\n",
       "    <tr>\n",
       "      <th>189</th>\n",
       "      <td>913</td>\n",
       "      <td>MT-02</td>\n",
       "      <td>15</td>\n",
       "      <td>49</td>\n",
       "      <td>Jamestown School</td>\n",
       "    </tr>\n",
       "    <tr>\n",
       "      <th>190</th>\n",
       "      <td>914</td>\n",
       "      <td>MT-03</td>\n",
       "      <td>15</td>\n",
       "      <td>49</td>\n",
       "      <td>Allenspark Fire Station</td>\n",
       "    </tr>\n",
       "    <tr>\n",
       "      <th>191</th>\n",
       "      <td>915</td>\n",
       "      <td>MT-03</td>\n",
       "      <td>15</td>\n",
       "      <td>49</td>\n",
       "      <td>Lyons Middle Senior</td>\n",
       "    </tr>\n",
       "    <tr>\n",
       "      <th>192</th>\n",
       "      <td>916</td>\n",
       "      <td>MT-03</td>\n",
       "      <td>15</td>\n",
       "      <td>49</td>\n",
       "      <td>Lyons Middle Senior</td>\n",
       "    </tr>\n",
       "  </tbody>\n",
       "</table>\n",
       "<p>193 rows × 5 columns</p>\n",
       "</div>"
      ],
      "text/plain": [
       "     Pct AreaShort  SD  HD                 supersite\n",
       "0      2     LM-04  15  19            Trail Ridge MS\n",
       "1      3     SU-01  18  49               Eldorado K8\n",
       "2      4     BO-01  15  12              Manhattan MS\n",
       "3    100     SU-01  18  12               Eldorado K8\n",
       "4    101     SU-01  18  12               Eldorado K8\n",
       "..   ...       ...  ..  ..                       ...\n",
       "188  912     MT-02  15  49             Centennial MS\n",
       "189  913     MT-02  15  49          Jamestown School\n",
       "190  914     MT-03  15  49  Allenspark Fire Station \n",
       "191  915     MT-03  15  49       Lyons Middle Senior\n",
       "192  916     MT-03  15  49       Lyons Middle Senior\n",
       "\n",
       "[193 rows x 5 columns]"
      ]
     },
     "execution_count": 24,
     "metadata": {},
     "output_type": "execute_result"
    }
   ],
   "source": [
    "pctss"
   ]
  },
  {
   "cell_type": "code",
   "execution_count": null,
   "metadata": {},
   "outputs": [],
   "source": []
  },
  {
   "cell_type": "code",
   "execution_count": null,
   "metadata": {},
   "outputs": [],
   "source": []
  },
  {
   "cell_type": "markdown",
   "metadata": {},
   "source": [
    "## Try using groupby\n",
    "- issues"
   ]
  },
  {
   "cell_type": "code",
   "execution_count": 20,
   "metadata": {},
   "outputs": [
    {
     "data": {
      "text/plain": [
       "['MT-03']"
      ]
     },
     "execution_count": 20,
     "metadata": {},
     "output_type": "execute_result"
    }
   ],
   "source": [
    "ssgroup = pctss.groupby('supersite')\n",
    "\n",
    "ssgroup.ngroups\n",
    "ssgroup.size()\n",
    "ssgroup.first()\n",
    "ssgrp['AreaShort'].unique().tolist()\n",
    "# ssgroup[['AreaShort']].groups"
   ]
  },
  {
   "cell_type": "code",
   "execution_count": 4,
   "metadata": {},
   "outputs": [
    {
     "data": {
      "text/plain": [
       "['LM-02', 'LM-03']"
      ]
     },
     "execution_count": 4,
     "metadata": {},
     "output_type": "execute_result"
    }
   ],
   "source": [
    "# get all the Areas in Altona MS\n",
    "\n",
    "ssgroup.get_group('Altona MS')['AreaShort'].unique().tolist()"
   ]
  },
  {
   "cell_type": "code",
   "execution_count": 10,
   "metadata": {},
   "outputs": [
    {
     "ename": "AttributeError",
     "evalue": "'dict' object has no attribute 'append'",
     "output_type": "error",
     "traceback": [
      "\u001b[0;31m---------------------------------------------------------------------------\u001b[0m",
      "\u001b[0;31mAttributeError\u001b[0m                            Traceback (most recent call last)",
      "Cell \u001b[0;32mIn[10], line 9\u001b[0m\n\u001b[1;32m      3\u001b[0m ss_Area \u001b[38;5;241m=\u001b[39m {}\n\u001b[1;32m      4\u001b[0m \u001b[38;5;28;01mfor\u001b[39;00m ss, ssgrp \u001b[38;5;129;01min\u001b[39;00m ssgroup:\n\u001b[1;32m      5\u001b[0m     \u001b[38;5;66;03m# print(ss)\u001b[39;00m\n\u001b[1;32m      6\u001b[0m     \u001b[38;5;66;03m# print(type(ssgrp['AreaShort'].unique().tolist()))\u001b[39;00m\n\u001b[1;32m      7\u001b[0m     \u001b[38;5;66;03m# print(ss,ssgrp['AreaShort'].unique())\u001b[39;00m\n\u001b[1;32m      8\u001b[0m     \u001b[38;5;66;03m# print({ss:ssgrp['AreaShort'].unique().tolist()})\u001b[39;00m\n\u001b[0;32m----> 9\u001b[0m     \u001b[43mss_Area\u001b[49m\u001b[38;5;241;43m.\u001b[39;49m\u001b[43mappend\u001b[49m({ss:ssgrp[\u001b[38;5;124m'\u001b[39m\u001b[38;5;124mAreaShort\u001b[39m\u001b[38;5;124m'\u001b[39m]\u001b[38;5;241m.\u001b[39munique()\u001b[38;5;241m.\u001b[39mtolist()})\n\u001b[1;32m     11\u001b[0m ss_Area\n",
      "\u001b[0;31mAttributeError\u001b[0m: 'dict' object has no attribute 'append'"
     ]
    }
   ],
   "source": [
    "# iterate through all supersites\n",
    "\n",
    "ss_Area = {'areas':[]}\n",
    "for ss, ssgrp in ssgroup:\n",
    "    # print(ss)\n",
    "    # print(type(ssgrp['AreaShort'].unique().tolist()))\n",
    "    # print(ss,ssgrp['AreaShort'].unique())\n",
    "    # print({ss:ssgrp['AreaShort'].unique().tolist()})\n",
    "    ss_Area.append({ss:ssgrp['AreaShort'].unique().tolist()})\n",
    "\n",
    "ss_Area"
   ]
  },
  {
   "cell_type": "code",
   "execution_count": 9,
   "metadata": {},
   "outputs": [
    {
     "ename": "AttributeError",
     "evalue": "'list' object has no attribute 'values'",
     "output_type": "error",
     "traceback": [
      "\u001b[0;31m---------------------------------------------------------------------------\u001b[0m",
      "\u001b[0;31mAttributeError\u001b[0m                            Traceback (most recent call last)",
      "\u001b[0;32m/var/folders/__/snxbnt8d5rg8fgjj49_80t500000gn/T/ipykernel_79006/3950731415.py\u001b[0m in \u001b[0;36m?\u001b[0;34m()\u001b[0m\n\u001b[0;32m----> 1\u001b[0;31m \u001b[0mss_Areadf\u001b[0m \u001b[0;34m=\u001b[0m \u001b[0mpd\u001b[0m\u001b[0;34m.\u001b[0m\u001b[0mDataFrame\u001b[0m\u001b[0;34m.\u001b[0m\u001b[0mfrom_dict\u001b[0m\u001b[0;34m(\u001b[0m\u001b[0mss_Area\u001b[0m\u001b[0;34m,\u001b[0m \u001b[0morient\u001b[0m\u001b[0;34m=\u001b[0m\u001b[0;34m'index'\u001b[0m\u001b[0;34m)\u001b[0m\u001b[0;34m\u001b[0m\u001b[0;34m\u001b[0m\u001b[0m\n\u001b[0m\u001b[1;32m      2\u001b[0m \u001b[0mss_Areadf\u001b[0m\u001b[0;34m\u001b[0m\u001b[0;34m\u001b[0m\u001b[0m\n",
      "\u001b[0;32m~/miniconda3/envs/geop12/lib/python3.9/site-packages/pandas/core/frame.py\u001b[0m in \u001b[0;36m?\u001b[0;34m(cls, data, orient, dtype, columns)\u001b[0m\n\u001b[1;32m   1795\u001b[0m         \u001b[0morient\u001b[0m \u001b[0;34m=\u001b[0m \u001b[0morient\u001b[0m\u001b[0;34m.\u001b[0m\u001b[0mlower\u001b[0m\u001b[0;34m(\u001b[0m\u001b[0;34m)\u001b[0m  \u001b[0;31m# type: ignore[assignment]\u001b[0m\u001b[0;34m\u001b[0m\u001b[0;34m\u001b[0m\u001b[0m\n\u001b[1;32m   1796\u001b[0m         \u001b[0;32mif\u001b[0m \u001b[0morient\u001b[0m \u001b[0;34m==\u001b[0m \u001b[0;34m\"index\"\u001b[0m\u001b[0;34m:\u001b[0m\u001b[0;34m\u001b[0m\u001b[0;34m\u001b[0m\u001b[0m\n\u001b[1;32m   1797\u001b[0m             \u001b[0;32mif\u001b[0m \u001b[0mlen\u001b[0m\u001b[0;34m(\u001b[0m\u001b[0mdata\u001b[0m\u001b[0;34m)\u001b[0m \u001b[0;34m>\u001b[0m \u001b[0;36m0\u001b[0m\u001b[0;34m:\u001b[0m\u001b[0;34m\u001b[0m\u001b[0;34m\u001b[0m\u001b[0m\n\u001b[1;32m   1798\u001b[0m                 \u001b[0;31m# TODO speed up Series case\u001b[0m\u001b[0;34m\u001b[0m\u001b[0;34m\u001b[0m\u001b[0m\n\u001b[0;32m-> 1799\u001b[0;31m                 \u001b[0;32mif\u001b[0m \u001b[0misinstance\u001b[0m\u001b[0;34m(\u001b[0m\u001b[0mnext\u001b[0m\u001b[0;34m(\u001b[0m\u001b[0miter\u001b[0m\u001b[0;34m(\u001b[0m\u001b[0mdata\u001b[0m\u001b[0;34m.\u001b[0m\u001b[0mvalues\u001b[0m\u001b[0;34m(\u001b[0m\u001b[0;34m)\u001b[0m\u001b[0;34m)\u001b[0m\u001b[0;34m)\u001b[0m\u001b[0;34m,\u001b[0m \u001b[0;34m(\u001b[0m\u001b[0mSeries\u001b[0m\u001b[0;34m,\u001b[0m \u001b[0mdict\u001b[0m\u001b[0;34m)\u001b[0m\u001b[0;34m)\u001b[0m\u001b[0;34m:\u001b[0m\u001b[0;34m\u001b[0m\u001b[0;34m\u001b[0m\u001b[0m\n\u001b[0m\u001b[1;32m   1800\u001b[0m                     \u001b[0mdata\u001b[0m \u001b[0;34m=\u001b[0m \u001b[0m_from_nested_dict\u001b[0m\u001b[0;34m(\u001b[0m\u001b[0mdata\u001b[0m\u001b[0;34m)\u001b[0m\u001b[0;34m\u001b[0m\u001b[0;34m\u001b[0m\u001b[0m\n\u001b[1;32m   1801\u001b[0m                 \u001b[0;32melse\u001b[0m\u001b[0;34m:\u001b[0m\u001b[0;34m\u001b[0m\u001b[0;34m\u001b[0m\u001b[0m\n\u001b[1;32m   1802\u001b[0m                     \u001b[0mindex\u001b[0m \u001b[0;34m=\u001b[0m \u001b[0mlist\u001b[0m\u001b[0;34m(\u001b[0m\u001b[0mdata\u001b[0m\u001b[0;34m.\u001b[0m\u001b[0mkeys\u001b[0m\u001b[0;34m(\u001b[0m\u001b[0;34m)\u001b[0m\u001b[0;34m)\u001b[0m\u001b[0;34m\u001b[0m\u001b[0;34m\u001b[0m\u001b[0m\n",
      "\u001b[0;31mAttributeError\u001b[0m: 'list' object has no attribute 'values'"
     ]
    }
   ],
   "source": [
    "\n",
    "ss_Areadf = pd.DataFrame.from_dict(ss_Area, orient='index')\n",
    "ss_Areadf"
   ]
  },
  {
   "cell_type": "code",
   "execution_count": 46,
   "metadata": {},
   "outputs": [
    {
     "data": {
      "text/plain": [
       "[{},\n",
       " 'Allenspark Fire Station ',\n",
       " 'Altona MS',\n",
       " 'Burlington Elementary',\n",
       " 'Casey MS',\n",
       " 'Centaurus HS',\n",
       " 'Centennial MS',\n",
       " 'Eldorado K8',\n",
       " 'Erie MS',\n",
       " 'Gold Hill School',\n",
       " 'Jamestown School',\n",
       " 'Longs Peak MS',\n",
       " 'Lyons Middle Senior',\n",
       " 'Manhattan MS',\n",
       " 'Monarch HS',\n",
       " 'Nederland HS',\n",
       " 'New Vista',\n",
       " 'Niwot HS',\n",
       " 'Southern Hills MS',\n",
       " 'Trail Ridge MS',\n",
       " 'Ward Community Center']"
      ]
     },
     "execution_count": 46,
     "metadata": {},
     "output_type": "execute_result"
    }
   ],
   "source": [
    "# function to extract unique areas from a group\n",
    "\n",
    "def col_unique(ssgrp_):\n",
    "    # for ss, ssvals in ssgrp:\n",
    "    #     # print(ss)\n",
    "    #     # print(type(ssvals['AreaShort'].unique().tolist()))\n",
    "    #     # print(ss,ssvals['AreaShort'].unique())\n",
    "    #     # print({ss:ssvals['AreaShort'].unique().tolist()})\n",
    "    #     ss_Area += {ss:ssvals['AreaShort'].unique().tolist()}\n",
    "\n",
    "    return ssgrp_['AreaShort'].unique().tolist()\n",
    "\n"
   ]
  },
  {
   "cell_type": "code",
   "execution_count": null,
   "metadata": {},
   "outputs": [],
   "source": []
  }
 ],
 "metadata": {
  "kernelspec": {
   "display_name": "geop12",
   "language": "python",
   "name": "python3"
  },
  "language_info": {
   "codemirror_mode": {
    "name": "ipython",
    "version": 3
   },
   "file_extension": ".py",
   "mimetype": "text/x-python",
   "name": "python",
   "nbconvert_exporter": "python",
   "pygments_lexer": "ipython3",
   "version": "3.9.17"
  }
 },
 "nbformat": 4,
 "nbformat_minor": 2
}
