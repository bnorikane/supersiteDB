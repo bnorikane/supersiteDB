{
 "cells": [
  {
   "cell_type": "markdown",
   "metadata": {},
   "source": [
    "# Create spreadsheet with Supersite data for Chairs and Candidates  \n",
    "\n",
    "Create a spreadsheet that combines Supersite data from several sources into views designed for Supersite Chairs and Candidates.\n",
    "\n",
    "- pctss dataframe \n",
    "    - INPUT: pct_supersite.xlsx\n",
    "    - each row has precinct information including 2024 supersite\n",
    "- Create ss_areas dataframe\n",
    "    - each row has Supersite data aggregated from pctss\n",
    "    - group by pctss by supersite\n",
    "    - create columns with lists of all the Areas, SDs, HDs at each Supersite\n",
    "- Create hd_ss \n",
    "    - each row has hd data\n",
    "    - group pctss by hd\n",
    "    - create columns with lists of Supersites and precincts for each hd\n",
    "- Create sd_ss \n",
    "    - each row has sd data\n",
    "    - group pctss by sd\n",
    "    - create columns with lists of Supersites and precincts for each sd\n",
    "\n",
    "- write Excel spreadsheet with information for Supersite Chairs and candidates\n",
    "    - OUTPUT: supersite_area_HD_SD_DRAFT_2024.xlsx\n",
    "        - write ss_areas to one worksheet\n",
    "        - write sd_ss to one worksheet\n",
    "        - write hd_ss to one worksheet\n",
    "        \n",
    "## Possible enhancements\n",
    "- DONE: Transform Areas column from Python list to string, eg. [BO-03, BO-04, MT-03] to \"BO-03, BO-04, MT-03\"\n",
    "- Transform Areas column from AreasShort to AreasLong format e.g. \"Boulder 03\"\n",
    "\n",
    "- DONE: create list of Supersites for each SD, HD"
   ]
  },
  {
   "cell_type": "markdown",
   "metadata": {},
   "source": []
  },
  {
   "cell_type": "code",
   "execution_count": null,
   "metadata": {},
   "outputs": [],
   "source": [
    "import pandas as pd"
   ]
  },
  {
   "cell_type": "code",
   "execution_count": null,
   "metadata": {},
   "outputs": [],
   "source": [
    "# read in pct_supersite.xlsx\n",
    "\n",
    "cols = ['Pct', 'AreaShort', 'SD', 'HD', 'supersite']\n",
    "pctss = pd.read_excel('data/pct_supersite.xlsx', usecols=cols)\n",
    "\n",
    "pctss.info()\n",
    "pctss"
   ]
  },
  {
   "cell_type": "code",
   "execution_count": null,
   "metadata": {},
   "outputs": [],
   "source": [
    "# create ss_areas dataframe with columns of lists of Areas, SDs and HDs at each Supersite\n",
    "\n",
    "def collist(s):\n",
    "    return s.unique().tolist()\n",
    "\n",
    "ss_areas = pctss.groupby('supersite').agg(\n",
    "    areas=('AreaShort', collist),\n",
    "    SDs=('SD', collist),\n",
    "    HDs=('HD', collist),\n",
    "    PCTs=('Pct', collist)\n",
    ")\n",
    "\n",
    "# convert lists in areas, SDs, HDs, PCTs to strings\n",
    "\n",
    "ss_areas['area'] = [','.join(map(str, l)) for l in ss_areas['areas']]\n",
    "ss_areas['sd'] = [','.join(map(str, l)) for l in ss_areas['SDs']]\n",
    "ss_areas['hd'] = [','.join(map(str, l)) for l in ss_areas['HDs']]\n",
    "ss_areas['pct'] = [','.join(map(str, l)) for l in ss_areas['PCTs']]\n",
    "\n",
    "ss_areas = ss_areas[['area', 'sd', 'hd', 'pct']]\n",
    "\n",
    "\n",
    "ss_areas.info()\n",
    "ss_areas"
   ]
  },
  {
   "cell_type": "markdown",
   "metadata": {},
   "source": [
    "## Create list of Supersites by SD, HD\n",
    "- SD18 at Niwot, New Vista, Monarch, Eldorado K8, Centaurus, ..."
   ]
  },
  {
   "cell_type": "code",
   "execution_count": null,
   "metadata": {},
   "outputs": [],
   "source": [
    "# Create dataframe that lists which supersites and precincts are part of each House District\n",
    "\n",
    "hd_ss = pctss.groupby('HD').agg(\n",
    "    supersites=('supersite', collist),\n",
    "    PCTs=('Pct', collist)\n",
    ")\n"
   ]
  },
  {
   "cell_type": "code",
   "execution_count": null,
   "metadata": {},
   "outputs": [],
   "source": [
    "# Create dataframe that lists which supersites and precincts are part of each Senate District\n",
    "sd_ss = pctss.groupby('SD').agg(\n",
    "    supersites=('supersite', collist),\n",
    "    PCTs=('Pct', collist)\n",
    ")\n"
   ]
  },
  {
   "cell_type": "markdown",
   "metadata": {},
   "source": [
    "## Write Supersite data, HD data and SD data to Excel spreadsheet"
   ]
  },
  {
   "cell_type": "code",
   "execution_count": null,
   "metadata": {},
   "outputs": [],
   "source": [
    "# Write excel spreadsheet with separate tabs for ss_areas, hd_ss, sd_ss\n",
    "\n",
    "with pd.ExcelWriter('data/supersite_area_HD_SD_DRAFT_2024.xlsx') as writer:\n",
    "    \n",
    "    ss_areas.to_excel(writer, sheet_name='Areas, SD, HD at Supersite', index=True)\n",
    "    hd_ss.to_excel(writer, sheet_name=\"HDs\")  \n",
    "    sd_ss.to_excel(writer, sheet_name=\"SDs\")  "
   ]
  },
  {
   "cell_type": "code",
   "execution_count": null,
   "metadata": {},
   "outputs": [],
   "source": []
  },
  {
   "cell_type": "code",
   "execution_count": null,
   "metadata": {},
   "outputs": [],
   "source": []
  }
 ],
 "metadata": {
  "kernelspec": {
   "display_name": "geop12",
   "language": "python",
   "name": "python3"
  },
  "language_info": {
   "codemirror_mode": {
    "name": "ipython",
    "version": 3
   },
   "file_extension": ".py",
   "mimetype": "text/x-python",
   "name": "python",
   "nbconvert_exporter": "python",
   "pygments_lexer": "ipython3",
   "version": "3.9.17"
  }
 },
 "nbformat": 4,
 "nbformat_minor": 2
}
