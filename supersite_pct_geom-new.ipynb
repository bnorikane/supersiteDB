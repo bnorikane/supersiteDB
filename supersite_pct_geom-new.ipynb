{
 "cells": [
  {
   "cell_type": "markdown",
   "id": "3dd1ac9e-0cc1-4244-9dfc-56da05c2b99a",
   "metadata": {},
   "source": [
    "# Create geojson file with the caucus supersite borders\n",
    "    \n",
    "- read Judi's supersite precinct file\n",
    "- group precincts by supersite\n",
    "- create a border file around the each supersite precincts\n",
    "- Save files in geojson format ready to be used directly in an online map\n",
    "    - GeoJSON output files for Leaflet\n",
    "\n",
    "\n",
    "- NOTE: need to update precinct to Supersite geojson every time a Supersite/precinct list is modified \n",
    "    - e.g. move precincts 814 and 823 from Frasier to Manhatten\n",
    "\n",
    "- Started: January 7, 2024\n",
    "- Updated: January 8, 2024 - large revision\n",
    "\n",
    "### Input Files\n",
    "\n",
    "- Judi Bodinger's Caucus Supersite file with precinct column\n",
    "    - supersiteDB/data/Draft Supersites-judi-20240106.xlsx\n",
    "\n",
    "        - Supersite\n",
    "        - Pct #'s\n",
    "        ...\n",
    "\n",
    "### Output Files\n",
    "- ss_pct_geom.geojson file \n",
    "  - supersite_pct.geojson\n",
    "  - ss_name\n",
    "  - geometry - border around all precincts\n"
   ]
  },
  {
   "cell_type": "code",
   "execution_count": 27,
   "id": "9b66485f-7f6d-4d5f-bfca-3ef066a25931",
   "metadata": {
    "tags": []
   },
   "outputs": [],
   "source": [
    "import pandas as pd\n",
    "import geopandas as gpd\n",
    "import fiona\n",
    "# import numpy as np"
   ]
  },
  {
   "cell_type": "markdown",
   "id": "57440289-839b-48bb-b876-7308d25c19c2",
   "metadata": {
    "tags": []
   },
   "source": [
    "## Create sspct - dataframe of supersites with list of precincts in a column  \n",
    "\n",
    "- sspct - dataframe of 2024 supersites  \n",
    "\n",
    "        - Supersite\n",
    "        - Region\t\n",
    "        - (# of Reg Dems)\t\n",
    "        - Forecast of  Attendees\t\n",
    "        - (# of Pct's)\t\n",
    "        - Pct #'s\n",
    "        - (# of Chairs)\t\n",
    "        - Chair Name\n",
    "        - Chair2 Name\t\n",
    "        - Chair3 Name\t\n",
    "        - chair 4 Name\t\n",
    "        - Chair 5 Name\n"
   ]
  },
  {
   "cell_type": "code",
   "execution_count": 28,
   "id": "f713f5de-fea1-4afb-b88d-3b0d2f27171b",
   "metadata": {
    "tags": []
   },
   "outputs": [
    {
     "name": "stdout",
     "output_type": "stream",
     "text": [
      "<class 'pandas.core.frame.DataFrame'>\n",
      "RangeIndex: 20 entries, 0 to 19\n",
      "Data columns (total 12 columns):\n",
      " #   Column                  Non-Null Count  Dtype  \n",
      "---  ------                  --------------  -----  \n",
      " 0   Supersite               20 non-null     object \n",
      " 1   Region                  20 non-null     object \n",
      " 2   # of Reg Dems           20 non-null     int64  \n",
      " 3   Forecast of  Attendees  20 non-null     float64\n",
      " 4   # of Pct's              20 non-null     int64  \n",
      " 5   Pct #'s                 20 non-null     object \n",
      " 6   # of Chairs             20 non-null     int64  \n",
      " 7   Chair Name              20 non-null     object \n",
      " 8   Chair2 Name             13 non-null     object \n",
      " 9   Chair3 Name             8 non-null      object \n",
      " 10  chair 4 Name            2 non-null      object \n",
      " 11  Chair 5 Name            1 non-null      object \n",
      "dtypes: float64(1), int64(3), object(8)\n",
      "memory usage: 2.0+ KB\n"
     ]
    }
   ],
   "source": [
    "# Read current supersite list\n",
    "sspct = pd.read_excel('data/Draft Supersites-judi-20240106.xlsx', sheet_name='Draft 1-6', skiprows=3)\n",
    "sspct.info()"
   ]
  },
  {
   "cell_type": "code",
   "execution_count": 29,
   "id": "4402514e-b45b-40de-be10-3b7cc35176b6",
   "metadata": {
    "tags": []
   },
   "outputs": [],
   "source": [
    "cols = sspct.columns\n",
    "# cols = ['Supersite', 'Region', '# of Reg Dems', 'Forecast of  Attendees',\n",
    "#        '# of Pct's', 'Pct #'s', '# of Chairs', 'Chair Name', 'Chair2 Name',\n",
    "#        'Chair3 Name', 'chair 4 Name', 'Chair 5 Name']"
   ]
  },
  {
   "cell_type": "code",
   "execution_count": 30,
   "id": "15fc3f0a",
   "metadata": {},
   "outputs": [
    {
     "data": {
      "text/plain": [
       "0      810,817,818,820,821,828,829,831,832,833,,,,,,,,,\n",
       "1               822,823,824,825,826,827,910,,,,,,,,,,,,\n",
       "2     803,804,805,806,807,808,811,812,813,814,815,81...\n",
       "3                                 913,,,,,,,,,,,,,,,,,,\n",
       "4     4,500,501,834,835,836,837,838,839,840,841,842,...\n",
       "5     830,843,844,845,846,847,850,851,852,853,854,85...\n",
       "6         400,401,402,403,404,405,406,407,408,,,,,,,,,,\n",
       "7     503,504,505,506,507,508,509,510,800,801,802,80...\n",
       "8     300,301,302,303,304,305,306,307,308,309,310,31...\n",
       "9     606,607,608,609,610,611,614,615,616,624,625,63...\n",
       "10           600,601,602,603,604,605,612,613,,,,,,,,,,,\n",
       "11    626,627,628,629,643,644,645,646,617,632,641,64...\n",
       "12    2,618,619,620,621,622,623,633,634,635,636,637,...\n",
       "13    200,201,202,203,204,205,206,207,208,209,210,21...\n",
       "14                                914,,,,,,,,,,,,,,,,,,\n",
       "15                                909,,,,,,,,,,,,,,,,,,\n",
       "16                    700,701,702,915,916,,,,,,,,,,,,,,\n",
       "17                 901,902,903,904,905,907,,,,,,,,,,,,,\n",
       "18                                908,,,,,,,,,,,,,,,,,,\n",
       "19             3,100,101,102,103,104,105,106,,,,,,,,,,,\n",
       "Name: Pct #'s, dtype: object"
      ]
     },
     "execution_count": 30,
     "metadata": {},
     "output_type": "execute_result"
    }
   ],
   "source": [
    "sspct[\"Pct #'s\"]"
   ]
  },
  {
   "cell_type": "markdown",
   "id": "01604504",
   "metadata": {},
   "source": [
    "### Create Supersite borders and save to file"
   ]
  },
  {
   "cell_type": "code",
   "execution_count": 31,
   "id": "079d3956-bd02-4c8f-bfac-a7884924d26f",
   "metadata": {
    "tags": []
   },
   "outputs": [
    {
     "data": {
      "text/plain": [
       "[['810', '817', '818', '820', '821', '828', '829', '831', '832', '833'],\n",
       " ['822', '823', '824', '825', '826', '827', '910']]"
      ]
     },
     "execution_count": 31,
     "metadata": {},
     "output_type": "execute_result"
    }
   ],
   "source": [
    "# get string of precincts in each supersite\n",
    "sspctnums = sspct[\"Pct #'s\"].tolist()\n",
    "\n",
    "# for each supersite, transform precinct strings to list of precincts\n",
    "sspctlist = [pct.rstrip(',').split(',') for pct in sspctnums]\n",
    "sspctlist[:2]"
   ]
  },
  {
   "cell_type": "code",
   "execution_count": 32,
   "id": "410d6558",
   "metadata": {},
   "outputs": [
    {
     "name": "stdout",
     "output_type": "stream",
     "text": [
      "<class 'pandas.core.frame.DataFrame'>\n",
      "RangeIndex: 20 entries, 0 to 19\n",
      "Data columns (total 13 columns):\n",
      " #   Column                  Non-Null Count  Dtype  \n",
      "---  ------                  --------------  -----  \n",
      " 0   Supersite               20 non-null     object \n",
      " 1   Region                  20 non-null     object \n",
      " 2   # of Reg Dems           20 non-null     int64  \n",
      " 3   Forecast of  Attendees  20 non-null     float64\n",
      " 4   # of Pct's              20 non-null     int64  \n",
      " 5   Pct #'s                 20 non-null     object \n",
      " 6   # of Chairs             20 non-null     int64  \n",
      " 7   Chair Name              20 non-null     object \n",
      " 8   Chair2 Name             13 non-null     object \n",
      " 9   Chair3 Name             8 non-null      object \n",
      " 10  chair 4 Name            2 non-null      object \n",
      " 11  Chair 5 Name            1 non-null      object \n",
      " 12  pctlist                 20 non-null     object \n",
      "dtypes: float64(1), int64(3), object(9)\n",
      "memory usage: 2.2+ KB\n"
     ]
    }
   ],
   "source": [
    "# add pctlist column to sspct dataframe\n",
    "sspct['pctlist'] = sspctlist\n",
    "sspct.info()"
   ]
  },
  {
   "cell_type": "code",
   "execution_count": 33,
   "id": "700ec434",
   "metadata": {},
   "outputs": [
    {
     "data": {
      "text/plain": [
       "['810', '817', '818', '820', '821', '828', '829', '831', '832', '833']"
      ]
     },
     "execution_count": 33,
     "metadata": {},
     "output_type": "execute_result"
    }
   ],
   "source": [
    "sspct.loc[0,'pctlist']"
   ]
  },
  {
   "cell_type": "markdown",
   "id": "728d6c8c-cf19-4b5d-be6d-a6e2b4b45db2",
   "metadata": {},
   "source": [
    "## Create supersite pct Boundary Files\n",
    "\n",
    "- Create ss_pct boundaries for each supersits\n",
    "- Save ss_pct.geojson GeoJSON files"
   ]
  },
  {
   "cell_type": "code",
   "execution_count": 34,
   "id": "d6d516b4",
   "metadata": {},
   "outputs": [
    {
     "name": "stdout",
     "output_type": "stream",
     "text": [
      "<class 'geopandas.geodataframe.GeoDataFrame'>\n",
      "Index: 193 entries, 002 to 916\n",
      "Data columns (total 7 columns):\n",
      " #   Column     Non-Null Count  Dtype   \n",
      "---  ------     --------------  -----   \n",
      " 0   Pct        193 non-null    object  \n",
      " 1   Precinct   193 non-null    object  \n",
      " 2   AreaShort  193 non-null    object  \n",
      " 3   CD         193 non-null    object  \n",
      " 4   SD         193 non-null    object  \n",
      " 5   HD         193 non-null    object  \n",
      " 6   geometry   193 non-null    geometry\n",
      "dtypes: geometry(1), object(6)\n",
      "memory usage: 16.1+ KB\n"
     ]
    }
   ],
   "source": [
    "# Create GeoDataframe from file with individual precinct boundaries\n",
    "# data/pct_area_boulder.geojson\n",
    "pctgeo = gpd.read_file('data/pct_area_boulder.geojson', driver='GEOJSON')\n",
    "\n",
    "# set sspct index to Pct\n",
    "pctgeo = pctgeo.set_index('Pct', drop=False)\n",
    "\n",
    "pctgeo.info()\n"
   ]
  },
  {
   "cell_type": "markdown",
   "id": "8fdd5977-ebf0-4688-aa1c-0bd9200b2498",
   "metadata": {},
   "source": [
    "### Check precinct data in  geodataframe\n",
    "- Number of precincts = 193\n",
    "- Number of Areas = 28\n",
    "- Review Area_Short column\n",
    "- Check # of precincts in each Area"
   ]
  },
  {
   "cell_type": "code",
   "execution_count": 35,
   "id": "600f3a03",
   "metadata": {},
   "outputs": [
    {
     "data": {
      "text/plain": [
       "193"
      ]
     },
     "execution_count": 35,
     "metadata": {},
     "output_type": "execute_result"
    }
   ],
   "source": [
    "pctgeo['Pct'].nunique() # 193"
   ]
  },
  {
   "cell_type": "code",
   "execution_count": 36,
   "id": "c7cfe64e-a840-4085-a562-b9d753f60567",
   "metadata": {},
   "outputs": [
    {
     "data": {
      "text/plain": [
       "27"
      ]
     },
     "execution_count": 36,
     "metadata": {},
     "output_type": "execute_result"
    }
   ],
   "source": [
    "pctgeo.AreaShort.nunique() # 27"
   ]
  },
  {
   "cell_type": "code",
   "execution_count": 37,
   "id": "e2fcad2c-e2aa-45f9-8231-d7658f87307b",
   "metadata": {},
   "outputs": [
    {
     "data": {
      "text/plain": [
       "AreaShort\n",
       "BO-01     7\n",
       "BO-02     5\n",
       "BO-03     6\n",
       "BO-04    10\n",
       "BO-05     5\n",
       "BO-07     6\n",
       "BO-08     5\n",
       "BO-09     5\n",
       "BO-10     7\n",
       "BO-11     6\n",
       "ER-01     9\n",
       "GN-01     7\n",
       "LF-01     9\n",
       "LF-02    11\n",
       "LM-01     7\n",
       "LM-02     7\n",
       "LM-03     7\n",
       "LM-04     9\n",
       "LM-05     8\n",
       "LM-06     8\n",
       "LM-07    10\n",
       "LV-01     7\n",
       "LV-02     6\n",
       "MT-01     6\n",
       "MT-02     6\n",
       "MT-03     6\n",
       "SU-01     8\n",
       "Name: count, dtype: int64"
      ]
     },
     "execution_count": 37,
     "metadata": {},
     "output_type": "execute_result"
    }
   ],
   "source": [
    "pctgeo.value_counts('AreaShort').sort_index()"
   ]
  },
  {
   "cell_type": "code",
   "execution_count": 38,
   "id": "687cdce0",
   "metadata": {},
   "outputs": [
    {
     "data": {
      "text/html": [
       "<div>\n",
       "<style scoped>\n",
       "    .dataframe tbody tr th:only-of-type {\n",
       "        vertical-align: middle;\n",
       "    }\n",
       "\n",
       "    .dataframe tbody tr th {\n",
       "        vertical-align: top;\n",
       "    }\n",
       "\n",
       "    .dataframe thead th {\n",
       "        text-align: right;\n",
       "    }\n",
       "</style>\n",
       "<table border=\"1\" class=\"dataframe\">\n",
       "  <thead>\n",
       "    <tr style=\"text-align: right;\">\n",
       "      <th></th>\n",
       "      <th>Pct</th>\n",
       "      <th>Precinct</th>\n",
       "      <th>AreaShort</th>\n",
       "      <th>CD</th>\n",
       "      <th>SD</th>\n",
       "      <th>HD</th>\n",
       "      <th>geometry</th>\n",
       "    </tr>\n",
       "    <tr>\n",
       "      <th>Pct</th>\n",
       "      <th></th>\n",
       "      <th></th>\n",
       "      <th></th>\n",
       "      <th></th>\n",
       "      <th></th>\n",
       "      <th></th>\n",
       "      <th></th>\n",
       "    </tr>\n",
       "  </thead>\n",
       "  <tbody>\n",
       "    <tr>\n",
       "      <th>002</th>\n",
       "      <td>002</td>\n",
       "      <td>2151907002</td>\n",
       "      <td>LM-04</td>\n",
       "      <td>2</td>\n",
       "      <td>15</td>\n",
       "      <td>19</td>\n",
       "      <td>POLYGON ((-105.05519 40.19115, -105.05518 40.1...</td>\n",
       "    </tr>\n",
       "    <tr>\n",
       "      <th>003</th>\n",
       "      <td>003</td>\n",
       "      <td>2184907003</td>\n",
       "      <td>SU-01</td>\n",
       "      <td>2</td>\n",
       "      <td>18</td>\n",
       "      <td>49</td>\n",
       "      <td>POLYGON ((-105.16920 39.92870, -105.17207 39.9...</td>\n",
       "    </tr>\n",
       "    <tr>\n",
       "      <th>004</th>\n",
       "      <td>004</td>\n",
       "      <td>2151207004</td>\n",
       "      <td>BO-01</td>\n",
       "      <td>2</td>\n",
       "      <td>15</td>\n",
       "      <td>12</td>\n",
       "      <td>POLYGON ((-105.18469 39.96263, -105.18459 39.9...</td>\n",
       "    </tr>\n",
       "    <tr>\n",
       "      <th>100</th>\n",
       "      <td>100</td>\n",
       "      <td>2181207100</td>\n",
       "      <td>SU-01</td>\n",
       "      <td>2</td>\n",
       "      <td>18</td>\n",
       "      <td>12</td>\n",
       "      <td>POLYGON ((-105.15439 39.92921, -105.15842 39.9...</td>\n",
       "    </tr>\n",
       "    <tr>\n",
       "      <th>101</th>\n",
       "      <td>101</td>\n",
       "      <td>2181207101</td>\n",
       "      <td>SU-01</td>\n",
       "      <td>2</td>\n",
       "      <td>18</td>\n",
       "      <td>12</td>\n",
       "      <td>POLYGON ((-105.14702 39.92887, -105.14736 39.9...</td>\n",
       "    </tr>\n",
       "  </tbody>\n",
       "</table>\n",
       "</div>"
      ],
      "text/plain": [
       "     Pct    Precinct AreaShort CD  SD  HD  \\\n",
       "Pct                                         \n",
       "002  002  2151907002     LM-04  2  15  19   \n",
       "003  003  2184907003     SU-01  2  18  49   \n",
       "004  004  2151207004     BO-01  2  15  12   \n",
       "100  100  2181207100     SU-01  2  18  12   \n",
       "101  101  2181207101     SU-01  2  18  12   \n",
       "\n",
       "                                              geometry  \n",
       "Pct                                                     \n",
       "002  POLYGON ((-105.05519 40.19115, -105.05518 40.1...  \n",
       "003  POLYGON ((-105.16920 39.92870, -105.17207 39.9...  \n",
       "004  POLYGON ((-105.18469 39.96263, -105.18459 39.9...  \n",
       "100  POLYGON ((-105.15439 39.92921, -105.15842 39.9...  \n",
       "101  POLYGON ((-105.14702 39.92887, -105.14736 39.9...  "
      ]
     },
     "execution_count": 38,
     "metadata": {},
     "output_type": "execute_result"
    }
   ],
   "source": [
    "pctgeo.head()"
   ]
  },
  {
   "cell_type": "markdown",
   "id": "6f18561a",
   "metadata": {},
   "source": [
    "### Explore adding supersite name to pctgeo"
   ]
  },
  {
   "cell_type": "code",
   "execution_count": 39,
   "id": "fc83adc0",
   "metadata": {},
   "outputs": [
    {
     "data": {
      "text/plain": [
       "0     [810, 817, 818, 820, 821, 828, 829, 831, 832, ...\n",
       "1                   [822, 823, 824, 825, 826, 827, 910]\n",
       "2     [803, 804, 805, 806, 807, 808, 811, 812, 813, ...\n",
       "3                                                 [913]\n",
       "4     [4, 500, 501, 834, 835, 836, 837, 838, 839, 84...\n",
       "5     [830, 843, 844, 845, 846, 847, 850, 851, 852, ...\n",
       "6         [400, 401, 402, 403, 404, 405, 406, 407, 408]\n",
       "7     [503, 504, 505, 506, 507, 508, 509, 510, 800, ...\n",
       "8     [300, 301, 302, 303, 304, 305, 306, 307, 308, ...\n",
       "9     [606, 607, 608, 609, 610, 611, 614, 615, 616, ...\n",
       "10             [600, 601, 602, 603, 604, 605, 612, 613]\n",
       "11    [626, 627, 628, 629, 643, 644, 645, 646, 617, ...\n",
       "12    [2, 618, 619, 620, 621, 622, 623, 633, 634, 63...\n",
       "13    [200, 201, 202, 203, 204, 205, 206, 207, 208, ...\n",
       "14                                                [914]\n",
       "15                                                [909]\n",
       "16                            [700, 701, 702, 915, 916]\n",
       "17                       [901, 902, 903, 904, 905, 907]\n",
       "18                                                [908]\n",
       "19               [3, 100, 101, 102, 103, 104, 105, 106]\n",
       "Name: pctlist, dtype: object"
      ]
     },
     "execution_count": 39,
     "metadata": {},
     "output_type": "execute_result"
    }
   ],
   "source": [
    "sspct['pctlist']"
   ]
  },
  {
   "cell_type": "code",
   "execution_count": 40,
   "id": "89b3e9f5",
   "metadata": {},
   "outputs": [
    {
     "data": {
      "text/plain": [
       "True"
      ]
     },
     "execution_count": 40,
     "metadata": {},
     "output_type": "execute_result"
    }
   ],
   "source": [
    "sspct['pctlist'][0][0] == '810'"
   ]
  },
  {
   "cell_type": "code",
   "execution_count": 41,
   "id": "1634073a",
   "metadata": {},
   "outputs": [
    {
     "name": "stdout",
     "output_type": "stream",
     "text": [
      "<class 'geopandas.geodataframe.GeoDataFrame'>\n",
      "Index: 193 entries, 002 to 916\n",
      "Data columns (total 8 columns):\n",
      " #   Column     Non-Null Count  Dtype   \n",
      "---  ------     --------------  -----   \n",
      " 0   Pct        193 non-null    object  \n",
      " 1   Precinct   193 non-null    object  \n",
      " 2   AreaShort  193 non-null    object  \n",
      " 3   CD         193 non-null    object  \n",
      " 4   SD         193 non-null    object  \n",
      " 5   HD         193 non-null    object  \n",
      " 6   geometry   193 non-null    geometry\n",
      " 7   supersite  0 non-null      object  \n",
      "dtypes: geometry(1), object(7)\n",
      "memory usage: 17.6+ KB\n"
     ]
    }
   ],
   "source": [
    "pctgeo['supersite'] = None\n",
    "pctgeo.info()"
   ]
  },
  {
   "cell_type": "code",
   "execution_count": 42,
   "id": "c81a37da",
   "metadata": {},
   "outputs": [],
   "source": [
    "# # Test on one pct in one ss\n",
    "\n",
    "# # get first pct in first supersite\n",
    "# ss = 0\n",
    "# i = 0\n",
    "# pct_in_ss = sspct['pctlist'][ss][i] \n",
    "# print(pct_in_ss)  # 810\n",
    "\n",
    "# # get supersite name\n",
    "# ssname = sspct.loc[0,'Supersite'] \n",
    "# print(ssname)  # Boulder HS\n",
    "\n",
    "# # add supersite name to pctgeo\n",
    "# pctgeo.loc[pct_in_ss, 'supersite'] = ssname\n",
    "# print(pctgeo.loc[pct_in_ss, :])  #  dataframe row\n",
    "\n"
   ]
  },
  {
   "cell_type": "code",
   "execution_count": 43,
   "id": "be617248",
   "metadata": {},
   "outputs": [],
   "source": [
    "# # Test on all precincts in one ss\n",
    "\n",
    "# # get pctlist in first supersite\n",
    "# ss = 0\n",
    "# pctlist = sspct['pctlist'][ss]\n",
    "# print(pctlist, '\\n')  # list of pcts in first supersite\n",
    "\n",
    "# # get supersite name\n",
    "# ssname = sspct.loc[ss,'Supersite'] \n",
    "\n",
    "# # loop through each pct in pctlist\n",
    "\n",
    "# for p in pctlist:\n",
    "    \n",
    "#     print(p, ssname,'\\n')  # Boulder HS\n",
    "\n",
    "#     # add supersite name to pctgeo\n",
    "#     pctgeo.loc[p, 'supersite'] = ssname\n",
    "#     print(pctgeo.loc[p, :], '\\n')  #  dataframe row\n"
   ]
  },
  {
   "cell_type": "code",
   "execution_count": 46,
   "id": "d9b8a911",
   "metadata": {},
   "outputs": [],
   "source": [
    "# Run on all supersites\n",
    "\n",
    "# loop through all supersites\n",
    "for ss in sspct.index:\n",
    "\n",
    "    # get pctlist in first supersite\n",
    "    # ss = 0\n",
    "    pctlist = sspct['pctlist'][ss]\n",
    "    # print(pctlist, '\\n')  # list of pcts in first supersite\n",
    "\n",
    "    # get supersite name\n",
    "    ssname = sspct.loc[ss,'Supersite'] \n",
    "\n",
    "    # loop through each pct in pctlist\n",
    "\n",
    "    for p in pctlist:\n",
    "        \n",
    "        # print(p, ssname,'\\n')  # Boulder HS\n",
    "\n",
    "        # add supersite name to pctgeo\n",
    "        pctgeo.loc[p, 'supersite'] = ssname\n",
    "        # print(pctgeo.loc[p, :], '\\n')  #  dataframe row\n",
    "\n"
   ]
  },
  {
   "cell_type": "code",
   "execution_count": 47,
   "id": "c47b2e05",
   "metadata": {},
   "outputs": [
    {
     "name": "stdout",
     "output_type": "stream",
     "text": [
      "<class 'geopandas.geodataframe.GeoDataFrame'>\n",
      "Index: 196 entries, 002 to 3\n",
      "Data columns (total 8 columns):\n",
      " #   Column     Non-Null Count  Dtype   \n",
      "---  ------     --------------  -----   \n",
      " 0   Pct        193 non-null    object  \n",
      " 1   Precinct   193 non-null    object  \n",
      " 2   AreaShort  193 non-null    object  \n",
      " 3   CD         193 non-null    object  \n",
      " 4   SD         193 non-null    object  \n",
      " 5   HD         193 non-null    object  \n",
      " 6   geometry   193 non-null    geometry\n",
      " 7   supersite  193 non-null    object  \n",
      "dtypes: geometry(1), object(7)\n",
      "memory usage: 17.9+ KB\n"
     ]
    }
   ],
   "source": [
    "pctgeo.info()"
   ]
  },
  {
   "cell_type": "code",
   "execution_count": 48,
   "id": "183831cf",
   "metadata": {},
   "outputs": [
    {
     "data": {
      "text/html": [
       "<div>\n",
       "<style scoped>\n",
       "    .dataframe tbody tr th:only-of-type {\n",
       "        vertical-align: middle;\n",
       "    }\n",
       "\n",
       "    .dataframe tbody tr th {\n",
       "        vertical-align: top;\n",
       "    }\n",
       "\n",
       "    .dataframe thead th {\n",
       "        text-align: right;\n",
       "    }\n",
       "</style>\n",
       "<table border=\"1\" class=\"dataframe\">\n",
       "  <thead>\n",
       "    <tr style=\"text-align: right;\">\n",
       "      <th></th>\n",
       "      <th>Pct</th>\n",
       "      <th>Precinct</th>\n",
       "      <th>AreaShort</th>\n",
       "      <th>CD</th>\n",
       "      <th>SD</th>\n",
       "      <th>HD</th>\n",
       "      <th>geometry</th>\n",
       "      <th>supersite</th>\n",
       "    </tr>\n",
       "    <tr>\n",
       "      <th>Pct</th>\n",
       "      <th></th>\n",
       "      <th></th>\n",
       "      <th></th>\n",
       "      <th></th>\n",
       "      <th></th>\n",
       "      <th></th>\n",
       "      <th></th>\n",
       "      <th></th>\n",
       "    </tr>\n",
       "  </thead>\n",
       "  <tbody>\n",
       "    <tr>\n",
       "      <th>002</th>\n",
       "      <td>002</td>\n",
       "      <td>2151907002</td>\n",
       "      <td>LM-04</td>\n",
       "      <td>2</td>\n",
       "      <td>15</td>\n",
       "      <td>19</td>\n",
       "      <td>POLYGON ((-105.05519 40.19115, -105.05518 40.1...</td>\n",
       "      <td>None</td>\n",
       "    </tr>\n",
       "    <tr>\n",
       "      <th>003</th>\n",
       "      <td>003</td>\n",
       "      <td>2184907003</td>\n",
       "      <td>SU-01</td>\n",
       "      <td>2</td>\n",
       "      <td>18</td>\n",
       "      <td>49</td>\n",
       "      <td>POLYGON ((-105.16920 39.92870, -105.17207 39.9...</td>\n",
       "      <td>None</td>\n",
       "    </tr>\n",
       "    <tr>\n",
       "      <th>004</th>\n",
       "      <td>004</td>\n",
       "      <td>2151207004</td>\n",
       "      <td>BO-01</td>\n",
       "      <td>2</td>\n",
       "      <td>15</td>\n",
       "      <td>12</td>\n",
       "      <td>POLYGON ((-105.18469 39.96263, -105.18459 39.9...</td>\n",
       "      <td>None</td>\n",
       "    </tr>\n",
       "    <tr>\n",
       "      <th>100</th>\n",
       "      <td>100</td>\n",
       "      <td>2181207100</td>\n",
       "      <td>SU-01</td>\n",
       "      <td>2</td>\n",
       "      <td>18</td>\n",
       "      <td>12</td>\n",
       "      <td>POLYGON ((-105.15439 39.92921, -105.15842 39.9...</td>\n",
       "      <td>Eldorado K8</td>\n",
       "    </tr>\n",
       "    <tr>\n",
       "      <th>101</th>\n",
       "      <td>101</td>\n",
       "      <td>2181207101</td>\n",
       "      <td>SU-01</td>\n",
       "      <td>2</td>\n",
       "      <td>18</td>\n",
       "      <td>12</td>\n",
       "      <td>POLYGON ((-105.14702 39.92887, -105.14736 39.9...</td>\n",
       "      <td>Eldorado K8</td>\n",
       "    </tr>\n",
       "  </tbody>\n",
       "</table>\n",
       "</div>"
      ],
      "text/plain": [
       "     Pct    Precinct AreaShort CD  SD  HD  \\\n",
       "Pct                                         \n",
       "002  002  2151907002     LM-04  2  15  19   \n",
       "003  003  2184907003     SU-01  2  18  49   \n",
       "004  004  2151207004     BO-01  2  15  12   \n",
       "100  100  2181207100     SU-01  2  18  12   \n",
       "101  101  2181207101     SU-01  2  18  12   \n",
       "\n",
       "                                              geometry    supersite  \n",
       "Pct                                                                  \n",
       "002  POLYGON ((-105.05519 40.19115, -105.05518 40.1...         None  \n",
       "003  POLYGON ((-105.16920 39.92870, -105.17207 39.9...         None  \n",
       "004  POLYGON ((-105.18469 39.96263, -105.18459 39.9...         None  \n",
       "100  POLYGON ((-105.15439 39.92921, -105.15842 39.9...  Eldorado K8  \n",
       "101  POLYGON ((-105.14702 39.92887, -105.14736 39.9...  Eldorado K8  "
      ]
     },
     "execution_count": 48,
     "metadata": {},
     "output_type": "execute_result"
    }
   ],
   "source": [
    "pctgeo.head()"
   ]
  },
  {
   "cell_type": "code",
   "execution_count": null,
   "id": "9469c5b8",
   "metadata": {},
   "outputs": [],
   "source": []
  },
  {
   "cell_type": "markdown",
   "id": "01211e1c",
   "metadata": {},
   "source": [
    "### Create Supersite borders and save to file"
   ]
  },
  {
   "cell_type": "markdown",
   "id": "3b5ddd3c",
   "metadata": {},
   "source": [
    "###      TEST Create pct outline for BOULDER HIGH SCHOOL SUPERSITE \n",
    "\n",
    "- create a geodataframe with each precinct at BHS\n",
    "- create the outline geometry around all the precincts\n",
    "- add the geometry to a column in the supersite dataframe"
   ]
  },
  {
   "cell_type": "code",
   "execution_count": 61,
   "id": "6833b5be",
   "metadata": {},
   "outputs": [
    {
     "data": {
      "text/html": [
       "<div>\n",
       "<style scoped>\n",
       "    .dataframe tbody tr th:only-of-type {\n",
       "        vertical-align: middle;\n",
       "    }\n",
       "\n",
       "    .dataframe tbody tr th {\n",
       "        vertical-align: top;\n",
       "    }\n",
       "\n",
       "    .dataframe thead th {\n",
       "        text-align: right;\n",
       "    }\n",
       "</style>\n",
       "<table border=\"1\" class=\"dataframe\">\n",
       "  <thead>\n",
       "    <tr style=\"text-align: right;\">\n",
       "      <th></th>\n",
       "      <th>Pct</th>\n",
       "      <th>Precinct</th>\n",
       "      <th>AreaShort</th>\n",
       "      <th>CD</th>\n",
       "      <th>SD</th>\n",
       "      <th>HD</th>\n",
       "      <th>geometry</th>\n",
       "      <th>supersite</th>\n",
       "    </tr>\n",
       "    <tr>\n",
       "      <th>Pct</th>\n",
       "      <th></th>\n",
       "      <th></th>\n",
       "      <th></th>\n",
       "      <th></th>\n",
       "      <th></th>\n",
       "      <th></th>\n",
       "      <th></th>\n",
       "      <th></th>\n",
       "    </tr>\n",
       "  </thead>\n",
       "  <tbody>\n",
       "    <tr>\n",
       "      <th>002</th>\n",
       "      <td>002</td>\n",
       "      <td>2151907002</td>\n",
       "      <td>LM-04</td>\n",
       "      <td>2</td>\n",
       "      <td>15</td>\n",
       "      <td>19</td>\n",
       "      <td>POLYGON ((-105.05519 40.19115, -105.05518 40.1...</td>\n",
       "      <td>None</td>\n",
       "    </tr>\n",
       "    <tr>\n",
       "      <th>003</th>\n",
       "      <td>003</td>\n",
       "      <td>2184907003</td>\n",
       "      <td>SU-01</td>\n",
       "      <td>2</td>\n",
       "      <td>18</td>\n",
       "      <td>49</td>\n",
       "      <td>POLYGON ((-105.16920 39.92870, -105.17207 39.9...</td>\n",
       "      <td>None</td>\n",
       "    </tr>\n",
       "    <tr>\n",
       "      <th>004</th>\n",
       "      <td>004</td>\n",
       "      <td>2151207004</td>\n",
       "      <td>BO-01</td>\n",
       "      <td>2</td>\n",
       "      <td>15</td>\n",
       "      <td>12</td>\n",
       "      <td>POLYGON ((-105.18469 39.96263, -105.18459 39.9...</td>\n",
       "      <td>None</td>\n",
       "    </tr>\n",
       "    <tr>\n",
       "      <th>100</th>\n",
       "      <td>100</td>\n",
       "      <td>2181207100</td>\n",
       "      <td>SU-01</td>\n",
       "      <td>2</td>\n",
       "      <td>18</td>\n",
       "      <td>12</td>\n",
       "      <td>POLYGON ((-105.15439 39.92921, -105.15842 39.9...</td>\n",
       "      <td>Eldorado K8</td>\n",
       "    </tr>\n",
       "    <tr>\n",
       "      <th>101</th>\n",
       "      <td>101</td>\n",
       "      <td>2181207101</td>\n",
       "      <td>SU-01</td>\n",
       "      <td>2</td>\n",
       "      <td>18</td>\n",
       "      <td>12</td>\n",
       "      <td>POLYGON ((-105.14702 39.92887, -105.14736 39.9...</td>\n",
       "      <td>Eldorado K8</td>\n",
       "    </tr>\n",
       "    <tr>\n",
       "      <th>...</th>\n",
       "      <td>...</td>\n",
       "      <td>...</td>\n",
       "      <td>...</td>\n",
       "      <td>...</td>\n",
       "      <td>...</td>\n",
       "      <td>...</td>\n",
       "      <td>...</td>\n",
       "      <td>...</td>\n",
       "    </tr>\n",
       "    <tr>\n",
       "      <th>915</th>\n",
       "      <td>915</td>\n",
       "      <td>2154907915</td>\n",
       "      <td>MT-03</td>\n",
       "      <td>2</td>\n",
       "      <td>15</td>\n",
       "      <td>49</td>\n",
       "      <td>POLYGON ((-105.24898 40.21229, -105.24935 40.2...</td>\n",
       "      <td>Lyons Middle Senior</td>\n",
       "    </tr>\n",
       "    <tr>\n",
       "      <th>916</th>\n",
       "      <td>916</td>\n",
       "      <td>2154907916</td>\n",
       "      <td>MT-03</td>\n",
       "      <td>2</td>\n",
       "      <td>15</td>\n",
       "      <td>49</td>\n",
       "      <td>POLYGON ((-105.19594 40.26146, -105.19971 40.2...</td>\n",
       "      <td>Lyons Middle Senior</td>\n",
       "    </tr>\n",
       "    <tr>\n",
       "      <th>4</th>\n",
       "      <td>NaN</td>\n",
       "      <td>NaN</td>\n",
       "      <td>NaN</td>\n",
       "      <td>NaN</td>\n",
       "      <td>NaN</td>\n",
       "      <td>NaN</td>\n",
       "      <td>None</td>\n",
       "      <td>Manhattan MS</td>\n",
       "    </tr>\n",
       "    <tr>\n",
       "      <th>2</th>\n",
       "      <td>NaN</td>\n",
       "      <td>NaN</td>\n",
       "      <td>NaN</td>\n",
       "      <td>NaN</td>\n",
       "      <td>NaN</td>\n",
       "      <td>NaN</td>\n",
       "      <td>None</td>\n",
       "      <td>Trail Ridge MS</td>\n",
       "    </tr>\n",
       "    <tr>\n",
       "      <th>3</th>\n",
       "      <td>NaN</td>\n",
       "      <td>NaN</td>\n",
       "      <td>NaN</td>\n",
       "      <td>NaN</td>\n",
       "      <td>NaN</td>\n",
       "      <td>NaN</td>\n",
       "      <td>None</td>\n",
       "      <td>Eldorado K8</td>\n",
       "    </tr>\n",
       "  </tbody>\n",
       "</table>\n",
       "<p>196 rows × 8 columns</p>\n",
       "</div>"
      ],
      "text/plain": [
       "     Pct    Precinct AreaShort   CD   SD   HD  \\\n",
       "Pct                                             \n",
       "002  002  2151907002     LM-04    2   15   19   \n",
       "003  003  2184907003     SU-01    2   18   49   \n",
       "004  004  2151207004     BO-01    2   15   12   \n",
       "100  100  2181207100     SU-01    2   18   12   \n",
       "101  101  2181207101     SU-01    2   18   12   \n",
       "..   ...         ...       ...  ...  ...  ...   \n",
       "915  915  2154907915     MT-03    2   15   49   \n",
       "916  916  2154907916     MT-03    2   15   49   \n",
       "4    NaN         NaN       NaN  NaN  NaN  NaN   \n",
       "2    NaN         NaN       NaN  NaN  NaN  NaN   \n",
       "3    NaN         NaN       NaN  NaN  NaN  NaN   \n",
       "\n",
       "                                              geometry            supersite  \n",
       "Pct                                                                          \n",
       "002  POLYGON ((-105.05519 40.19115, -105.05518 40.1...                 None  \n",
       "003  POLYGON ((-105.16920 39.92870, -105.17207 39.9...                 None  \n",
       "004  POLYGON ((-105.18469 39.96263, -105.18459 39.9...                 None  \n",
       "100  POLYGON ((-105.15439 39.92921, -105.15842 39.9...          Eldorado K8  \n",
       "101  POLYGON ((-105.14702 39.92887, -105.14736 39.9...          Eldorado K8  \n",
       "..                                                 ...                  ...  \n",
       "915  POLYGON ((-105.24898 40.21229, -105.24935 40.2...  Lyons Middle Senior  \n",
       "916  POLYGON ((-105.19594 40.26146, -105.19971 40.2...  Lyons Middle Senior  \n",
       "4                                                 None         Manhattan MS  \n",
       "2                                                 None       Trail Ridge MS  \n",
       "3                                                 None          Eldorado K8  \n",
       "\n",
       "[196 rows x 8 columns]"
      ]
     },
     "execution_count": 61,
     "metadata": {},
     "output_type": "execute_result"
    }
   ],
   "source": [
    "pctgeo\n",
    "# pctgeo.loc[ss,'geometry']"
   ]
  },
  {
   "cell_type": "code",
   "execution_count": 69,
   "id": "276f05d7",
   "metadata": {},
   "outputs": [
    {
     "ename": "ValueError",
     "evalue": "Incompatible indexer with Series",
     "output_type": "error",
     "traceback": [
      "\u001b[0;31m---------------------------------------------------------------------------\u001b[0m",
      "\u001b[0;31mValueError\u001b[0m                                Traceback (most recent call last)",
      "Cell \u001b[0;32mIn[69], line 32\u001b[0m\n\u001b[1;32m     28\u001b[0m ssgeom \u001b[38;5;241m=\u001b[39m ssgdf\u001b[38;5;241m.\u001b[39mdissolve()\n\u001b[1;32m     29\u001b[0m \u001b[38;5;66;03m# ssgeom.plot()\u001b[39;00m\n\u001b[1;32m     30\u001b[0m \n\u001b[1;32m     31\u001b[0m \u001b[38;5;66;03m# add supersite geometry to sspct\u001b[39;00m\n\u001b[0;32m---> 32\u001b[0m sspct\u001b[38;5;241m.\u001b[39mloc[ss, \u001b[38;5;124m'\u001b[39m\u001b[38;5;124mgeometry\u001b[39m\u001b[38;5;124m'\u001b[39m] \u001b[38;5;241m=\u001b[39m ssgeom\n\u001b[1;32m     33\u001b[0m \u001b[38;5;28mprint\u001b[39m(sspct\u001b[38;5;241m.\u001b[39mloc[ss, :], \u001b[38;5;124m'\u001b[39m\u001b[38;5;130;01m\\n\u001b[39;00m\u001b[38;5;124m'\u001b[39m)\n",
      "File \u001b[0;32m~/miniconda3/envs/geop12/lib/python3.9/site-packages/pandas/core/indexing.py:885\u001b[0m, in \u001b[0;36m_LocationIndexer.__setitem__\u001b[0;34m(self, key, value)\u001b[0m\n\u001b[1;32m    882\u001b[0m \u001b[38;5;28mself\u001b[39m\u001b[38;5;241m.\u001b[39m_has_valid_setitem_indexer(key)\n\u001b[1;32m    884\u001b[0m iloc \u001b[38;5;241m=\u001b[39m \u001b[38;5;28mself\u001b[39m \u001b[38;5;28;01mif\u001b[39;00m \u001b[38;5;28mself\u001b[39m\u001b[38;5;241m.\u001b[39mname \u001b[38;5;241m==\u001b[39m \u001b[38;5;124m\"\u001b[39m\u001b[38;5;124miloc\u001b[39m\u001b[38;5;124m\"\u001b[39m \u001b[38;5;28;01melse\u001b[39;00m \u001b[38;5;28mself\u001b[39m\u001b[38;5;241m.\u001b[39mobj\u001b[38;5;241m.\u001b[39miloc\n\u001b[0;32m--> 885\u001b[0m \u001b[43miloc\u001b[49m\u001b[38;5;241;43m.\u001b[39;49m\u001b[43m_setitem_with_indexer\u001b[49m\u001b[43m(\u001b[49m\u001b[43mindexer\u001b[49m\u001b[43m,\u001b[49m\u001b[43m \u001b[49m\u001b[43mvalue\u001b[49m\u001b[43m,\u001b[49m\u001b[43m \u001b[49m\u001b[38;5;28;43mself\u001b[39;49m\u001b[38;5;241;43m.\u001b[39;49m\u001b[43mname\u001b[49m\u001b[43m)\u001b[49m\n",
      "File \u001b[0;32m~/miniconda3/envs/geop12/lib/python3.9/site-packages/pandas/core/indexing.py:1893\u001b[0m, in \u001b[0;36m_iLocIndexer._setitem_with_indexer\u001b[0;34m(self, indexer, value, name)\u001b[0m\n\u001b[1;32m   1890\u001b[0m \u001b[38;5;66;03m# align and set the values\u001b[39;00m\n\u001b[1;32m   1891\u001b[0m \u001b[38;5;28;01mif\u001b[39;00m take_split_path:\n\u001b[1;32m   1892\u001b[0m     \u001b[38;5;66;03m# We have to operate column-wise\u001b[39;00m\n\u001b[0;32m-> 1893\u001b[0m     \u001b[38;5;28;43mself\u001b[39;49m\u001b[38;5;241;43m.\u001b[39;49m\u001b[43m_setitem_with_indexer_split_path\u001b[49m\u001b[43m(\u001b[49m\u001b[43mindexer\u001b[49m\u001b[43m,\u001b[49m\u001b[43m \u001b[49m\u001b[43mvalue\u001b[49m\u001b[43m,\u001b[49m\u001b[43m \u001b[49m\u001b[43mname\u001b[49m\u001b[43m)\u001b[49m\n\u001b[1;32m   1894\u001b[0m \u001b[38;5;28;01melse\u001b[39;00m:\n\u001b[1;32m   1895\u001b[0m     \u001b[38;5;28mself\u001b[39m\u001b[38;5;241m.\u001b[39m_setitem_single_block(indexer, value, name)\n",
      "File \u001b[0;32m~/miniconda3/envs/geop12/lib/python3.9/site-packages/pandas/core/indexing.py:1928\u001b[0m, in \u001b[0;36m_iLocIndexer._setitem_with_indexer_split_path\u001b[0;34m(self, indexer, value, name)\u001b[0m\n\u001b[1;32m   1926\u001b[0m \u001b[38;5;28;01mif\u001b[39;00m is_list_like_indexer(value) \u001b[38;5;129;01mand\u001b[39;00m \u001b[38;5;28mgetattr\u001b[39m(value, \u001b[38;5;124m\"\u001b[39m\u001b[38;5;124mndim\u001b[39m\u001b[38;5;124m\"\u001b[39m, \u001b[38;5;241m1\u001b[39m) \u001b[38;5;241m>\u001b[39m \u001b[38;5;241m0\u001b[39m:\n\u001b[1;32m   1927\u001b[0m     \u001b[38;5;28;01mif\u001b[39;00m \u001b[38;5;28misinstance\u001b[39m(value, ABCDataFrame):\n\u001b[0;32m-> 1928\u001b[0m         \u001b[38;5;28;43mself\u001b[39;49m\u001b[38;5;241;43m.\u001b[39;49m\u001b[43m_setitem_with_indexer_frame_value\u001b[49m\u001b[43m(\u001b[49m\u001b[43mindexer\u001b[49m\u001b[43m,\u001b[49m\u001b[43m \u001b[49m\u001b[43mvalue\u001b[49m\u001b[43m,\u001b[49m\u001b[43m \u001b[49m\u001b[43mname\u001b[49m\u001b[43m)\u001b[49m\n\u001b[1;32m   1930\u001b[0m     \u001b[38;5;28;01melif\u001b[39;00m np\u001b[38;5;241m.\u001b[39mndim(value) \u001b[38;5;241m==\u001b[39m \u001b[38;5;241m2\u001b[39m:\n\u001b[1;32m   1931\u001b[0m         \u001b[38;5;66;03m# TODO: avoid np.ndim call in case it isn't an ndarray, since\u001b[39;00m\n\u001b[1;32m   1932\u001b[0m         \u001b[38;5;66;03m#  that will construct an ndarray, which will be wasteful\u001b[39;00m\n\u001b[1;32m   1933\u001b[0m         \u001b[38;5;28mself\u001b[39m\u001b[38;5;241m.\u001b[39m_setitem_with_indexer_2d_value(indexer, value)\n",
      "File \u001b[0;32m~/miniconda3/envs/geop12/lib/python3.9/site-packages/pandas/core/indexing.py:2051\u001b[0m, in \u001b[0;36m_iLocIndexer._setitem_with_indexer_frame_value\u001b[0;34m(self, indexer, value, name)\u001b[0m\n\u001b[1;32m   2049\u001b[0m \u001b[38;5;28;01mif\u001b[39;00m item \u001b[38;5;129;01min\u001b[39;00m value:\n\u001b[1;32m   2050\u001b[0m     sub_indexer[\u001b[38;5;241m1\u001b[39m] \u001b[38;5;241m=\u001b[39m item\n\u001b[0;32m-> 2051\u001b[0m     val \u001b[38;5;241m=\u001b[39m \u001b[38;5;28;43mself\u001b[39;49m\u001b[38;5;241;43m.\u001b[39;49m\u001b[43m_align_series\u001b[49m\u001b[43m(\u001b[49m\n\u001b[1;32m   2052\u001b[0m \u001b[43m        \u001b[49m\u001b[38;5;28;43mtuple\u001b[39;49m\u001b[43m(\u001b[49m\u001b[43msub_indexer\u001b[49m\u001b[43m)\u001b[49m\u001b[43m,\u001b[49m\n\u001b[1;32m   2053\u001b[0m \u001b[43m        \u001b[49m\u001b[43mvalue\u001b[49m\u001b[43m[\u001b[49m\u001b[43mitem\u001b[49m\u001b[43m]\u001b[49m\u001b[43m,\u001b[49m\n\u001b[1;32m   2054\u001b[0m \u001b[43m        \u001b[49m\u001b[43mmultiindex_indexer\u001b[49m\u001b[43m,\u001b[49m\n\u001b[1;32m   2055\u001b[0m \u001b[43m        \u001b[49m\u001b[43musing_cow\u001b[49m\u001b[38;5;241;43m=\u001b[39;49m\u001b[43musing_copy_on_write\u001b[49m\u001b[43m(\u001b[49m\u001b[43m)\u001b[49m\u001b[43m,\u001b[49m\n\u001b[1;32m   2056\u001b[0m \u001b[43m    \u001b[49m\u001b[43m)\u001b[49m\n\u001b[1;32m   2057\u001b[0m \u001b[38;5;28;01melse\u001b[39;00m:\n\u001b[1;32m   2058\u001b[0m     val \u001b[38;5;241m=\u001b[39m np\u001b[38;5;241m.\u001b[39mnan\n",
      "File \u001b[0;32m~/miniconda3/envs/geop12/lib/python3.9/site-packages/pandas/core/indexing.py:2368\u001b[0m, in \u001b[0;36m_iLocIndexer._align_series\u001b[0;34m(self, indexer, ser, multiindex_indexer, using_cow)\u001b[0m\n\u001b[1;32m   2364\u001b[0m         \u001b[38;5;28;01mreturn\u001b[39;00m ser\u001b[38;5;241m.\u001b[39m_values\u001b[38;5;241m.\u001b[39mcopy()\n\u001b[1;32m   2366\u001b[0m     \u001b[38;5;28;01mreturn\u001b[39;00m ser\u001b[38;5;241m.\u001b[39mreindex(ax)\u001b[38;5;241m.\u001b[39m_values\n\u001b[0;32m-> 2368\u001b[0m \u001b[38;5;28;01mraise\u001b[39;00m \u001b[38;5;167;01mValueError\u001b[39;00m(\u001b[38;5;124m\"\u001b[39m\u001b[38;5;124mIncompatible indexer with Series\u001b[39m\u001b[38;5;124m\"\u001b[39m)\n",
      "\u001b[0;31mValueError\u001b[0m: Incompatible indexer with Series"
     ]
    }
   ],
   "source": [
    "# Test create an outline of all precincts in one ss\n",
    "\n",
    "# get pctlist in first supersite\n",
    "ss = 0\n",
    "ssname = sspct['Supersite'][ss]\n",
    "pctlist = sspct['pctlist'][ss]\n",
    "# print(ssname, pctlist, '\\n')  # list of pcts in first supersite\n",
    "\n",
    "# create an empty geodataframe to collect the supersite precints geometry\n",
    "ssgdfcols = ['Pct', 'Supersite', 'pgeom']\n",
    "ssgdf = gpd.GeoDataFrame(columns=ssgdfcols, geometry='pgeom')\n",
    "# print(ssgdf.info())\n",
    "\n",
    "#  add a row for each precinct in pctlist\n",
    "\n",
    "for p in pctlist:\n",
    "    \n",
    "    # print(p, ssname,'\\n')  # Boulder HS\n",
    "\n",
    "    # add precinct geometry to ssgdf\n",
    "    pgeom = pctgeo.loc[p,'geometry']\n",
    "    # print(pgeom)\n",
    "    ssgdf.loc[p, 'pgeom'] = pgeom\n",
    "# print(ssgdf)\n",
    "\n",
    "# calculate supersite border geometry\n",
    "\n",
    "ssgeom = ssgdf.dissolve()\n",
    "# ssgeom.plot()\n",
    "\n",
    "# add supersite geometry to sspctgdf\n",
    "sspctgdf.loc[ss, 'ssgeom'] = ssgeom\n",
    "print(sspct.loc[ss, :], '\\n')  #  dataframe row\n",
    "\n"
   ]
  },
  {
   "cell_type": "code",
   "execution_count": null,
   "id": "cfd4a9b7",
   "metadata": {},
   "outputs": [],
   "source": []
  },
  {
   "cell_type": "code",
   "execution_count": null,
   "id": "35e7b049",
   "metadata": {},
   "outputs": [],
   "source": []
  },
  {
   "cell_type": "code",
   "execution_count": null,
   "id": "c5de9ba0",
   "metadata": {},
   "outputs": [],
   "source": [
    "\n",
    "# this sets all column names and data types correctly\n",
    "# area_gdf = gpd.GeoDataFrame(area_groups.get_group('BO-01').dissolve())\n",
    "# area_gdf.plot()"
   ]
  },
  {
   "cell_type": "code",
   "execution_count": null,
   "id": "ebe3d9ba",
   "metadata": {},
   "outputs": [],
   "source": []
  },
  {
   "cell_type": "code",
   "execution_count": null,
   "id": "a504dd97",
   "metadata": {},
   "outputs": [],
   "source": []
  },
  {
   "cell_type": "markdown",
   "id": "0d801024-b3fe-445e-b051-9249a00b616e",
   "metadata": {
    "tags": []
   },
   "source": [
    "### REFERENCE CODE from pct_area_geom.ipynb  Create Area Boundaries\n",
    "- use .dissolve() to aggregate precincts into Areas and return Area boundary geometry"
   ]
  },
  {
   "cell_type": "code",
   "execution_count": null,
   "id": "8e4912df-06a5-496f-8d08-2400d25ccb5e",
   "metadata": {},
   "outputs": [],
   "source": [
    "area_groups = pctgeo.groupby('AreaShort')"
   ]
  },
  {
   "cell_type": "code",
   "execution_count": null,
   "id": "b4d01e79-0da2-4409-8af7-c344398c2f73",
   "metadata": {},
   "outputs": [],
   "source": [
    "area_groups.groups"
   ]
  },
  {
   "cell_type": "code",
   "execution_count": null,
   "id": "93f13dcd",
   "metadata": {},
   "outputs": [],
   "source": [
    "# type(area_groups.get_group('BO-01'))\n",
    "area_groups.get_group('BO-01')"
   ]
  },
  {
   "cell_type": "code",
   "execution_count": null,
   "id": "5be60dd8",
   "metadata": {},
   "outputs": [],
   "source": []
  },
  {
   "cell_type": "code",
   "execution_count": null,
   "id": "ea9393fd-a1fe-4a13-9770-f07b18c7960c",
   "metadata": {
    "tags": []
   },
   "outputs": [],
   "source": [
    "# Create boundary for each Area from outline of precincts in Area\n",
    "for name, group in area_groups:\n",
    "    area_gdf = pd.concat([area_gdf, group.dissolve()], ignore_index=True)   "
   ]
  },
  {
   "cell_type": "code",
   "execution_count": null,
   "id": "058b30bc-50e2-40fa-875b-ac5eaa366108",
   "metadata": {},
   "outputs": [],
   "source": [
    "area_gdf.info()"
   ]
  },
  {
   "cell_type": "code",
   "execution_count": null,
   "id": "dc7e3f5a-fcd1-4fb1-b967-7f185a71bc14",
   "metadata": {},
   "outputs": [],
   "source": [
    "area_gdf"
   ]
  },
  {
   "cell_type": "code",
   "execution_count": null,
   "id": "1053ccef-48d2-4aca-b5c2-bf1d50759ad2",
   "metadata": {},
   "outputs": [],
   "source": [
    "# Delete duplicate 1st row\n",
    "area_gdf.drop(0, inplace=True)"
   ]
  },
  {
   "cell_type": "code",
   "execution_count": null,
   "id": "abfd9f94-19dd-44bf-b911-96507aac5c2f",
   "metadata": {},
   "outputs": [],
   "source": [
    "area_gdf = area_gdf[['AreaShort', 'geometry']]\n",
    "area_gdf"
   ]
  },
  {
   "cell_type": "code",
   "execution_count": null,
   "id": "ac839477-7798-4644-aafc-1a37fd14c162",
   "metadata": {},
   "outputs": [],
   "source": [
    "area_gdf.plot()"
   ]
  },
  {
   "cell_type": "code",
   "execution_count": null,
   "id": "c272611c-4e67-481b-b31f-b2b70f6a45e3",
   "metadata": {},
   "outputs": [],
   "source": [
    "area_gdf.to_file('../geo/geojson/areas.geojson', driver='GeoJSON')"
   ]
  },
  {
   "cell_type": "markdown",
   "id": "910e465d",
   "metadata": {},
   "source": [
    "### test areas.geojson"
   ]
  },
  {
   "cell_type": "code",
   "execution_count": null,
   "id": "ef665427-db69-4655-a6dd-9878f9534e75",
   "metadata": {},
   "outputs": [],
   "source": [
    "area_test = gpd.read_file('../geo/geojson/areas.geojson', driver='GeoJSON')\n",
    "area_test.info()"
   ]
  },
  {
   "cell_type": "code",
   "execution_count": null,
   "id": "21d85e91-815c-42cb-b6b0-1bbdc66f5238",
   "metadata": {},
   "outputs": [],
   "source": [
    "area_test[area_test.AreaShort == 'BO-09'].plot()"
   ]
  },
  {
   "cell_type": "markdown",
   "id": "82374aeb-c767-4dba-94c0-3de3ce8fdf42",
   "metadata": {
    "jp-MarkdownHeadingCollapsed": true,
    "tags": []
   },
   "source": [
    "## Transform data in dataframes"
   ]
  },
  {
   "cell_type": "markdown",
   "id": "426919e3-d829-4d23-8766-38705fab26ac",
   "metadata": {},
   "source": [
    "## Save transformed data in map format files"
   ]
  },
  {
   "cell_type": "code",
   "execution_count": null,
   "id": "6cd5d5f9-8a76-4769-80fa-f740f6e6bd5f",
   "metadata": {},
   "outputs": [],
   "source": []
  },
  {
   "cell_type": "code",
   "execution_count": null,
   "id": "0d5d2c62-5bac-4197-9284-5d015ffa8b49",
   "metadata": {},
   "outputs": [],
   "source": []
  }
 ],
 "metadata": {
  "kernelspec": {
   "display_name": "Python 3 (ipykernel)",
   "language": "python",
   "name": "python3"
  },
  "language_info": {
   "codemirror_mode": {
    "name": "ipython",
    "version": 3
   },
   "file_extension": ".py",
   "mimetype": "text/x-python",
   "name": "python",
   "nbconvert_exporter": "python",
   "pygments_lexer": "ipython3",
   "version": "3.9.17"
  }
 },
 "nbformat": 4,
 "nbformat_minor": 5
}
