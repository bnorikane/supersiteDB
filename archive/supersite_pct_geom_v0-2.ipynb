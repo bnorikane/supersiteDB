{
 "cells": [
  {
   "cell_type": "markdown",
   "id": "3dd1ac9e-0cc1-4244-9dfc-56da05c2b99a",
   "metadata": {},
   "source": [
    "# Create supersites_geom.geojson geojson file with the caucus supersite borders\n",
    "    \n",
    "1. create supersites DataFrame from Judi's supersite precinct file\n",
    "2. add ssname column to each precinct in pctgeo and save in pct_supersite.geojson\n",
    "3. create pctgeo (precinct GeoDataFrame with precinct geometry from current pct_area_boulder.geojson file)\n",
    "4. create supersitesgeo and add ssgeom column (supersite GeoDataFrame from supersites)\n",
    "5. for each supersite create ssgeom around the precincts in the supersite\n",
    "    - add ssgeom to each supersite in supersitesgeo\n",
    "6. Save files in geojson format ready to be used directly in an online map\n",
    "    - GeoJSON output files for Leaflet\n",
    "\n",
    "\n",
    "- NOTE: need to update precinct to Supersite geojson every time a Supersite/precinct list is modified \n",
    "    - e.g. move precincts 814 and 823 from Frasier to Manhatten\n",
    "\n",
    "- Started: January 7, 2024\n",
    "- Update: January 8, 2024 - large revision - add ssname column to supersites\n",
    "- Update: January 9, 2023 - version 0.1.0 add ssgeom to supersitesgeo\n",
    "- Update: January 12, 2023 - version 0.2.0 add pctlist column to supersites dataframe\n",
    "\n",
    "### Variables\n",
    "\n",
    "- supersites    - DataFrame read from Judi's supersite file\n",
    "- pctgeo        - GeoDataFrame read from pct_area_boulder.geojson\n",
    "- sss_pcts_lists    - list of lists of all the precincts at a supersite\n",
    "\n",
    "### Input Files\n",
    "\n",
    "- Judi Bodinger's Caucus Supersite file with precinct column\n",
    "    - supersiteDB/data/Draft Supersites-judi-20240106.xlsx\n",
    "        - Supersite\n",
    "        - Pct #'s\n",
    "        ...\n",
    "- 2022 precinct geometry file\n",
    "    - data/pct_area_boulder.geojson\n",
    "\n",
    "### Output Files\n",
    "- supersites_geom.geojson\n",
    "  - ssname\n",
    "  - ssgeom - border around all precincts\n",
    "- pct_supersite.geojson\n"
   ]
  },
  {
   "cell_type": "markdown",
   "id": "8f40d0bf",
   "metadata": {},
   "source": [
    "##     ISSUES\n",
    "\n",
    "#### Precinct format mismatch\n",
    "- pct_area_boulder.geojson lists zero-filled precincts, e.g. 002, 003, 004\n",
    "- Draft Supersites-judi-20240106.xlsx lists single-digit precincts, e.g. 2, 3, 4\n",
    "    - notebook creates rows for both, 002 and 2, 003 and 3, 004 and 4\n",
    "    - not critical failure but should be fixed. \n",
    "- WORKAROUND: drop extra rows 2, 3, 4\n",
    "- FIXED: zfill precincts when reading in Judi's file\n"
   ]
  },
  {
   "cell_type": "code",
   "execution_count": 1,
   "id": "9b66485f-7f6d-4d5f-bfca-3ef066a25931",
   "metadata": {
    "tags": []
   },
   "outputs": [],
   "source": [
    "import pandas as pd\n",
    "import geopandas as gpd\n",
    "# import fiona\n",
    "# import numpy as np"
   ]
  },
  {
   "cell_type": "markdown",
   "id": "57440289-839b-48bb-b876-7308d25c19c2",
   "metadata": {
    "tags": []
   },
   "source": [
    "## 1. Create supersites - dataframe of supersites with list of precincts in a column  \n",
    "- start with Judi's spreadsheet\n",
    "### 2 add pctlist column to supersites and save in pct_supersite.geojson\n",
    "- convert string of precinct numbers to list of precincts\n",
    "- add pctlist to each supersite\n",
    "- save in pct_supersite.geojson"
   ]
  },
  {
   "cell_type": "code",
   "execution_count": 2,
   "id": "87cb8e7d",
   "metadata": {},
   "outputs": [],
   "source": [
    "# Convert string of precinct numbers to list of precincts\n",
    "\n",
    "def pctstr_to_list(ss) :\n",
    "\n",
    "    # transform each string in the list to a list of precinct numbers\n",
    "    pctlist = ss[\"Pct #'s\"].str.rstrip(',').str.split(',')\n",
    "\n",
    "    # add leading zeros to single-digit precincts\n",
    "    pctlist = [ [p.zfill(3) for p in pl] for pl in pctlist]\n",
    "    \n",
    "    return pctlist   \n"
   ]
  },
  {
   "cell_type": "code",
   "execution_count": 3,
   "id": "a9d9346b",
   "metadata": {},
   "outputs": [
    {
     "name": "stdout",
     "output_type": "stream",
     "text": [
      "<class 'pandas.core.frame.DataFrame'>\n",
      "RangeIndex: 20 entries, 0 to 19\n",
      "Data columns (total 13 columns):\n",
      " #   Column                  Non-Null Count  Dtype  \n",
      "---  ------                  --------------  -----  \n",
      " 0   Supersite               20 non-null     object \n",
      " 1   Region                  20 non-null     object \n",
      " 2   # of Reg Dems           20 non-null     int64  \n",
      " 3   Forecast of  Attendees  20 non-null     float64\n",
      " 4   # of Pct's              20 non-null     int64  \n",
      " 5   Pct #'s                 20 non-null     object \n",
      " 6   # of Chairs             20 non-null     int64  \n",
      " 7   Chair Name              20 non-null     object \n",
      " 8   Chair2 Name             13 non-null     object \n",
      " 9   Chair3 Name             8 non-null      object \n",
      " 10  chair 4 Name            2 non-null      object \n",
      " 11  Chair 5 Name            1 non-null      object \n",
      " 12  pctlist                 20 non-null     object \n",
      "dtypes: float64(1), int64(3), object(9)\n",
      "memory usage: 2.2+ KB\n"
     ]
    }
   ],
   "source": [
    "# Read current supersite list\n",
    "supersites = pd.read_excel('data/Draft Supersites-judi-20240106.xlsx', sheet_name='Draft 1-6', skiprows=3)\n",
    "\n",
    "# add pctlist column to supersites datafram\n",
    "supersites = supersites.assign(pctlist = pctstr_to_list)\n",
    "\n",
    "supersites.info()\n"
   ]
  },
  {
   "cell_type": "code",
   "execution_count": 4,
   "id": "e3a88e24",
   "metadata": {},
   "outputs": [
    {
     "data": {
      "text/plain": [
       "0     [810, 817, 818, 820, 821, 828, 829, 831, 832, ...\n",
       "1                   [822, 823, 824, 825, 826, 827, 910]\n",
       "2     [803, 804, 805, 806, 807, 808, 811, 812, 813, ...\n",
       "3                                                 [913]\n",
       "4     [004, 500, 501, 834, 835, 836, 837, 838, 839, ...\n",
       "5     [830, 843, 844, 845, 846, 847, 850, 851, 852, ...\n",
       "6         [400, 401, 402, 403, 404, 405, 406, 407, 408]\n",
       "7     [503, 504, 505, 506, 507, 508, 509, 510, 800, ...\n",
       "8     [300, 301, 302, 303, 304, 305, 306, 307, 308, ...\n",
       "9     [606, 607, 608, 609, 610, 611, 614, 615, 616, ...\n",
       "10             [600, 601, 602, 603, 604, 605, 612, 613]\n",
       "11    [626, 627, 628, 629, 643, 644, 645, 646, 617, ...\n",
       "12    [002, 618, 619, 620, 621, 622, 623, 633, 634, ...\n",
       "13    [200, 201, 202, 203, 204, 205, 206, 207, 208, ...\n",
       "14                                                [914]\n",
       "15                                                [909]\n",
       "16                            [700, 701, 702, 915, 916]\n",
       "17                       [901, 902, 903, 904, 905, 907]\n",
       "18                                                [908]\n",
       "19             [003, 100, 101, 102, 103, 104, 105, 106]\n",
       "Name: pctlist, dtype: object"
      ]
     },
     "execution_count": 4,
     "metadata": {},
     "output_type": "execute_result"
    }
   ],
   "source": [
    "# check pctlist \n",
    "# - list of precincts for each supersites\n",
    "# - each precinct is 3-digits, e.g. 810 or 002\n",
    "supersites['pctlist']"
   ]
  },
  {
   "cell_type": "markdown",
   "id": "728d6c8c-cf19-4b5d-be6d-a6e2b4b45db2",
   "metadata": {},
   "source": [
    "## 3 Create pctgeo - supersite pct Boundary Files\n"
   ]
  },
  {
   "cell_type": "code",
   "execution_count": 9,
   "id": "d6d516b4",
   "metadata": {},
   "outputs": [
    {
     "name": "stdout",
     "output_type": "stream",
     "text": [
      "<class 'geopandas.geodataframe.GeoDataFrame'>\n",
      "Index: 193 entries, 002 to 916\n",
      "Data columns (total 7 columns):\n",
      " #   Column     Non-Null Count  Dtype   \n",
      "---  ------     --------------  -----   \n",
      " 0   Pct        193 non-null    object  \n",
      " 1   Precinct   193 non-null    object  \n",
      " 2   AreaShort  193 non-null    object  \n",
      " 3   CD         193 non-null    object  \n",
      " 4   SD         193 non-null    object  \n",
      " 5   HD         193 non-null    object  \n",
      " 6   geometry   193 non-null    geometry\n",
      "dtypes: geometry(1), object(6)\n",
      "memory usage: 16.1+ KB\n"
     ]
    }
   ],
   "source": [
    "# 2. Create GeoDataframe from file with individual precinct boundaries\n",
    "# data/pct_area_boulder.geojson\n",
    "pctgeo = gpd.read_file('data/pct_area_boulder.geojson', driver='GEOJSON')\n",
    "\n",
    "# set pctgeo index to Pct\n",
    "pctgeo = pctgeo.set_index('Pct', drop=False)\n",
    "\n",
    "pctgeo.info()\n"
   ]
  },
  {
   "cell_type": "code",
   "execution_count": 11,
   "id": "0b441dfc",
   "metadata": {},
   "outputs": [
    {
     "data": {
      "text/html": [
       "<div>\n",
       "<style scoped>\n",
       "    .dataframe tbody tr th:only-of-type {\n",
       "        vertical-align: middle;\n",
       "    }\n",
       "\n",
       "    .dataframe tbody tr th {\n",
       "        vertical-align: top;\n",
       "    }\n",
       "\n",
       "    .dataframe thead th {\n",
       "        text-align: right;\n",
       "    }\n",
       "</style>\n",
       "<table border=\"1\" class=\"dataframe\">\n",
       "  <thead>\n",
       "    <tr style=\"text-align: right;\">\n",
       "      <th></th>\n",
       "      <th>Pct</th>\n",
       "      <th>Precinct</th>\n",
       "      <th>AreaShort</th>\n",
       "      <th>CD</th>\n",
       "      <th>SD</th>\n",
       "      <th>HD</th>\n",
       "      <th>geometry</th>\n",
       "    </tr>\n",
       "    <tr>\n",
       "      <th>Pct</th>\n",
       "      <th></th>\n",
       "      <th></th>\n",
       "      <th></th>\n",
       "      <th></th>\n",
       "      <th></th>\n",
       "      <th></th>\n",
       "      <th></th>\n",
       "    </tr>\n",
       "  </thead>\n",
       "  <tbody>\n",
       "    <tr>\n",
       "      <th>002</th>\n",
       "      <td>002</td>\n",
       "      <td>2151907002</td>\n",
       "      <td>LM-04</td>\n",
       "      <td>2</td>\n",
       "      <td>15</td>\n",
       "      <td>19</td>\n",
       "      <td>POLYGON ((-105.05519 40.19115, -105.05518 40.1...</td>\n",
       "    </tr>\n",
       "    <tr>\n",
       "      <th>003</th>\n",
       "      <td>003</td>\n",
       "      <td>2184907003</td>\n",
       "      <td>SU-01</td>\n",
       "      <td>2</td>\n",
       "      <td>18</td>\n",
       "      <td>49</td>\n",
       "      <td>POLYGON ((-105.16920 39.92870, -105.17207 39.9...</td>\n",
       "    </tr>\n",
       "    <tr>\n",
       "      <th>004</th>\n",
       "      <td>004</td>\n",
       "      <td>2151207004</td>\n",
       "      <td>BO-01</td>\n",
       "      <td>2</td>\n",
       "      <td>15</td>\n",
       "      <td>12</td>\n",
       "      <td>POLYGON ((-105.18469 39.96263, -105.18459 39.9...</td>\n",
       "    </tr>\n",
       "    <tr>\n",
       "      <th>100</th>\n",
       "      <td>100</td>\n",
       "      <td>2181207100</td>\n",
       "      <td>SU-01</td>\n",
       "      <td>2</td>\n",
       "      <td>18</td>\n",
       "      <td>12</td>\n",
       "      <td>POLYGON ((-105.15439 39.92921, -105.15842 39.9...</td>\n",
       "    </tr>\n",
       "    <tr>\n",
       "      <th>101</th>\n",
       "      <td>101</td>\n",
       "      <td>2181207101</td>\n",
       "      <td>SU-01</td>\n",
       "      <td>2</td>\n",
       "      <td>18</td>\n",
       "      <td>12</td>\n",
       "      <td>POLYGON ((-105.14702 39.92887, -105.14736 39.9...</td>\n",
       "    </tr>\n",
       "  </tbody>\n",
       "</table>\n",
       "</div>"
      ],
      "text/plain": [
       "     Pct    Precinct AreaShort CD  SD  HD  \\\n",
       "Pct                                         \n",
       "002  002  2151907002     LM-04  2  15  19   \n",
       "003  003  2184907003     SU-01  2  18  49   \n",
       "004  004  2151207004     BO-01  2  15  12   \n",
       "100  100  2181207100     SU-01  2  18  12   \n",
       "101  101  2181207101     SU-01  2  18  12   \n",
       "\n",
       "                                              geometry  \n",
       "Pct                                                     \n",
       "002  POLYGON ((-105.05519 40.19115, -105.05518 40.1...  \n",
       "003  POLYGON ((-105.16920 39.92870, -105.17207 39.9...  \n",
       "004  POLYGON ((-105.18469 39.96263, -105.18459 39.9...  \n",
       "100  POLYGON ((-105.15439 39.92921, -105.15842 39.9...  \n",
       "101  POLYGON ((-105.14702 39.92887, -105.14736 39.9...  "
      ]
     },
     "execution_count": 11,
     "metadata": {},
     "output_type": "execute_result"
    }
   ],
   "source": [
    "pctgeo.head()"
   ]
  },
  {
   "cell_type": "markdown",
   "id": "8fdd5977-ebf0-4688-aa1c-0bd9200b2498",
   "metadata": {},
   "source": [
    "### Check precinct data in  geodataframe\n",
    "- Number of precincts = 193\n",
    "- Number of Areas = 27\n",
    "- Review Area_Short column\n",
    "- Check # of precincts in each Area"
   ]
  },
  {
   "cell_type": "code",
   "execution_count": 12,
   "id": "600f3a03",
   "metadata": {},
   "outputs": [
    {
     "data": {
      "text/plain": [
       "193"
      ]
     },
     "execution_count": 12,
     "metadata": {},
     "output_type": "execute_result"
    }
   ],
   "source": [
    "pctgeo['Pct'].nunique() # 193"
   ]
  },
  {
   "cell_type": "code",
   "execution_count": 13,
   "id": "c7cfe64e-a840-4085-a562-b9d753f60567",
   "metadata": {},
   "outputs": [
    {
     "data": {
      "text/plain": [
       "27"
      ]
     },
     "execution_count": 13,
     "metadata": {},
     "output_type": "execute_result"
    }
   ],
   "source": [
    "pctgeo.AreaShort.nunique() # 27"
   ]
  },
  {
   "cell_type": "code",
   "execution_count": 14,
   "id": "e2fcad2c-e2aa-45f9-8231-d7658f87307b",
   "metadata": {},
   "outputs": [
    {
     "data": {
      "text/plain": [
       "AreaShort\n",
       "BO-01     7\n",
       "BO-02     5\n",
       "BO-03     6\n",
       "BO-04    10\n",
       "BO-05     5\n",
       "BO-07     6\n",
       "BO-08     5\n",
       "BO-09     5\n",
       "BO-10     7\n",
       "BO-11     6\n",
       "ER-01     9\n",
       "GN-01     7\n",
       "LF-01     9\n",
       "LF-02    11\n",
       "LM-01     7\n",
       "LM-02     7\n",
       "LM-03     7\n",
       "LM-04     9\n",
       "LM-05     8\n",
       "LM-06     8\n",
       "LM-07    10\n",
       "LV-01     7\n",
       "LV-02     6\n",
       "MT-01     6\n",
       "MT-02     6\n",
       "MT-03     6\n",
       "SU-01     8\n",
       "Name: count, dtype: int64"
      ]
     },
     "execution_count": 14,
     "metadata": {},
     "output_type": "execute_result"
    }
   ],
   "source": [
    "pctgeo.value_counts('AreaShort').sort_index()"
   ]
  },
  {
   "cell_type": "code",
   "execution_count": 15,
   "id": "687cdce0",
   "metadata": {},
   "outputs": [
    {
     "data": {
      "text/html": [
       "<div>\n",
       "<style scoped>\n",
       "    .dataframe tbody tr th:only-of-type {\n",
       "        vertical-align: middle;\n",
       "    }\n",
       "\n",
       "    .dataframe tbody tr th {\n",
       "        vertical-align: top;\n",
       "    }\n",
       "\n",
       "    .dataframe thead th {\n",
       "        text-align: right;\n",
       "    }\n",
       "</style>\n",
       "<table border=\"1\" class=\"dataframe\">\n",
       "  <thead>\n",
       "    <tr style=\"text-align: right;\">\n",
       "      <th></th>\n",
       "      <th>Pct</th>\n",
       "      <th>Precinct</th>\n",
       "      <th>AreaShort</th>\n",
       "      <th>CD</th>\n",
       "      <th>SD</th>\n",
       "      <th>HD</th>\n",
       "      <th>geometry</th>\n",
       "    </tr>\n",
       "    <tr>\n",
       "      <th>Pct</th>\n",
       "      <th></th>\n",
       "      <th></th>\n",
       "      <th></th>\n",
       "      <th></th>\n",
       "      <th></th>\n",
       "      <th></th>\n",
       "      <th></th>\n",
       "    </tr>\n",
       "  </thead>\n",
       "  <tbody>\n",
       "    <tr>\n",
       "      <th>002</th>\n",
       "      <td>002</td>\n",
       "      <td>2151907002</td>\n",
       "      <td>LM-04</td>\n",
       "      <td>2</td>\n",
       "      <td>15</td>\n",
       "      <td>19</td>\n",
       "      <td>POLYGON ((-105.05519 40.19115, -105.05518 40.1...</td>\n",
       "    </tr>\n",
       "    <tr>\n",
       "      <th>003</th>\n",
       "      <td>003</td>\n",
       "      <td>2184907003</td>\n",
       "      <td>SU-01</td>\n",
       "      <td>2</td>\n",
       "      <td>18</td>\n",
       "      <td>49</td>\n",
       "      <td>POLYGON ((-105.16920 39.92870, -105.17207 39.9...</td>\n",
       "    </tr>\n",
       "    <tr>\n",
       "      <th>004</th>\n",
       "      <td>004</td>\n",
       "      <td>2151207004</td>\n",
       "      <td>BO-01</td>\n",
       "      <td>2</td>\n",
       "      <td>15</td>\n",
       "      <td>12</td>\n",
       "      <td>POLYGON ((-105.18469 39.96263, -105.18459 39.9...</td>\n",
       "    </tr>\n",
       "    <tr>\n",
       "      <th>100</th>\n",
       "      <td>100</td>\n",
       "      <td>2181207100</td>\n",
       "      <td>SU-01</td>\n",
       "      <td>2</td>\n",
       "      <td>18</td>\n",
       "      <td>12</td>\n",
       "      <td>POLYGON ((-105.15439 39.92921, -105.15842 39.9...</td>\n",
       "    </tr>\n",
       "    <tr>\n",
       "      <th>101</th>\n",
       "      <td>101</td>\n",
       "      <td>2181207101</td>\n",
       "      <td>SU-01</td>\n",
       "      <td>2</td>\n",
       "      <td>18</td>\n",
       "      <td>12</td>\n",
       "      <td>POLYGON ((-105.14702 39.92887, -105.14736 39.9...</td>\n",
       "    </tr>\n",
       "  </tbody>\n",
       "</table>\n",
       "</div>"
      ],
      "text/plain": [
       "     Pct    Precinct AreaShort CD  SD  HD  \\\n",
       "Pct                                         \n",
       "002  002  2151907002     LM-04  2  15  19   \n",
       "003  003  2184907003     SU-01  2  18  49   \n",
       "004  004  2151207004     BO-01  2  15  12   \n",
       "100  100  2181207100     SU-01  2  18  12   \n",
       "101  101  2181207101     SU-01  2  18  12   \n",
       "\n",
       "                                              geometry  \n",
       "Pct                                                     \n",
       "002  POLYGON ((-105.05519 40.19115, -105.05518 40.1...  \n",
       "003  POLYGON ((-105.16920 39.92870, -105.17207 39.9...  \n",
       "004  POLYGON ((-105.18469 39.96263, -105.18459 39.9...  \n",
       "100  POLYGON ((-105.15439 39.92921, -105.15842 39.9...  \n",
       "101  POLYGON ((-105.14702 39.92887, -105.14736 39.9...  "
      ]
     },
     "execution_count": 15,
     "metadata": {},
     "output_type": "execute_result"
    }
   ],
   "source": [
    "pctgeo.head()"
   ]
  },
  {
   "cell_type": "markdown",
   "id": "6f18561a",
   "metadata": {},
   "source": [
    "### add supersite name to pctgeo"
   ]
  },
  {
   "cell_type": "code",
   "execution_count": 16,
   "id": "1634073a",
   "metadata": {},
   "outputs": [
    {
     "name": "stdout",
     "output_type": "stream",
     "text": [
      "<class 'geopandas.geodataframe.GeoDataFrame'>\n",
      "Index: 193 entries, 002 to 916\n",
      "Data columns (total 8 columns):\n",
      " #   Column     Non-Null Count  Dtype   \n",
      "---  ------     --------------  -----   \n",
      " 0   Pct        193 non-null    object  \n",
      " 1   Precinct   193 non-null    object  \n",
      " 2   AreaShort  193 non-null    object  \n",
      " 3   CD         193 non-null    object  \n",
      " 4   SD         193 non-null    object  \n",
      " 5   HD         193 non-null    object  \n",
      " 6   geometry   193 non-null    geometry\n",
      " 7   supersite  193 non-null    object  \n",
      "dtypes: geometry(1), object(7)\n",
      "memory usage: 17.6+ KB\n"
     ]
    }
   ],
   "source": [
    "pctgeo['supersite'] = ''\n",
    "pctgeo.info()"
   ]
  },
  {
   "cell_type": "code",
   "execution_count": 108,
   "id": "d9b8a911",
   "metadata": {},
   "outputs": [],
   "source": [
    "# Run on all supersites\n",
    "\n",
    "# loop through all supersites\n",
    "for ss in supersites.index:\n",
    "\n",
    "    # get pctlist in first supersite\n",
    "    # ss = 0\n",
    "    pctlist = supersites['pctlist'][ss]\n",
    "    # print(pctlist, '\\n')  # list of pcts in first supersite\n",
    "\n",
    "    # get supersite name\n",
    "    ssname = supersites.loc[ss,'Supersite'] \n",
    "\n",
    "    # loop through each pct in pctlist\n",
    "\n",
    "    for p in pctlist:\n",
    "        \n",
    "        # print(p, ssname,'\\n')  # Boulder HS\n",
    "\n",
    "        # add supersite name to pctgeo\n",
    "        pctgeo.loc[p, 'supersite'] = ssname\n",
    "        # print(pctgeo.loc[p, 'supersite'], ssname)\n",
    "        # print(pctgeo.loc[p, :], '\\n')  #  dataframe row\n",
    "\n"
   ]
  },
  {
   "cell_type": "code",
   "execution_count": 109,
   "id": "c47b2e05",
   "metadata": {},
   "outputs": [
    {
     "name": "stdout",
     "output_type": "stream",
     "text": [
      "<class 'geopandas.geodataframe.GeoDataFrame'>\n",
      "Index: 196 entries, 002 to 3\n",
      "Data columns (total 8 columns):\n",
      " #   Column     Non-Null Count  Dtype   \n",
      "---  ------     --------------  -----   \n",
      " 0   Pct        193 non-null    object  \n",
      " 1   Precinct   193 non-null    object  \n",
      " 2   AreaShort  193 non-null    object  \n",
      " 3   CD         193 non-null    object  \n",
      " 4   SD         193 non-null    object  \n",
      " 5   HD         193 non-null    object  \n",
      " 6   geometry   193 non-null    geometry\n",
      " 7   supersite  196 non-null    object  \n",
      "dtypes: geometry(1), object(7)\n",
      "memory usage: 17.9+ KB\n"
     ]
    }
   ],
   "source": [
    "pctgeo.info()"
   ]
  },
  {
   "cell_type": "code",
   "execution_count": 110,
   "id": "183831cf",
   "metadata": {},
   "outputs": [
    {
     "data": {
      "text/html": [
       "<div>\n",
       "<style scoped>\n",
       "    .dataframe tbody tr th:only-of-type {\n",
       "        vertical-align: middle;\n",
       "    }\n",
       "\n",
       "    .dataframe tbody tr th {\n",
       "        vertical-align: top;\n",
       "    }\n",
       "\n",
       "    .dataframe thead th {\n",
       "        text-align: right;\n",
       "    }\n",
       "</style>\n",
       "<table border=\"1\" class=\"dataframe\">\n",
       "  <thead>\n",
       "    <tr style=\"text-align: right;\">\n",
       "      <th></th>\n",
       "      <th>Pct</th>\n",
       "      <th>Precinct</th>\n",
       "      <th>AreaShort</th>\n",
       "      <th>CD</th>\n",
       "      <th>SD</th>\n",
       "      <th>HD</th>\n",
       "      <th>geometry</th>\n",
       "      <th>supersite</th>\n",
       "    </tr>\n",
       "    <tr>\n",
       "      <th>Pct</th>\n",
       "      <th></th>\n",
       "      <th></th>\n",
       "      <th></th>\n",
       "      <th></th>\n",
       "      <th></th>\n",
       "      <th></th>\n",
       "      <th></th>\n",
       "      <th></th>\n",
       "    </tr>\n",
       "  </thead>\n",
       "  <tbody>\n",
       "    <tr>\n",
       "      <th>002</th>\n",
       "      <td>002</td>\n",
       "      <td>2151907002</td>\n",
       "      <td>LM-04</td>\n",
       "      <td>2</td>\n",
       "      <td>15</td>\n",
       "      <td>19</td>\n",
       "      <td>POLYGON ((-105.05519 40.19115, -105.05518 40.1...</td>\n",
       "      <td></td>\n",
       "    </tr>\n",
       "    <tr>\n",
       "      <th>003</th>\n",
       "      <td>003</td>\n",
       "      <td>2184907003</td>\n",
       "      <td>SU-01</td>\n",
       "      <td>2</td>\n",
       "      <td>18</td>\n",
       "      <td>49</td>\n",
       "      <td>POLYGON ((-105.16920 39.92870, -105.17207 39.9...</td>\n",
       "      <td></td>\n",
       "    </tr>\n",
       "    <tr>\n",
       "      <th>004</th>\n",
       "      <td>004</td>\n",
       "      <td>2151207004</td>\n",
       "      <td>BO-01</td>\n",
       "      <td>2</td>\n",
       "      <td>15</td>\n",
       "      <td>12</td>\n",
       "      <td>POLYGON ((-105.18469 39.96263, -105.18459 39.9...</td>\n",
       "      <td></td>\n",
       "    </tr>\n",
       "    <tr>\n",
       "      <th>100</th>\n",
       "      <td>100</td>\n",
       "      <td>2181207100</td>\n",
       "      <td>SU-01</td>\n",
       "      <td>2</td>\n",
       "      <td>18</td>\n",
       "      <td>12</td>\n",
       "      <td>POLYGON ((-105.15439 39.92921, -105.15842 39.9...</td>\n",
       "      <td>Eldorado K8</td>\n",
       "    </tr>\n",
       "    <tr>\n",
       "      <th>101</th>\n",
       "      <td>101</td>\n",
       "      <td>2181207101</td>\n",
       "      <td>SU-01</td>\n",
       "      <td>2</td>\n",
       "      <td>18</td>\n",
       "      <td>12</td>\n",
       "      <td>POLYGON ((-105.14702 39.92887, -105.14736 39.9...</td>\n",
       "      <td>Eldorado K8</td>\n",
       "    </tr>\n",
       "    <tr>\n",
       "      <th>...</th>\n",
       "      <td>...</td>\n",
       "      <td>...</td>\n",
       "      <td>...</td>\n",
       "      <td>...</td>\n",
       "      <td>...</td>\n",
       "      <td>...</td>\n",
       "      <td>...</td>\n",
       "      <td>...</td>\n",
       "    </tr>\n",
       "    <tr>\n",
       "      <th>915</th>\n",
       "      <td>915</td>\n",
       "      <td>2154907915</td>\n",
       "      <td>MT-03</td>\n",
       "      <td>2</td>\n",
       "      <td>15</td>\n",
       "      <td>49</td>\n",
       "      <td>POLYGON ((-105.24898 40.21229, -105.24935 40.2...</td>\n",
       "      <td>Lyons Middle Senior</td>\n",
       "    </tr>\n",
       "    <tr>\n",
       "      <th>916</th>\n",
       "      <td>916</td>\n",
       "      <td>2154907916</td>\n",
       "      <td>MT-03</td>\n",
       "      <td>2</td>\n",
       "      <td>15</td>\n",
       "      <td>49</td>\n",
       "      <td>POLYGON ((-105.19594 40.26146, -105.19971 40.2...</td>\n",
       "      <td>Lyons Middle Senior</td>\n",
       "    </tr>\n",
       "    <tr>\n",
       "      <th>4</th>\n",
       "      <td>NaN</td>\n",
       "      <td>NaN</td>\n",
       "      <td>NaN</td>\n",
       "      <td>NaN</td>\n",
       "      <td>NaN</td>\n",
       "      <td>NaN</td>\n",
       "      <td>None</td>\n",
       "      <td>Manhattan MS</td>\n",
       "    </tr>\n",
       "    <tr>\n",
       "      <th>2</th>\n",
       "      <td>NaN</td>\n",
       "      <td>NaN</td>\n",
       "      <td>NaN</td>\n",
       "      <td>NaN</td>\n",
       "      <td>NaN</td>\n",
       "      <td>NaN</td>\n",
       "      <td>None</td>\n",
       "      <td>Trail Ridge MS</td>\n",
       "    </tr>\n",
       "    <tr>\n",
       "      <th>3</th>\n",
       "      <td>NaN</td>\n",
       "      <td>NaN</td>\n",
       "      <td>NaN</td>\n",
       "      <td>NaN</td>\n",
       "      <td>NaN</td>\n",
       "      <td>NaN</td>\n",
       "      <td>None</td>\n",
       "      <td>Eldorado K8</td>\n",
       "    </tr>\n",
       "  </tbody>\n",
       "</table>\n",
       "<p>196 rows × 8 columns</p>\n",
       "</div>"
      ],
      "text/plain": [
       "     Pct    Precinct AreaShort   CD   SD   HD  \\\n",
       "Pct                                             \n",
       "002  002  2151907002     LM-04    2   15   19   \n",
       "003  003  2184907003     SU-01    2   18   49   \n",
       "004  004  2151207004     BO-01    2   15   12   \n",
       "100  100  2181207100     SU-01    2   18   12   \n",
       "101  101  2181207101     SU-01    2   18   12   \n",
       "..   ...         ...       ...  ...  ...  ...   \n",
       "915  915  2154907915     MT-03    2   15   49   \n",
       "916  916  2154907916     MT-03    2   15   49   \n",
       "4    NaN         NaN       NaN  NaN  NaN  NaN   \n",
       "2    NaN         NaN       NaN  NaN  NaN  NaN   \n",
       "3    NaN         NaN       NaN  NaN  NaN  NaN   \n",
       "\n",
       "                                              geometry            supersite  \n",
       "Pct                                                                          \n",
       "002  POLYGON ((-105.05519 40.19115, -105.05518 40.1...                       \n",
       "003  POLYGON ((-105.16920 39.92870, -105.17207 39.9...                       \n",
       "004  POLYGON ((-105.18469 39.96263, -105.18459 39.9...                       \n",
       "100  POLYGON ((-105.15439 39.92921, -105.15842 39.9...          Eldorado K8  \n",
       "101  POLYGON ((-105.14702 39.92887, -105.14736 39.9...          Eldorado K8  \n",
       "..                                                 ...                  ...  \n",
       "915  POLYGON ((-105.24898 40.21229, -105.24935 40.2...  Lyons Middle Senior  \n",
       "916  POLYGON ((-105.19594 40.26146, -105.19971 40.2...  Lyons Middle Senior  \n",
       "4                                                 None         Manhattan MS  \n",
       "2                                                 None       Trail Ridge MS  \n",
       "3                                                 None          Eldorado K8  \n",
       "\n",
       "[196 rows x 8 columns]"
      ]
     },
     "execution_count": 110,
     "metadata": {},
     "output_type": "execute_result"
    }
   ],
   "source": [
    "pctgeo"
   ]
  },
  {
   "cell_type": "code",
   "execution_count": 111,
   "id": "28c59c61",
   "metadata": {},
   "outputs": [
    {
     "name": "stdout",
     "output_type": "stream",
     "text": [
      "<class 'geopandas.geodataframe.GeoDataFrame'>\n",
      "Index: 193 entries, 002 to 916\n",
      "Data columns (total 8 columns):\n",
      " #   Column     Non-Null Count  Dtype   \n",
      "---  ------     --------------  -----   \n",
      " 0   Pct        193 non-null    object  \n",
      " 1   Precinct   193 non-null    object  \n",
      " 2   AreaShort  193 non-null    object  \n",
      " 3   CD         193 non-null    object  \n",
      " 4   SD         193 non-null    object  \n",
      " 5   HD         193 non-null    object  \n",
      " 6   geometry   193 non-null    geometry\n",
      " 7   supersite  193 non-null    object  \n",
      "dtypes: geometry(1), object(7)\n",
      "memory usage: 17.6+ KB\n"
     ]
    }
   ],
   "source": [
    "# drop single digit rows that are duplicates of 002, 003 and 004\n",
    "pctgeo = pctgeo.dropna(subset=['Pct'])\n",
    "pctgeo.info()"
   ]
  },
  {
   "cell_type": "code",
   "execution_count": 112,
   "id": "3e86b429",
   "metadata": {},
   "outputs": [
    {
     "data": {
      "text/html": [
       "<div>\n",
       "<style scoped>\n",
       "    .dataframe tbody tr th:only-of-type {\n",
       "        vertical-align: middle;\n",
       "    }\n",
       "\n",
       "    .dataframe tbody tr th {\n",
       "        vertical-align: top;\n",
       "    }\n",
       "\n",
       "    .dataframe thead th {\n",
       "        text-align: right;\n",
       "    }\n",
       "</style>\n",
       "<table border=\"1\" class=\"dataframe\">\n",
       "  <thead>\n",
       "    <tr style=\"text-align: right;\">\n",
       "      <th></th>\n",
       "      <th>Pct</th>\n",
       "      <th>Precinct</th>\n",
       "      <th>AreaShort</th>\n",
       "      <th>CD</th>\n",
       "      <th>SD</th>\n",
       "      <th>HD</th>\n",
       "      <th>geometry</th>\n",
       "      <th>supersite</th>\n",
       "    </tr>\n",
       "    <tr>\n",
       "      <th>Pct</th>\n",
       "      <th></th>\n",
       "      <th></th>\n",
       "      <th></th>\n",
       "      <th></th>\n",
       "      <th></th>\n",
       "      <th></th>\n",
       "      <th></th>\n",
       "      <th></th>\n",
       "    </tr>\n",
       "  </thead>\n",
       "  <tbody>\n",
       "    <tr>\n",
       "      <th>002</th>\n",
       "      <td>002</td>\n",
       "      <td>2151907002</td>\n",
       "      <td>LM-04</td>\n",
       "      <td>2</td>\n",
       "      <td>15</td>\n",
       "      <td>19</td>\n",
       "      <td>POLYGON ((-105.05519 40.19115, -105.05518 40.1...</td>\n",
       "      <td></td>\n",
       "    </tr>\n",
       "    <tr>\n",
       "      <th>003</th>\n",
       "      <td>003</td>\n",
       "      <td>2184907003</td>\n",
       "      <td>SU-01</td>\n",
       "      <td>2</td>\n",
       "      <td>18</td>\n",
       "      <td>49</td>\n",
       "      <td>POLYGON ((-105.16920 39.92870, -105.17207 39.9...</td>\n",
       "      <td></td>\n",
       "    </tr>\n",
       "    <tr>\n",
       "      <th>004</th>\n",
       "      <td>004</td>\n",
       "      <td>2151207004</td>\n",
       "      <td>BO-01</td>\n",
       "      <td>2</td>\n",
       "      <td>15</td>\n",
       "      <td>12</td>\n",
       "      <td>POLYGON ((-105.18469 39.96263, -105.18459 39.9...</td>\n",
       "      <td></td>\n",
       "    </tr>\n",
       "    <tr>\n",
       "      <th>100</th>\n",
       "      <td>100</td>\n",
       "      <td>2181207100</td>\n",
       "      <td>SU-01</td>\n",
       "      <td>2</td>\n",
       "      <td>18</td>\n",
       "      <td>12</td>\n",
       "      <td>POLYGON ((-105.15439 39.92921, -105.15842 39.9...</td>\n",
       "      <td>Eldorado K8</td>\n",
       "    </tr>\n",
       "    <tr>\n",
       "      <th>101</th>\n",
       "      <td>101</td>\n",
       "      <td>2181207101</td>\n",
       "      <td>SU-01</td>\n",
       "      <td>2</td>\n",
       "      <td>18</td>\n",
       "      <td>12</td>\n",
       "      <td>POLYGON ((-105.14702 39.92887, -105.14736 39.9...</td>\n",
       "      <td>Eldorado K8</td>\n",
       "    </tr>\n",
       "    <tr>\n",
       "      <th>...</th>\n",
       "      <td>...</td>\n",
       "      <td>...</td>\n",
       "      <td>...</td>\n",
       "      <td>...</td>\n",
       "      <td>...</td>\n",
       "      <td>...</td>\n",
       "      <td>...</td>\n",
       "      <td>...</td>\n",
       "    </tr>\n",
       "    <tr>\n",
       "      <th>912</th>\n",
       "      <td>912</td>\n",
       "      <td>2154907912</td>\n",
       "      <td>MT-02</td>\n",
       "      <td>2</td>\n",
       "      <td>15</td>\n",
       "      <td>49</td>\n",
       "      <td>POLYGON ((-105.28214 40.10589, -105.28211 40.1...</td>\n",
       "      <td>Centennial MS</td>\n",
       "    </tr>\n",
       "    <tr>\n",
       "      <th>913</th>\n",
       "      <td>913</td>\n",
       "      <td>2154907913</td>\n",
       "      <td>MT-02</td>\n",
       "      <td>2</td>\n",
       "      <td>15</td>\n",
       "      <td>49</td>\n",
       "      <td>POLYGON ((-105.32867 40.10536, -105.32858 40.1...</td>\n",
       "      <td>Jamestown School</td>\n",
       "    </tr>\n",
       "    <tr>\n",
       "      <th>914</th>\n",
       "      <td>914</td>\n",
       "      <td>2154907914</td>\n",
       "      <td>MT-03</td>\n",
       "      <td>2</td>\n",
       "      <td>15</td>\n",
       "      <td>49</td>\n",
       "      <td>POLYGON ((-105.33835 40.25280, -105.33828 40.2...</td>\n",
       "      <td>Allenspark Fire Station</td>\n",
       "    </tr>\n",
       "    <tr>\n",
       "      <th>915</th>\n",
       "      <td>915</td>\n",
       "      <td>2154907915</td>\n",
       "      <td>MT-03</td>\n",
       "      <td>2</td>\n",
       "      <td>15</td>\n",
       "      <td>49</td>\n",
       "      <td>POLYGON ((-105.24898 40.21229, -105.24935 40.2...</td>\n",
       "      <td>Lyons Middle Senior</td>\n",
       "    </tr>\n",
       "    <tr>\n",
       "      <th>916</th>\n",
       "      <td>916</td>\n",
       "      <td>2154907916</td>\n",
       "      <td>MT-03</td>\n",
       "      <td>2</td>\n",
       "      <td>15</td>\n",
       "      <td>49</td>\n",
       "      <td>POLYGON ((-105.19594 40.26146, -105.19971 40.2...</td>\n",
       "      <td>Lyons Middle Senior</td>\n",
       "    </tr>\n",
       "  </tbody>\n",
       "</table>\n",
       "<p>193 rows × 8 columns</p>\n",
       "</div>"
      ],
      "text/plain": [
       "     Pct    Precinct AreaShort CD  SD  HD  \\\n",
       "Pct                                         \n",
       "002  002  2151907002     LM-04  2  15  19   \n",
       "003  003  2184907003     SU-01  2  18  49   \n",
       "004  004  2151207004     BO-01  2  15  12   \n",
       "100  100  2181207100     SU-01  2  18  12   \n",
       "101  101  2181207101     SU-01  2  18  12   \n",
       "..   ...         ...       ... ..  ..  ..   \n",
       "912  912  2154907912     MT-02  2  15  49   \n",
       "913  913  2154907913     MT-02  2  15  49   \n",
       "914  914  2154907914     MT-03  2  15  49   \n",
       "915  915  2154907915     MT-03  2  15  49   \n",
       "916  916  2154907916     MT-03  2  15  49   \n",
       "\n",
       "                                              geometry  \\\n",
       "Pct                                                      \n",
       "002  POLYGON ((-105.05519 40.19115, -105.05518 40.1...   \n",
       "003  POLYGON ((-105.16920 39.92870, -105.17207 39.9...   \n",
       "004  POLYGON ((-105.18469 39.96263, -105.18459 39.9...   \n",
       "100  POLYGON ((-105.15439 39.92921, -105.15842 39.9...   \n",
       "101  POLYGON ((-105.14702 39.92887, -105.14736 39.9...   \n",
       "..                                                 ...   \n",
       "912  POLYGON ((-105.28214 40.10589, -105.28211 40.1...   \n",
       "913  POLYGON ((-105.32867 40.10536, -105.32858 40.1...   \n",
       "914  POLYGON ((-105.33835 40.25280, -105.33828 40.2...   \n",
       "915  POLYGON ((-105.24898 40.21229, -105.24935 40.2...   \n",
       "916  POLYGON ((-105.19594 40.26146, -105.19971 40.2...   \n",
       "\n",
       "                    supersite  \n",
       "Pct                            \n",
       "002                            \n",
       "003                            \n",
       "004                            \n",
       "100               Eldorado K8  \n",
       "101               Eldorado K8  \n",
       "..                        ...  \n",
       "912             Centennial MS  \n",
       "913          Jamestown School  \n",
       "914  Allenspark Fire Station   \n",
       "915       Lyons Middle Senior  \n",
       "916       Lyons Middle Senior  \n",
       "\n",
       "[193 rows x 8 columns]"
      ]
     },
     "execution_count": 112,
     "metadata": {},
     "output_type": "execute_result"
    }
   ],
   "source": [
    "pctgeo"
   ]
  },
  {
   "cell_type": "code",
   "execution_count": 113,
   "id": "9469c5b8",
   "metadata": {},
   "outputs": [],
   "source": [
    "\n",
    "pctgeo.to_file('data/pct_supersite.geojson', driver='GeoJSON', index=False)"
   ]
  },
  {
   "cell_type": "markdown",
   "id": "01211e1c",
   "metadata": {},
   "source": [
    "\n",
    "### 4 Create Supersite GeoDataFrame and add geometry column \n",
    "\n",
    "- create ssgdf - supersite GeoDataFrame\n",
    "- add ssgeom column to ssgdf"
   ]
  },
  {
   "cell_type": "code",
   "execution_count": 117,
   "id": "cf61ce05",
   "metadata": {},
   "outputs": [
    {
     "name": "stdout",
     "output_type": "stream",
     "text": [
      "<class 'geopandas.geodataframe.GeoDataFrame'>\n",
      "RangeIndex: 0 entries\n",
      "Data columns (total 2 columns):\n",
      " #   Column     Non-Null Count  Dtype   \n",
      "---  ------     --------------  -----   \n",
      " 0   Supersite  0 non-null      object  \n",
      " 1   sgeom      0 non-null      geometry\n",
      "dtypes: geometry(1), object(1)\n",
      "memory usage: 124.0+ bytes\n"
     ]
    }
   ],
   "source": [
    "# create an empty geodataframe to collect the supersite precints geometry\n",
    "ssgdfcols = ['Supersite', 'sgeom']\n",
    "ssgdf = gpd.GeoDataFrame(columns=ssgdfcols, geometry='sgeom')\n",
    "\n",
    "ssgdf.info()"
   ]
  },
  {
   "cell_type": "markdown",
   "id": "35e7b049",
   "metadata": {},
   "source": [
    "### 5 Calculate supersite boundaries\n",
    "- for each supersite\n",
    "    - calculate ssgeom boundaries \n",
    "    - add ssgeom value to supersite row"
   ]
  },
  {
   "cell_type": "code",
   "execution_count": null,
   "id": "1a293a78",
   "metadata": {},
   "outputs": [],
   "source": [
    "# Create an outline of all precincts in each ss\n",
    "    # for each supersite\n",
    "        # create a gdf with each precinct's geometry in a row\n",
    "        # dissolve the gdf into a single outline border\n",
    "\n",
    "# get pctlist in first supersite\n",
    "# ss = 0\n",
    "# ssname = supersites['Supersite'][ss]\n",
    "# pctlist = supersites['pctlist'][ss]\n",
    "# print(ssname, pctlist, '\\n')  # list of pcts in first supersite\n",
    "\n",
    "# create an empty geodataframe to collect the supersite precints geometry\n",
    "ssgdfcols = ['Pct', 'Supersite', 'pgeom']\n",
    "ssgdf = gpd.GeoDataFrame(columns=ssgdfcols, geometry='pgeom')\n",
    "# print(ssgdf.info())\n",
    "\n",
    "#  add a row for each precinct in pctlist\n",
    "\n",
    "for p in pctlist:\n",
    "    \n",
    "    # print(p, ssname,'\\n')  # Boulder HS\n",
    "\n",
    "    # add precinct geometry to ssgdf\n",
    "    pgeom = pctgeo.loc[p,'geometry']\n",
    "    # print(pgeom)\n",
    "    ssgdf.loc[p, 'pgeom'] = pgeom\n",
    "# print(ssgdf)\n",
    "\n",
    "# calculate supersite border geometry\n",
    "\n",
    "ssgeom = ssgdf.dissolve()\n",
    "\n",
    "\n",
    "\n"
   ]
  },
  {
   "cell_type": "code",
   "execution_count": null,
   "id": "73f8d142",
   "metadata": {},
   "outputs": [
    {
     "data": {
      "text/plain": [
       "<Axes: >"
      ]
     },
     "metadata": {},
     "output_type": "display_data"
    },
    {
     "data": {
      "image/png": "[encoded data removed]",
      "text/plain": [
       "<Figure size 640x480 with 1 Axes>"
      ]
     },
     "metadata": {},
     "output_type": "display_data"
    }
   ],
   "source": [
    "\n",
    "ssgeom.plot()\n",
    "\n",
    "# add supersite geometry to supersitesgdf"
   ]
  },
  {
   "cell_type": "code",
   "execution_count": null,
   "id": "ebe3d9ba",
   "metadata": {},
   "outputs": [],
   "source": []
  },
  {
   "cell_type": "markdown",
   "id": "a504dd97",
   "metadata": {},
   "source": [
    "### 3 SAVE supersite_pct_geom.geojson file"
   ]
  },
  {
   "cell_type": "markdown",
   "id": "0d801024-b3fe-445e-b051-9249a00b616e",
   "metadata": {
    "tags": []
   },
   "source": [
    "### REFERENCE CODE from pct_area_geom.ipynb  Create Area Boundaries\n",
    "- use .dissolve() to aggregate precincts into Areas and return Area boundary geometry"
   ]
  },
  {
   "cell_type": "code",
   "execution_count": null,
   "id": "8e4912df-06a5-496f-8d08-2400d25ccb5e",
   "metadata": {},
   "outputs": [],
   "source": [
    "area_groups = pctgeo.groupby('AreaShort')"
   ]
  },
  {
   "cell_type": "code",
   "execution_count": null,
   "id": "b4d01e79-0da2-4409-8af7-c344398c2f73",
   "metadata": {},
   "outputs": [],
   "source": [
    "area_groups.groups"
   ]
  },
  {
   "cell_type": "code",
   "execution_count": null,
   "id": "93f13dcd",
   "metadata": {},
   "outputs": [],
   "source": [
    "# type(area_groups.get_group('BO-01'))\n",
    "area_groups.get_group('BO-01')"
   ]
  },
  {
   "cell_type": "code",
   "execution_count": null,
   "id": "5be60dd8",
   "metadata": {},
   "outputs": [],
   "source": []
  },
  {
   "cell_type": "code",
   "execution_count": null,
   "id": "ea9393fd-a1fe-4a13-9770-f07b18c7960c",
   "metadata": {
    "tags": []
   },
   "outputs": [],
   "source": [
    "# Create boundary for each Area from outline of precincts in Area\n",
    "for name, group in area_groups:\n",
    "    area_gdf = pd.concat([area_gdf, group.dissolve()], ignore_index=True)   "
   ]
  },
  {
   "cell_type": "code",
   "execution_count": null,
   "id": "058b30bc-50e2-40fa-875b-ac5eaa366108",
   "metadata": {},
   "outputs": [],
   "source": [
    "area_gdf.info()"
   ]
  },
  {
   "cell_type": "code",
   "execution_count": null,
   "id": "dc7e3f5a-fcd1-4fb1-b967-7f185a71bc14",
   "metadata": {},
   "outputs": [],
   "source": [
    "area_gdf"
   ]
  },
  {
   "cell_type": "code",
   "execution_count": null,
   "id": "1053ccef-48d2-4aca-b5c2-bf1d50759ad2",
   "metadata": {},
   "outputs": [],
   "source": [
    "# Delete duplicate 1st row\n",
    "area_gdf.drop(0, inplace=True)"
   ]
  },
  {
   "cell_type": "code",
   "execution_count": null,
   "id": "abfd9f94-19dd-44bf-b911-96507aac5c2f",
   "metadata": {},
   "outputs": [],
   "source": [
    "area_gdf = area_gdf[['AreaShort', 'geometry']]\n",
    "area_gdf"
   ]
  },
  {
   "cell_type": "code",
   "execution_count": null,
   "id": "ac839477-7798-4644-aafc-1a37fd14c162",
   "metadata": {},
   "outputs": [],
   "source": [
    "area_gdf.plot()"
   ]
  },
  {
   "cell_type": "code",
   "execution_count": null,
   "id": "c272611c-4e67-481b-b31f-b2b70f6a45e3",
   "metadata": {},
   "outputs": [],
   "source": [
    "area_gdf.to_file('../geo/geojson/areas.geojson', driver='GeoJSON')"
   ]
  },
  {
   "cell_type": "markdown",
   "id": "910e465d",
   "metadata": {},
   "source": [
    "### test areas.geojson"
   ]
  },
  {
   "cell_type": "code",
   "execution_count": null,
   "id": "ef665427-db69-4655-a6dd-9878f9534e75",
   "metadata": {},
   "outputs": [],
   "source": [
    "area_test = gpd.read_file('../geo/geojson/areas.geojson', driver='GeoJSON')\n",
    "area_test.info()"
   ]
  },
  {
   "cell_type": "code",
   "execution_count": null,
   "id": "21d85e91-815c-42cb-b6b0-1bbdc66f5238",
   "metadata": {},
   "outputs": [],
   "source": [
    "area_test[area_test.AreaShort == 'BO-09'].plot()"
   ]
  },
  {
   "cell_type": "markdown",
   "id": "82374aeb-c767-4dba-94c0-3de3ce8fdf42",
   "metadata": {
    "jp-MarkdownHeadingCollapsed": true,
    "tags": []
   },
   "source": [
    "## Transform data in dataframes"
   ]
  },
  {
   "cell_type": "markdown",
   "id": "426919e3-d829-4d23-8766-38705fab26ac",
   "metadata": {},
   "source": [
    "## Save transformed data in map format files"
   ]
  },
  {
   "cell_type": "code",
   "execution_count": null,
   "id": "6cd5d5f9-8a76-4769-80fa-f740f6e6bd5f",
   "metadata": {},
   "outputs": [],
   "source": []
  },
  {
   "cell_type": "code",
   "execution_count": null,
   "id": "0d5d2c62-5bac-4197-9284-5d015ffa8b49",
   "metadata": {},
   "outputs": [],
   "source": []
  }
 ],
 "metadata": {
  "kernelspec": {
   "display_name": "Python 3 (ipykernel)",
   "language": "python",
   "name": "python3"
  },
  "language_info": {
   "codemirror_mode": {
    "name": "ipython",
    "version": 3
   },
   "file_extension": ".py",
   "mimetype": "text/x-python",
   "name": "python",
   "nbconvert_exporter": "python",
   "pygments_lexer": "ipython3",
   "version": "3.9.17"
  }
 },
 "nbformat": 4,
 "nbformat_minor": 5
}
