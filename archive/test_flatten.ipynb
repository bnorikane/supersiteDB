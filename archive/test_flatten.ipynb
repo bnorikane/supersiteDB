{
 "cells": [
  {
   "cell_type": "markdown",
   "metadata": {},
   "source": [
    "# test various methods to flatten a list embedded in a dataframe\n",
    "- required for supersite_xxx.ipynb"
   ]
  },
  {
   "cell_type": "code",
   "execution_count": 11,
   "metadata": {},
   "outputs": [],
   "source": [
    "import pandas as pd"
   ]
  },
  {
   "cell_type": "code",
   "execution_count": 12,
   "metadata": {},
   "outputs": [
    {
     "data": {
      "text/html": [
       "<div>\n",
       "<style scoped>\n",
       "    .dataframe tbody tr th:only-of-type {\n",
       "        vertical-align: middle;\n",
       "    }\n",
       "\n",
       "    .dataframe tbody tr th {\n",
       "        vertical-align: top;\n",
       "    }\n",
       "\n",
       "    .dataframe thead th {\n",
       "        text-align: right;\n",
       "    }\n",
       "</style>\n",
       "<table border=\"1\" class=\"dataframe\">\n",
       "  <thead>\n",
       "    <tr style=\"text-align: right;\">\n",
       "      <th></th>\n",
       "      <th>text</th>\n",
       "      <th>names</th>\n",
       "    </tr>\n",
       "  </thead>\n",
       "  <tbody>\n",
       "    <tr>\n",
       "      <th>0</th>\n",
       "      <td>[[some, string], [yes]]</td>\n",
       "      <td>[[chris], [peter, kate]]</td>\n",
       "    </tr>\n",
       "    <tr>\n",
       "      <th>1</th>\n",
       "      <td>[[hello, how, are, u], [fine, thanks]]</td>\n",
       "      <td>[[steve, john], [kyle, eric]]</td>\n",
       "    </tr>\n",
       "  </tbody>\n",
       "</table>\n",
       "</div>"
      ],
      "text/plain": [
       "                                     text                          names\n",
       "0                 [[some, string], [yes]]       [[chris], [peter, kate]]\n",
       "1  [[hello, how, are, u], [fine, thanks]]  [[steve, john], [kyle, eric]]"
      ]
     },
     "execution_count": 12,
     "metadata": {},
     "output_type": "execute_result"
    }
   ],
   "source": [
    "df5 = pd.DataFrame({'text':[[['some','string'],['yes']],[['hello','how','are','u'],['fine','thanks']]], 'names':[[['chris'],['peter','kate']],[['steve','john'],['kyle','eric']]]})\n",
    "\n",
    "df5"
   ]
  },
  {
   "cell_type": "markdown",
   "metadata": {},
   "source": []
  },
  {
   "cell_type": "code",
   "execution_count": 13,
   "metadata": {},
   "outputs": [],
   "source": [
    "# # NOTE: this works but applymap is depracated, use map instead. see next cell\n",
    "# cols = ['text','names']\n",
    "# df5[cols] = df5[cols].applymap(lambda x: [z for y in x for z in y])\n",
    "# print (df5)"
   ]
  },
  {
   "cell_type": "code",
   "execution_count": 14,
   "metadata": {},
   "outputs": [],
   "source": [
    "# using map in place of applymap\n",
    "# cols = ['text','names']\n",
    "# df5[cols] = df5[cols].map(lambda x: [z for y in x for z in y])\n",
    "# print (df5)"
   ]
  },
  {
   "cell_type": "code",
   "execution_count": 15,
   "metadata": {},
   "outputs": [
    {
     "name": "stdout",
     "output_type": "stream",
     "text": [
      "                                     text                          names  \\\n",
      "0                 [[some, string], [yes]]       [[chris], [peter, kate]]   \n",
      "1  [[hello, how, are, u], [fine, thanks]]  [[steve, john], [kyle, eric]]   \n",
      "\n",
      "                            text_flat  \n",
      "0                 [some, string, yes]  \n",
      "1  [hello, how, are, u, fine, thanks]  \n"
     ]
    }
   ],
   "source": [
    "# use apply on just the text column\n",
    "df5['text_flat'] = df5['text'].apply(lambda x: [z for y in x for z in y])\n",
    "print(df5)"
   ]
  },
  {
   "cell_type": "code",
   "execution_count": null,
   "metadata": {},
   "outputs": [],
   "source": []
  }
 ],
 "metadata": {
  "kernelspec": {
   "display_name": "geop12",
   "language": "python",
   "name": "python3"
  },
  "language_info": {
   "codemirror_mode": {
    "name": "ipython",
    "version": 3
   },
   "file_extension": ".py",
   "mimetype": "text/x-python",
   "name": "python",
   "nbconvert_exporter": "python",
   "pygments_lexer": "ipython3",
   "version": "3.9.17"
  }
 },
 "nbformat": 4,
 "nbformat_minor": 2
}
