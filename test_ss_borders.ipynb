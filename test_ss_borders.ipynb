{
 "cells": [
  {
   "cell_type": "markdown",
   "metadata": {},
   "source": [
    "# test creating borders for a supersite map\n"
   ]
  },
  {
   "cell_type": "code",
   "execution_count": null,
   "metadata": {},
   "outputs": [],
   "source": [
    "import pandas as pd \n",
    "import geopandas as gpd \n"
   ]
  },
  {
   "cell_type": "code",
   "execution_count": null,
   "metadata": {},
   "outputs": [],
   "source": [
    "# Convert string of precinct numbers to list of precincts\n",
    "\n",
    "def pctstr_to_list(ss) :\n",
    "\n",
    "    # transform each string in the list to a list of precinct numbers\n",
    "    pctlist = ss[\"Pct #'s\"].str.rstrip(',').str.split(',')\n",
    "\n",
    "    # add leading zeros to single-digit precincts\n",
    "    pctlist = [ [p.zfill(3) for p in pl] for pl in pctlist]\n",
    "    \n",
    "    return pctlist   \n"
   ]
  },
  {
   "cell_type": "code",
   "execution_count": null,
   "metadata": {},
   "outputs": [],
   "source": [
    "# Read current supersite list\n",
    "supersites = pd.read_excel('data/Draft Supersites-judi-20240106.xlsx', sheet_name='Draft 1-6', skiprows=3)\n",
    "\n",
    "# add pctlist column to supersites datafram\n",
    "supersites = supersites.assign(pctlist = pctstr_to_list)\n",
    "\n",
    "supersites.info()\n"
   ]
  },
  {
   "cell_type": "code",
   "execution_count": null,
   "metadata": {},
   "outputs": [],
   "source": [
    "# check pctlist \n",
    "# - list of precincts for each supersites\n",
    "# - each precinct is 3-digits, e.g. 810 or 002\n",
    "supersites['pctlist']"
   ]
  },
  {
   "cell_type": "code",
   "execution_count": null,
   "metadata": {},
   "outputs": [],
   "source": [
    "# check supersites\n",
    "supersites.head()"
   ]
  },
  {
   "cell_type": "code",
   "execution_count": null,
   "metadata": {},
   "outputs": [],
   "source": []
  }
 ],
 "metadata": {
  "kernelspec": {
   "display_name": "geop12",
   "language": "python",
   "name": "python3"
  },
  "language_info": {
   "codemirror_mode": {
    "name": "ipython",
    "version": 3
   },
   "file_extension": ".py",
   "mimetype": "text/x-python",
   "name": "python",
   "nbconvert_exporter": "python",
   "pygments_lexer": "ipython3",
   "version": "3.9.17"
  }
 },
 "nbformat": 4,
 "nbformat_minor": 2
}
