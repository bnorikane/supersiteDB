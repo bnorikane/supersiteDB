{
 "cells": [
  {
   "cell_type": "markdown",
   "id": "3dd1ac9e-0cc1-4244-9dfc-56da05c2b99a",
   "metadata": {},
   "source": [
    "# Create supersites_geom.geojson geojson file with the caucus supersite borders\n",
    "\n",
    "## latest run of notebook: \n",
    "- 1/14/2024 7am\n",
    "    \n",
    "1. create supersites DataFrame from Judi's supersite precinct file\n",
    "    - INPUT: data/2024_Supersite_list w Chairs & Cochairs.xlsx (update: 1/13/2024)\n",
    "    - OUTPUT: data/pct_supersite.geojson \n",
    "2. create pctgeo (precinct GeoDataFrame)\n",
    "    - INPUT: read precinct geometry from current pct_area_boulder.geojson file\n",
    "    - add supersite name column using supersites dataframe\n",
    "    - OUTPUT: save pctgeo to pct_supersites.geojson\n",
    "3. create supersite border geometry and save geojson file\n",
    "    - create ssgeo from pctgeo by using dissolve('supersite')\n",
    "    - OUTPUT: \n",
    "    save ssgeo in supersite_region_geom.geojson\n",
    "\n",
    "- NOTE: need to update precinct to Supersite geojson every time a Supersite/precinct list is modified \n",
    "    - e.g. move precincts 814 and 823 from Frasier to Manhatten\n",
    "\n",
    "### Notebook History Summary\n",
    "- full history see git commits\n",
    "- Started: January 7, 2024\n",
    "- Update: January 8, 2024 - large revision - add ssname column to supersites\n",
    "- Update: January 9, 2024 - version 0.1.0 add ssgeom to supersitesgeo\n",
    "- Update: January 11, 2024 - version 0.2.0 add pctlist column to supersites dataframe\n",
    "- Update: January 12, 2024 - version 0.3.0 start supersite boundary geometry\n",
    "- Update: January 13, 2024 - version 0.3.1 finish supersite boundary geometry\n",
    "\n",
    "### Variables\n",
    "\n",
    "- supersites    - DataFrame read from Judi's supersite file\n",
    "- pctgeo        - GeoDataFrame read from pct_area_boulder.geojson\n",
    "- sss_pcts_lists    - list of lists of all the precincts at a supersite\n",
    "- ssgeo         - GeoDataFrame of supersites with region boundaries\n"
   ]
  },
  {
   "cell_type": "markdown",
   "id": "8f40d0bf",
   "metadata": {},
   "source": [
    "##     ISSUES\n",
    "\n",
    "#### FIXED Precinct format mismatch\n",
    "- pct_area_boulder.geojson lists zero-filled precincts, e.g. 002, 003, 004\n",
    "- Draft Supersites-judi-20240106.xlsx lists single-digit precincts, e.g. 2, 3, 4\n",
    "    - notebook creates rows for both, 002 and 2, 003 and 3, 004 and 4\n",
    "    - not critical failure but should be fixed. \n",
    "- WORKAROUND: drop extra rows 2, 3, 4\n",
    "- FIXED: zfill precincts when reading in Judi's file\n"
   ]
  },
  {
   "cell_type": "code",
   "execution_count": 1,
   "id": "9b66485f-7f6d-4d5f-bfca-3ef066a25931",
   "metadata": {
    "tags": []
   },
   "outputs": [],
   "source": [
    "import pandas as pd\n",
    "import geopandas as gpd\n",
    "# import fiona\n",
    "# import numpy as np"
   ]
  },
  {
   "cell_type": "markdown",
   "id": "57440289-839b-48bb-b876-7308d25c19c2",
   "metadata": {
    "tags": []
   },
   "source": [
    "## 1. Create supersites - dataframe of supersites with list of precincts in a column  \n",
    "- start with Judi's spreadsheet\n",
    "- create pctlist from \"Pct #'s\" column\n",
    "    - use pctstr_to_list(ss) function to create series of lists\n",
    "    - add pctlist series as column on supersites"
   ]
  },
  {
   "cell_type": "code",
   "execution_count": 2,
   "id": "87cb8e7d",
   "metadata": {},
   "outputs": [],
   "source": [
    "# FUNCTION: Convert column with string of precinct numbers to series with lists of precincts\n",
    "#   e.g. for each row: '2, 101, 237, 304,,,,,' to [002, 101, 237, 304]\n",
    "\n",
    "def pctstr_to_list(ss) :\n",
    "\n",
    "    # transform each string in the list to a list of precinct numbers\n",
    "    pctlist = ss[\"Pct #'s\"].str.rstrip(',').str.split(',')\n",
    "\n",
    "    # add leading zeros to single-digit precincts\n",
    "    pctlist = [ [p.zfill(3) for p in pl] for pl in pctlist]\n",
    "    \n",
    "    return pctlist   \n"
   ]
  },
  {
   "cell_type": "code",
   "execution_count": 3,
   "id": "a9d9346b",
   "metadata": {},
   "outputs": [
    {
     "name": "stdout",
     "output_type": "stream",
     "text": [
      "<class 'pandas.core.frame.DataFrame'>\n",
      "RangeIndex: 20 entries, 0 to 19\n",
      "Data columns (total 6 columns):\n",
      " #   Column                  Non-Null Count  Dtype  \n",
      "---  ------                  --------------  -----  \n",
      " 0   Supersite               20 non-null     object \n",
      " 1   # of Reg Dems           20 non-null     int64  \n",
      " 2   Forecast of  Attendees  20 non-null     float64\n",
      " 3   # of Pct's              20 non-null     int64  \n",
      " 4   Pct #'s                 20 non-null     object \n",
      " 5   pctlist                 20 non-null     object \n",
      "dtypes: float64(1), int64(2), object(3)\n",
      "memory usage: 1.1+ KB\n"
     ]
    },
    {
     "data": {
      "text/html": [
       "<div>\n",
       "<style scoped>\n",
       "    .dataframe tbody tr th:only-of-type {\n",
       "        vertical-align: middle;\n",
       "    }\n",
       "\n",
       "    .dataframe tbody tr th {\n",
       "        vertical-align: top;\n",
       "    }\n",
       "\n",
       "    .dataframe thead th {\n",
       "        text-align: right;\n",
       "    }\n",
       "</style>\n",
       "<table border=\"1\" class=\"dataframe\">\n",
       "  <thead>\n",
       "    <tr style=\"text-align: right;\">\n",
       "      <th></th>\n",
       "      <th>Supersite</th>\n",
       "      <th># of Reg Dems</th>\n",
       "      <th>Forecast of  Attendees</th>\n",
       "      <th># of Pct's</th>\n",
       "      <th>Pct #'s</th>\n",
       "      <th>pctlist</th>\n",
       "    </tr>\n",
       "  </thead>\n",
       "  <tbody>\n",
       "    <tr>\n",
       "      <th>0</th>\n",
       "      <td>Allenspark Fire Station</td>\n",
       "      <td>155</td>\n",
       "      <td>3.875</td>\n",
       "      <td>1</td>\n",
       "      <td>914,,,,,,,,,,,,,,,,,,</td>\n",
       "      <td>[914]</td>\n",
       "    </tr>\n",
       "    <tr>\n",
       "      <th>1</th>\n",
       "      <td>Altona MS</td>\n",
       "      <td>7518</td>\n",
       "      <td>187.950</td>\n",
       "      <td>14</td>\n",
       "      <td>605,606,607,608,609,610,611,614,615,616,624,62...</td>\n",
       "      <td>[605, 606, 607, 608, 609, 610, 611, 614, 615, ...</td>\n",
       "    </tr>\n",
       "    <tr>\n",
       "      <th>2</th>\n",
       "      <td>Boulder HS</td>\n",
       "      <td>7241</td>\n",
       "      <td>181.025</td>\n",
       "      <td>10</td>\n",
       "      <td>810,817,818,820,821,828,829,831,832,833,,,,,,,,,</td>\n",
       "      <td>[810, 817, 818, 820, 821, 828, 829, 831, 832, ...</td>\n",
       "    </tr>\n",
       "    <tr>\n",
       "      <th>3</th>\n",
       "      <td>Burlington Elementary</td>\n",
       "      <td>3351</td>\n",
       "      <td>83.775</td>\n",
       "      <td>7</td>\n",
       "      <td>600,601,602,603,604,612,613,,,,,,,,,,,,</td>\n",
       "      <td>[600, 601, 602, 603, 604, 612, 613]</td>\n",
       "    </tr>\n",
       "    <tr>\n",
       "      <th>4</th>\n",
       "      <td>Casey MS</td>\n",
       "      <td>4696</td>\n",
       "      <td>117.400</td>\n",
       "      <td>7</td>\n",
       "      <td>822,823,824,825,826,827,910,,,,,,,,,,,,</td>\n",
       "      <td>[822, 823, 824, 825, 826, 827, 910]</td>\n",
       "    </tr>\n",
       "  </tbody>\n",
       "</table>\n",
       "</div>"
      ],
      "text/plain": [
       "                  Supersite  # of Reg Dems  Forecast of  Attendees  \\\n",
       "0  Allenspark Fire Station             155                   3.875   \n",
       "1                 Altona MS           7518                 187.950   \n",
       "2                Boulder HS           7241                 181.025   \n",
       "3     Burlington Elementary           3351                  83.775   \n",
       "4                  Casey MS           4696                 117.400   \n",
       "\n",
       "   # of Pct's                                            Pct #'s  \\\n",
       "0           1                              914,,,,,,,,,,,,,,,,,,   \n",
       "1          14  605,606,607,608,609,610,611,614,615,616,624,62...   \n",
       "2          10   810,817,818,820,821,828,829,831,832,833,,,,,,,,,   \n",
       "3           7            600,601,602,603,604,612,613,,,,,,,,,,,,   \n",
       "4           7            822,823,824,825,826,827,910,,,,,,,,,,,,   \n",
       "\n",
       "                                             pctlist  \n",
       "0                                              [914]  \n",
       "1  [605, 606, 607, 608, 609, 610, 611, 614, 615, ...  \n",
       "2  [810, 817, 818, 820, 821, 828, 829, 831, 832, ...  \n",
       "3                [600, 601, 602, 603, 604, 612, 613]  \n",
       "4                [822, 823, 824, 825, 826, 827, 910]  "
      ]
     },
     "execution_count": 3,
     "metadata": {},
     "output_type": "execute_result"
    }
   ],
   "source": [
    "# Read current supersite list\n",
    "supersite_xlsx = 'data/2024_Supersite_list w Chairs & Cochairs.xlsx' # 1/13/2024\n",
    "supersites = pd.read_excel(supersite_xlsx, sheet_name='Recap SS & Precinct #s', skiprows=3)\n",
    "\n",
    "# add pctlist column to supersites datafram\n",
    "supersites = supersites.assign(pctlist = pctstr_to_list)\n",
    "supersites = supersites[[\"Supersite\", \"# of Reg Dems\", \"Forecast of  Attendees\",\n",
    "       \"# of Pct's\", \"Pct #'s\", \"pctlist\"]]\n",
    "\n",
    "supersites.info()\n",
    "supersites.head()"
   ]
  },
  {
   "cell_type": "code",
   "execution_count": 4,
   "id": "e3a88e24",
   "metadata": {},
   "outputs": [
    {
     "data": {
      "text/plain": [
       "0                                                 [914]\n",
       "1     [605, 606, 607, 608, 609, 610, 611, 614, 615, ...\n",
       "2     [810, 817, 818, 820, 821, 828, 829, 831, 832, ...\n",
       "3                   [600, 601, 602, 603, 604, 612, 613]\n",
       "4                   [822, 823, 824, 825, 826, 827, 910]\n",
       "5     [300, 301, 302, 303, 304, 305, 306, 307, 308, ...\n",
       "6     [803, 804, 805, 806, 807, 811, 812, 813, 814, ...\n",
       "7              [003, 100, 101, 102, 103, 104, 105, 106]\n",
       "8         [400, 401, 402, 403, 404, 405, 406, 407, 408]\n",
       "9                                                 [909]\n",
       "10                                                [913]\n",
       "11    [626, 627, 628, 629, 643, 644, 645, 646, 617, ...\n",
       "12                            [700, 701, 702, 915, 916]\n",
       "13    [004, 834, 835, 836, 837, 838, 839, 840, 841, ...\n",
       "14    [200, 201, 202, 203, 204, 205, 206, 207, 208, ...\n",
       "15                       [901, 902, 903, 904, 905, 907]\n",
       "16    [503, 504, 505, 506, 507, 508, 509, 510, 800, ...\n",
       "17    [830, 843, 844, 845, 846, 847, 850, 851, 852, ...\n",
       "18    [002, 618, 619, 620, 621, 622, 623, 633, 634, ...\n",
       "19                                                [908]\n",
       "Name: pctlist, dtype: object"
      ]
     },
     "execution_count": 4,
     "metadata": {},
     "output_type": "execute_result"
    }
   ],
   "source": [
    "# check pctlist \n",
    "# - list of precincts for each supersites\n",
    "# - each precinct is 3-digits, e.g. 810 or 002\n",
    "supersites['pctlist']"
   ]
  },
  {
   "cell_type": "markdown",
   "id": "728d6c8c-cf19-4b5d-be6d-a6e2b4b45db2",
   "metadata": {},
   "source": [
    "## 2 create pctgeo (precinct GeoDataFrame)\n",
    "- read precinct geometry from current pct_area_boulder.geojson file\n",
    "- add supersite name column using supersites dataframe\n",
    "- save as pct_supersite.geojson"
   ]
  },
  {
   "cell_type": "code",
   "execution_count": 5,
   "id": "d6d516b4",
   "metadata": {},
   "outputs": [
    {
     "name": "stdout",
     "output_type": "stream",
     "text": [
      "<class 'geopandas.geodataframe.GeoDataFrame'>\n",
      "Index: 193 entries, 002 to 916\n",
      "Data columns (total 7 columns):\n",
      " #   Column     Non-Null Count  Dtype   \n",
      "---  ------     --------------  -----   \n",
      " 0   Pct        193 non-null    object  \n",
      " 1   Precinct   193 non-null    object  \n",
      " 2   AreaShort  193 non-null    object  \n",
      " 3   CD         193 non-null    object  \n",
      " 4   SD         193 non-null    object  \n",
      " 5   HD         193 non-null    object  \n",
      " 6   geometry   193 non-null    geometry\n",
      "dtypes: geometry(1), object(6)\n",
      "memory usage: 16.1+ KB\n"
     ]
    },
    {
     "data": {
      "text/html": [
       "<div>\n",
       "<style scoped>\n",
       "    .dataframe tbody tr th:only-of-type {\n",
       "        vertical-align: middle;\n",
       "    }\n",
       "\n",
       "    .dataframe tbody tr th {\n",
       "        vertical-align: top;\n",
       "    }\n",
       "\n",
       "    .dataframe thead th {\n",
       "        text-align: right;\n",
       "    }\n",
       "</style>\n",
       "<table border=\"1\" class=\"dataframe\">\n",
       "  <thead>\n",
       "    <tr style=\"text-align: right;\">\n",
       "      <th></th>\n",
       "      <th>Pct</th>\n",
       "      <th>Precinct</th>\n",
       "      <th>AreaShort</th>\n",
       "      <th>CD</th>\n",
       "      <th>SD</th>\n",
       "      <th>HD</th>\n",
       "      <th>geometry</th>\n",
       "    </tr>\n",
       "    <tr>\n",
       "      <th>Pct</th>\n",
       "      <th></th>\n",
       "      <th></th>\n",
       "      <th></th>\n",
       "      <th></th>\n",
       "      <th></th>\n",
       "      <th></th>\n",
       "      <th></th>\n",
       "    </tr>\n",
       "  </thead>\n",
       "  <tbody>\n",
       "    <tr>\n",
       "      <th>002</th>\n",
       "      <td>002</td>\n",
       "      <td>2151907002</td>\n",
       "      <td>LM-04</td>\n",
       "      <td>2</td>\n",
       "      <td>15</td>\n",
       "      <td>19</td>\n",
       "      <td>POLYGON ((-105.05519 40.19115, -105.05518 40.1...</td>\n",
       "    </tr>\n",
       "    <tr>\n",
       "      <th>003</th>\n",
       "      <td>003</td>\n",
       "      <td>2184907003</td>\n",
       "      <td>SU-01</td>\n",
       "      <td>2</td>\n",
       "      <td>18</td>\n",
       "      <td>49</td>\n",
       "      <td>POLYGON ((-105.16920 39.92870, -105.17207 39.9...</td>\n",
       "    </tr>\n",
       "    <tr>\n",
       "      <th>004</th>\n",
       "      <td>004</td>\n",
       "      <td>2151207004</td>\n",
       "      <td>BO-01</td>\n",
       "      <td>2</td>\n",
       "      <td>15</td>\n",
       "      <td>12</td>\n",
       "      <td>POLYGON ((-105.18469 39.96263, -105.18459 39.9...</td>\n",
       "    </tr>\n",
       "    <tr>\n",
       "      <th>100</th>\n",
       "      <td>100</td>\n",
       "      <td>2181207100</td>\n",
       "      <td>SU-01</td>\n",
       "      <td>2</td>\n",
       "      <td>18</td>\n",
       "      <td>12</td>\n",
       "      <td>POLYGON ((-105.15439 39.92921, -105.15842 39.9...</td>\n",
       "    </tr>\n",
       "    <tr>\n",
       "      <th>101</th>\n",
       "      <td>101</td>\n",
       "      <td>2181207101</td>\n",
       "      <td>SU-01</td>\n",
       "      <td>2</td>\n",
       "      <td>18</td>\n",
       "      <td>12</td>\n",
       "      <td>POLYGON ((-105.14702 39.92887, -105.14736 39.9...</td>\n",
       "    </tr>\n",
       "  </tbody>\n",
       "</table>\n",
       "</div>"
      ],
      "text/plain": [
       "     Pct    Precinct AreaShort CD  SD  HD  \\\n",
       "Pct                                         \n",
       "002  002  2151907002     LM-04  2  15  19   \n",
       "003  003  2184907003     SU-01  2  18  49   \n",
       "004  004  2151207004     BO-01  2  15  12   \n",
       "100  100  2181207100     SU-01  2  18  12   \n",
       "101  101  2181207101     SU-01  2  18  12   \n",
       "\n",
       "                                              geometry  \n",
       "Pct                                                     \n",
       "002  POLYGON ((-105.05519 40.19115, -105.05518 40.1...  \n",
       "003  POLYGON ((-105.16920 39.92870, -105.17207 39.9...  \n",
       "004  POLYGON ((-105.18469 39.96263, -105.18459 39.9...  \n",
       "100  POLYGON ((-105.15439 39.92921, -105.15842 39.9...  \n",
       "101  POLYGON ((-105.14702 39.92887, -105.14736 39.9...  "
      ]
     },
     "execution_count": 5,
     "metadata": {},
     "output_type": "execute_result"
    }
   ],
   "source": [
    "# 2. Create pctgeo, GeoDataframe from file with individual precinct boundaries\n",
    "# data/pct_area_boulder.geojson\n",
    "pctgeo = gpd.read_file('data/pct_area_boulder.geojson', driver='GEOJSON')\n",
    "\n",
    "# set pctgeo index to Pct\n",
    "pctgeo = pctgeo.set_index('Pct', drop=False)\n",
    "\n",
    "pctgeo.info()\n",
    "pctgeo.head()"
   ]
  },
  {
   "cell_type": "code",
   "execution_count": 6,
   "id": "7765dbd1",
   "metadata": {},
   "outputs": [],
   "source": [
    "# FUNCTION: Add supersite name column to pctgeo\n",
    "\n",
    "def add_ss_to_pctgeo(ssdf):\n",
    "\n",
    "    for ss in ssdf.index:\n",
    "\n",
    "        # get pctlist in first supersite\n",
    "        pctlist = ssdf['pctlist'][ss]\n",
    "        # print(pctlist, '\\n')  # list of pcts in supersite\n",
    "\n",
    "        # get supersite name\n",
    "        ssname = ssdf.loc[ss,'Supersite'] \n",
    "\n",
    "        # loop through each pct in pctlist\n",
    "\n",
    "        for p in pctlist:\n",
    "            \n",
    "            # print(p, ssname,'\\n')\n",
    "\n",
    "            # add supersite name to pctgeo\n",
    "            pctgeo.loc[p, 'supersite'] = ssname\n",
    "            # print(pctgeo.loc[p, :], '\\n')  #  dataframe row\n",
    "    return\n",
    "\n"
   ]
  },
  {
   "cell_type": "code",
   "execution_count": 7,
   "id": "336ba65c",
   "metadata": {},
   "outputs": [
    {
     "name": "stdout",
     "output_type": "stream",
     "text": [
      "<class 'geopandas.geodataframe.GeoDataFrame'>\n",
      "Index: 193 entries, 002 to 916\n",
      "Data columns (total 8 columns):\n",
      " #   Column     Non-Null Count  Dtype   \n",
      "---  ------     --------------  -----   \n",
      " 0   Pct        193 non-null    object  \n",
      " 1   Precinct   193 non-null    object  \n",
      " 2   AreaShort  193 non-null    object  \n",
      " 3   CD         193 non-null    object  \n",
      " 4   SD         193 non-null    object  \n",
      " 5   HD         193 non-null    object  \n",
      " 6   geometry   193 non-null    geometry\n",
      " 7   supersite  193 non-null    object  \n",
      "dtypes: geometry(1), object(7)\n",
      "memory usage: 17.6+ KB\n"
     ]
    },
    {
     "data": {
      "text/html": [
       "<div>\n",
       "<style scoped>\n",
       "    .dataframe tbody tr th:only-of-type {\n",
       "        vertical-align: middle;\n",
       "    }\n",
       "\n",
       "    .dataframe tbody tr th {\n",
       "        vertical-align: top;\n",
       "    }\n",
       "\n",
       "    .dataframe thead th {\n",
       "        text-align: right;\n",
       "    }\n",
       "</style>\n",
       "<table border=\"1\" class=\"dataframe\">\n",
       "  <thead>\n",
       "    <tr style=\"text-align: right;\">\n",
       "      <th></th>\n",
       "      <th>Pct</th>\n",
       "      <th>Precinct</th>\n",
       "      <th>AreaShort</th>\n",
       "      <th>CD</th>\n",
       "      <th>SD</th>\n",
       "      <th>HD</th>\n",
       "      <th>geometry</th>\n",
       "      <th>supersite</th>\n",
       "    </tr>\n",
       "    <tr>\n",
       "      <th>Pct</th>\n",
       "      <th></th>\n",
       "      <th></th>\n",
       "      <th></th>\n",
       "      <th></th>\n",
       "      <th></th>\n",
       "      <th></th>\n",
       "      <th></th>\n",
       "      <th></th>\n",
       "    </tr>\n",
       "  </thead>\n",
       "  <tbody>\n",
       "    <tr>\n",
       "      <th>002</th>\n",
       "      <td>002</td>\n",
       "      <td>2151907002</td>\n",
       "      <td>LM-04</td>\n",
       "      <td>2</td>\n",
       "      <td>15</td>\n",
       "      <td>19</td>\n",
       "      <td>POLYGON ((-105.05519 40.19115, -105.05518 40.1...</td>\n",
       "      <td>Trail Ridge MS</td>\n",
       "    </tr>\n",
       "    <tr>\n",
       "      <th>003</th>\n",
       "      <td>003</td>\n",
       "      <td>2184907003</td>\n",
       "      <td>SU-01</td>\n",
       "      <td>2</td>\n",
       "      <td>18</td>\n",
       "      <td>49</td>\n",
       "      <td>POLYGON ((-105.16920 39.92870, -105.17207 39.9...</td>\n",
       "      <td>Eldorado K8</td>\n",
       "    </tr>\n",
       "    <tr>\n",
       "      <th>004</th>\n",
       "      <td>004</td>\n",
       "      <td>2151207004</td>\n",
       "      <td>BO-01</td>\n",
       "      <td>2</td>\n",
       "      <td>15</td>\n",
       "      <td>12</td>\n",
       "      <td>POLYGON ((-105.18469 39.96263, -105.18459 39.9...</td>\n",
       "      <td>Manhattan MS</td>\n",
       "    </tr>\n",
       "    <tr>\n",
       "      <th>100</th>\n",
       "      <td>100</td>\n",
       "      <td>2181207100</td>\n",
       "      <td>SU-01</td>\n",
       "      <td>2</td>\n",
       "      <td>18</td>\n",
       "      <td>12</td>\n",
       "      <td>POLYGON ((-105.15439 39.92921, -105.15842 39.9...</td>\n",
       "      <td>Eldorado K8</td>\n",
       "    </tr>\n",
       "    <tr>\n",
       "      <th>101</th>\n",
       "      <td>101</td>\n",
       "      <td>2181207101</td>\n",
       "      <td>SU-01</td>\n",
       "      <td>2</td>\n",
       "      <td>18</td>\n",
       "      <td>12</td>\n",
       "      <td>POLYGON ((-105.14702 39.92887, -105.14736 39.9...</td>\n",
       "      <td>Eldorado K8</td>\n",
       "    </tr>\n",
       "  </tbody>\n",
       "</table>\n",
       "</div>"
      ],
      "text/plain": [
       "     Pct    Precinct AreaShort CD  SD  HD  \\\n",
       "Pct                                         \n",
       "002  002  2151907002     LM-04  2  15  19   \n",
       "003  003  2184907003     SU-01  2  18  49   \n",
       "004  004  2151207004     BO-01  2  15  12   \n",
       "100  100  2181207100     SU-01  2  18  12   \n",
       "101  101  2181207101     SU-01  2  18  12   \n",
       "\n",
       "                                              geometry       supersite  \n",
       "Pct                                                                     \n",
       "002  POLYGON ((-105.05519 40.19115, -105.05518 40.1...  Trail Ridge MS  \n",
       "003  POLYGON ((-105.16920 39.92870, -105.17207 39.9...     Eldorado K8  \n",
       "004  POLYGON ((-105.18469 39.96263, -105.18459 39.9...    Manhattan MS  \n",
       "100  POLYGON ((-105.15439 39.92921, -105.15842 39.9...     Eldorado K8  \n",
       "101  POLYGON ((-105.14702 39.92887, -105.14736 39.9...     Eldorado K8  "
      ]
     },
     "execution_count": 7,
     "metadata": {},
     "output_type": "execute_result"
    }
   ],
   "source": [
    "# add supersite column to pctgeo and populate it\n",
    "pctgeo['supersite'] = ''\n",
    "add_ss_to_pctgeo(supersites)\n",
    "\n",
    "pctgeo.info() # check all columns have 193 non-null values\n",
    "pctgeo.head()"
   ]
  },
  {
   "cell_type": "code",
   "execution_count": 8,
   "id": "600f3a03",
   "metadata": {},
   "outputs": [
    {
     "data": {
      "text/plain": [
       "AreaShort\n",
       "BO-01     7\n",
       "BO-02     5\n",
       "BO-03     6\n",
       "BO-04    10\n",
       "BO-05     5\n",
       "BO-07     6\n",
       "BO-08     5\n",
       "BO-09     5\n",
       "BO-10     7\n",
       "BO-11     6\n",
       "ER-01     9\n",
       "GN-01     7\n",
       "LF-01     9\n",
       "LF-02    11\n",
       "LM-01     7\n",
       "LM-02     7\n",
       "LM-03     7\n",
       "LM-04     9\n",
       "LM-05     8\n",
       "LM-06     8\n",
       "LM-07    10\n",
       "LV-01     7\n",
       "LV-02     6\n",
       "MT-01     6\n",
       "MT-02     6\n",
       "MT-03     6\n",
       "SU-01     8\n",
       "Name: count, dtype: int64"
      ]
     },
     "execution_count": 8,
     "metadata": {},
     "output_type": "execute_result"
    }
   ],
   "source": [
    "# ### Check precinct data in  geodataframe\n",
    "# - Number of precincts = 193\n",
    "# - Number of Areas = 27\n",
    "# - Check precincts in each Area\n",
    "\n",
    "pctgeo['Pct'].nunique() # 193\n",
    "pctgeo.AreaShort.nunique() # 27\n",
    "pctgeo.value_counts('AreaShort').sort_index()"
   ]
  },
  {
   "cell_type": "code",
   "execution_count": 14,
   "id": "76fce814",
   "metadata": {},
   "outputs": [
    {
     "data": {
      "text/plain": [
       "20"
      ]
     },
     "execution_count": 14,
     "metadata": {},
     "output_type": "execute_result"
    }
   ],
   "source": [
    "# check # of supersites - expect 20\n",
    "pctgeo['supersite'].nunique()\n",
    "\n",
    "# check precincts per supersite\n",
    "pctgeo['supersite'].value_counts()"
   ]
  },
  {
   "cell_type": "code",
   "execution_count": 10,
   "id": "9469c5b8",
   "metadata": {},
   "outputs": [],
   "source": [
    "# save pctgeo with supersite column to file \n",
    "pctgeo.to_file('data/pct_supersite.geojson', driver='GeoJSON', index=False)"
   ]
  },
  {
   "cell_type": "markdown",
   "id": "01211e1c",
   "metadata": {},
   "source": [
    "### 3 Create Supersite GeoDataFrame, ssgeo, and add geometry column \n",
    "\n",
    "- create ssgeo by dissolving pctgeo('supersite')\n",
    "- save ssgeo to supersites_region_geom.geojson"
   ]
  },
  {
   "cell_type": "code",
   "execution_count": 11,
   "id": "4b8105dd",
   "metadata": {},
   "outputs": [
    {
     "data": {
      "text/plain": [
       "supersite\n",
       "Allenspark Fire Station     POLYGON ((-105.33835 40.25280, -105.33828 40.2...\n",
       "Altona MS                   POLYGON ((-105.14621 40.12873, -105.14638 40.1...\n",
       "Boulder HS                  POLYGON ((-105.26650 40.00008, -105.26776 40.0...\n",
       "Burlington Elementary       POLYGON ((-105.12952 40.13073, -105.12974 40.1...\n",
       "Casey MS                    POLYGON ((-105.25838 40.01917, -105.25838 40.0...\n",
       "Centaurus HS                MULTIPOLYGON (((-105.05283 39.97775, -105.0624...\n",
       "Centennial MS               POLYGON ((-105.27269 40.03465, -105.27268 40.0...\n",
       "Eldorado K8                 POLYGON ((-105.14702 39.92762, -105.14702 39.9...\n",
       "Erie MS                     POLYGON ((-105.05531 40.02197, -105.05532 40.0...\n",
       "Gold Hill School            POLYGON ((-105.34886 40.03821, -105.34871 40.0...\n",
       "Jamestown School            POLYGON ((-105.32867 40.10536, -105.32858 40.1...\n",
       "Longs Peak MS               MULTIPOLYGON (((-105.13091 40.17667, -105.1309...\n",
       "Lyons Middle Senior         POLYGON ((-105.13105 40.12351, -105.13104 40.1...\n",
       "Manhattan MS                MULTIPOLYGON (((-105.17840 39.92870, -105.1818...\n",
       "Monarch HS                  POLYGON ((-105.12525 39.97296, -105.12518 39.9...\n",
       "Nederland HS                POLYGON ((-105.35071 39.96978, -105.35027 39.9...\n",
       "Niwot HS                    POLYGON ((-105.17829 40.05095, -105.17829 40.0...\n",
       "Southern Hills MS           POLYGON ((-105.23320 39.98584, -105.23304 39.9...\n",
       "Trail Ridge MS              POLYGON ((-105.05520 40.18184, -105.05520 40.1...\n",
       "Ward Private Home           POLYGON ((-105.46615 40.16511, -105.46629 40.1...\n",
       "Name: geometry, dtype: geometry"
      ]
     },
     "execution_count": 11,
     "metadata": {},
     "output_type": "execute_result"
    },
    {
     "data": {
      "image/png": "[encoded data removed]",
      "text/plain": [
       "<Figure size 640x480 with 1 Axes>"
      ]
     },
     "metadata": {},
     "output_type": "display_data"
    }
   ],
   "source": [
    "# Create ssgeo: Supersite GeoDataFrame with supersite boundaries\n",
    "#   pctgeo.dissolve('supersite') \n",
    "#      group precincts by supersite \n",
    "#      combine group precinct geometry into supersite geometry\n",
    "\n",
    "ssgeo = pctgeo.dissolve('supersite')\n",
    "ssgeo = ssgeo['geometry']\n",
    "ssgeo.to_file('data/supersites_region_geom.geojson', driver='GeoJSON')\n",
    "\n",
    "ssgeo.plot()\n",
    "ssgeo"
   ]
  },
  {
   "cell_type": "markdown",
   "id": "910e465d",
   "metadata": {},
   "source": [
    "### test areas.geojson"
   ]
  },
  {
   "cell_type": "code",
   "execution_count": 12,
   "id": "ef665427-db69-4655-a6dd-9878f9534e75",
   "metadata": {},
   "outputs": [
    {
     "name": "stdout",
     "output_type": "stream",
     "text": [
      "<class 'geopandas.geodataframe.GeoDataFrame'>\n",
      "RangeIndex: 20 entries, 0 to 19\n",
      "Data columns (total 2 columns):\n",
      " #   Column     Non-Null Count  Dtype   \n",
      "---  ------     --------------  -----   \n",
      " 0   supersite  20 non-null     object  \n",
      " 1   geometry   20 non-null     geometry\n",
      "dtypes: geometry(1), object(1)\n",
      "memory usage: 448.0+ bytes\n"
     ]
    }
   ],
   "source": [
    "supersite_test = gpd.read_file('data/supersites_region_geom.geojson', driver='GeoJSON')\n",
    "supersite_test.info()"
   ]
  },
  {
   "cell_type": "code",
   "execution_count": 13,
   "id": "21d85e91-815c-42cb-b6b0-1bbdc66f5238",
   "metadata": {},
   "outputs": [
    {
     "data": {
      "text/plain": [
       "<Axes: >"
      ]
     },
     "execution_count": 13,
     "metadata": {},
     "output_type": "execute_result"
    },
    {
     "data": {
      "image/png": "[encoded data removed]",
      "text/plain": [
       "<Figure size 640x480 with 1 Axes>"
      ]
     },
     "metadata": {},
     "output_type": "display_data"
    }
   ],
   "source": [
    "# supersite_test[supersite_test['supersite'] == 'Boulder HS'].plot()\n",
    "supersite_test[supersite_test['supersite'] == 'Altona MS'].plot()"
   ]
  }
 ],
 "metadata": {
  "kernelspec": {
   "display_name": "Python 3 (ipykernel)",
   "language": "python",
   "name": "python3"
  },
  "language_info": {
   "codemirror_mode": {
    "name": "ipython",
    "version": 3
   },
   "file_extension": ".py",
   "mimetype": "text/x-python",
   "name": "python",
   "nbconvert_exporter": "python",
   "pygments_lexer": "ipython3",
   "version": "3.9.17"
  }
 },
 "nbformat": 4,
 "nbformat_minor": 5
}
