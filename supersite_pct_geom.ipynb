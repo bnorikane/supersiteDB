{
 "cells": [
  {
   "cell_type": "markdown",
   "id": "3dd1ac9e-0cc1-4244-9dfc-56da05c2b99a",
   "metadata": {},
   "source": [
    "# Create supersites_geom.geojson geojson file with the caucus supersite borders\n",
    "    \n",
    "1. create supersites DataFrame from Judi's supersite precinct file\n",
    "2. create pctgeo (precinct GeoDataFrame)\n",
    "    - read precinct geometry from current pct_area_boulder.geojson file\n",
    "    - add supersite name column using supersites dataframe\n",
    "    - save pctgeo to pct_supersites.geojson\n",
    "3. create supersite border geometry and save geojson file\n",
    "- create ssgeo from pctgeo by using dissolve('supersite')\n",
    "- save ssgeo in supersite_region_geom.geojson\n",
    "\n",
    "- NOTE: need to update precinct to Supersite geojson every time a Supersite/precinct list is modified \n",
    "    - e.g. move precincts 814 and 823 from Frasier to Manhatten\n",
    "\n",
    "- Started: January 7, 2024\n",
    "- Update: January 8, 2024 - large revision - add ssname column to supersites\n",
    "- Update: January 9, 2024 - version 0.1.0 add ssgeom to supersitesgeo\n",
    "- Update: January 11, 2024 - version 0.2.0 add pctlist column to supersites dataframe\n",
    "- Update: January 12, 2024 - version 0.3.0 start supersite boundary geometry\n",
    "- Update: January 13, 2024 - version 0.3.1 finish supersite boundary geometry\n",
    "\n",
    "### Variables\n",
    "\n",
    "- supersites    - DataFrame read from Judi's supersite file\n",
    "- pctgeo        - GeoDataFrame read from pct_area_boulder.geojson\n",
    "- sss_pcts_lists    - list of lists of all the precincts at a supersite\n",
    "- ssgeo         - GeoDataFrame of supersites with region boundaries\n"
   ]
  },
  {
   "cell_type": "markdown",
   "id": "8f40d0bf",
   "metadata": {},
   "source": [
    "##     ISSUES\n",
    "\n",
    "#### FIXED Precinct format mismatch\n",
    "- pct_area_boulder.geojson lists zero-filled precincts, e.g. 002, 003, 004\n",
    "- Draft Supersites-judi-20240106.xlsx lists single-digit precincts, e.g. 2, 3, 4\n",
    "    - notebook creates rows for both, 002 and 2, 003 and 3, 004 and 4\n",
    "    - not critical failure but should be fixed. \n",
    "- WORKAROUND: drop extra rows 2, 3, 4\n",
    "- FIXED: zfill precincts when reading in Judi's file\n"
   ]
  },
  {
   "cell_type": "code",
   "execution_count": null,
   "id": "9b66485f-7f6d-4d5f-bfca-3ef066a25931",
   "metadata": {
    "tags": []
   },
   "outputs": [],
   "source": [
    "import pandas as pd\n",
    "import geopandas as gpd\n",
    "# import fiona\n",
    "# import numpy as np"
   ]
  },
  {
   "cell_type": "markdown",
   "id": "57440289-839b-48bb-b876-7308d25c19c2",
   "metadata": {
    "tags": []
   },
   "source": [
    "## 1. Create supersites - dataframe of supersites with list of precincts in a column  \n",
    "- start with Judi's spreadsheet\n",
    "- create pctlist from \"Pct #'s\" column\n",
    "    - use pctstr_to_list(ss) function to create series of lists\n",
    "    - add pctlist series as column on supersites"
   ]
  },
  {
   "cell_type": "code",
   "execution_count": null,
   "id": "87cb8e7d",
   "metadata": {},
   "outputs": [],
   "source": [
    "# FUNCTION: Convert column with string of precinct numbers to series with lists of precincts\n",
    "#   e.g. for each row: '2, 101, 237, 304,,,,,' to [002, 101, 237, 304]\n",
    "\n",
    "def pctstr_to_list(ss) :\n",
    "\n",
    "    # transform each string in the list to a list of precinct numbers\n",
    "    pctlist = ss[\"Pct #'s\"].str.rstrip(',').str.split(',')\n",
    "\n",
    "    # add leading zeros to single-digit precincts\n",
    "    pctlist = [ [p.zfill(3) for p in pl] for pl in pctlist]\n",
    "    \n",
    "    return pctlist   \n"
   ]
  },
  {
   "cell_type": "code",
   "execution_count": null,
   "id": "a9d9346b",
   "metadata": {},
   "outputs": [],
   "source": [
    "# Read current supersite list\n",
    "supersites = pd.read_excel('data/2024_Supersite_list w Chairs & Cochairs.xlsx', sheet_name='Recap SS & Precinct #s', skiprows=3)\n",
    "\n",
    "# add pctlist column to supersites datafram\n",
    "supersites = supersites.assign(pctlist = pctstr_to_list)\n",
    "supersites = supersites[[\"Supersite\", \"# of Reg Dems\", \"Forecast of  Attendees\",\n",
    "       \"# of Pct's\", \"Pct #'s\", \"pctlist\"]]\n",
    "\n",
    "supersites.info()\n",
    "supersites.head()"
   ]
  },
  {
   "cell_type": "code",
   "execution_count": null,
   "id": "e3a88e24",
   "metadata": {},
   "outputs": [],
   "source": [
    "# check pctlist \n",
    "# - list of precincts for each supersites\n",
    "# - each precinct is 3-digits, e.g. 810 or 002\n",
    "supersites['pctlist']"
   ]
  },
  {
   "cell_type": "markdown",
   "id": "728d6c8c-cf19-4b5d-be6d-a6e2b4b45db2",
   "metadata": {},
   "source": [
    "## 2 create pctgeo (precinct GeoDataFrame)\n",
    "- read precinct geometry from current pct_area_boulder.geojson file\n",
    "- add supersite name column using supersites dataframe\n",
    "- save as pct_supersite.geojson"
   ]
  },
  {
   "cell_type": "code",
   "execution_count": null,
   "id": "d6d516b4",
   "metadata": {},
   "outputs": [],
   "source": [
    "# 2. Create pctgeo, GeoDataframe from file with individual precinct boundaries\n",
    "# data/pct_area_boulder.geojson\n",
    "pctgeo = gpd.read_file('data/pct_area_boulder.geojson', driver='GEOJSON')\n",
    "\n",
    "# set pctgeo index to Pct\n",
    "pctgeo = pctgeo.set_index('Pct', drop=False)\n",
    "\n",
    "pctgeo.info()\n",
    "pctgeo.head()"
   ]
  },
  {
   "cell_type": "code",
   "execution_count": null,
   "id": "7765dbd1",
   "metadata": {},
   "outputs": [],
   "source": [
    "# FUNCTION: Add supersite name column to pctgeo\n",
    "\n",
    "def add_ss_to_pctgeo(ssdf):\n",
    "\n",
    "    for ss in ssdf.index:\n",
    "\n",
    "        # get pctlist in first supersite\n",
    "        pctlist = ssdf['pctlist'][ss]\n",
    "        # print(pctlist, '\\n')  # list of pcts in supersite\n",
    "\n",
    "        # get supersite name\n",
    "        ssname = ssdf.loc[ss,'Supersite'] \n",
    "\n",
    "        # loop through each pct in pctlist\n",
    "\n",
    "        for p in pctlist:\n",
    "            \n",
    "            # print(p, ssname,'\\n')\n",
    "\n",
    "            # add supersite name to pctgeo\n",
    "            pctgeo.loc[p, 'supersite'] = ssname\n",
    "            # print(pctgeo.loc[p, :], '\\n')  #  dataframe row\n",
    "    return\n",
    "\n"
   ]
  },
  {
   "cell_type": "code",
   "execution_count": null,
   "id": "336ba65c",
   "metadata": {},
   "outputs": [],
   "source": [
    "# add supersite column to pctgeo and populate it\n",
    "pctgeo['supersite'] = ''\n",
    "add_ss_to_pctgeo(supersites)\n",
    "\n",
    "pctgeo.info()\n",
    "pctgeo.head()"
   ]
  },
  {
   "cell_type": "code",
   "execution_count": null,
   "id": "600f3a03",
   "metadata": {},
   "outputs": [],
   "source": [
    "# ### Check precinct data in  geodataframe\n",
    "# - Number of precincts = 193\n",
    "# - Number of Areas = 27\n",
    "# - Check precincts in each Area\n",
    "\n",
    "pctgeo['Pct'].nunique() # 193\n",
    "pctgeo.AreaShort.nunique() # 27\n",
    "pctgeo.value_counts('AreaShort').sort_index()"
   ]
  },
  {
   "cell_type": "code",
   "execution_count": null,
   "id": "76fce814",
   "metadata": {},
   "outputs": [],
   "source": [
    "# check # of supersites - expect 20\n",
    "pctgeo['supersite'].nunique()\n",
    "\n",
    "# check precincts per supersite\n",
    "pctgeo['supersite'].value_counts()"
   ]
  },
  {
   "cell_type": "code",
   "execution_count": null,
   "id": "9469c5b8",
   "metadata": {},
   "outputs": [],
   "source": [
    "# save pctgeo with supersite column to file \n",
    "pctgeo.to_file('data/pct_supersite.geojson', driver='GeoJSON', index=False)"
   ]
  },
  {
   "cell_type": "markdown",
   "id": "01211e1c",
   "metadata": {},
   "source": [
    "### 3 Create Supersite GeoDataFrame, ssgeo, and add geometry column \n",
    "\n",
    "- create ssgeo by dissolving pctgeo('supersite')\n",
    "- save ssgeo to supersites_region_geom.geojson"
   ]
  },
  {
   "cell_type": "code",
   "execution_count": null,
   "id": "4b8105dd",
   "metadata": {},
   "outputs": [],
   "source": [
    "# Create ssgeo: Supersite GeoDataFrame with supersite boundaries\n",
    "#   pctgeo.dissolve('supersite') \n",
    "#      group precincts by supersite \n",
    "#      combine group precinct geometry into supersite geometry\n",
    "\n",
    "ssgeo = pctgeo.dissolve('supersite')\n",
    "ssgeo = ssgeo['geometry']\n",
    "ssgeo.to_file('data/supersites_region_geom.geojson', driver='GeoJSON')\n",
    "\n",
    "ssgeo.plot()\n",
    "ssgeo"
   ]
  },
  {
   "cell_type": "markdown",
   "id": "910e465d",
   "metadata": {},
   "source": [
    "### test areas.geojson"
   ]
  },
  {
   "cell_type": "code",
   "execution_count": null,
   "id": "ef665427-db69-4655-a6dd-9878f9534e75",
   "metadata": {},
   "outputs": [],
   "source": [
    "supersite_test = gpd.read_file('data/supersites_region_geom.geojson', driver='GeoJSON')\n",
    "supersite_test.info()"
   ]
  },
  {
   "cell_type": "code",
   "execution_count": null,
   "id": "21d85e91-815c-42cb-b6b0-1bbdc66f5238",
   "metadata": {},
   "outputs": [],
   "source": [
    "# supersite_test[supersite_test['supersite'] == 'Boulder HS'].plot()\n",
    "supersite_test[supersite_test['supersite'] == 'Altona MS'].plot()"
   ]
  }
 ],
 "metadata": {
  "kernelspec": {
   "display_name": "Python 3 (ipykernel)",
   "language": "python",
   "name": "python3"
  },
  "language_info": {
   "codemirror_mode": {
    "name": "ipython",
    "version": 3
   },
   "file_extension": ".py",
   "mimetype": "text/x-python",
   "name": "python",
   "nbconvert_exporter": "python",
   "pygments_lexer": "ipython3",
   "version": "3.9.17"
  }
 },
 "nbformat": 4,
 "nbformat_minor": 5
}
