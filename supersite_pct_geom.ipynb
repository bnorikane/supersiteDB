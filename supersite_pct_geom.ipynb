{
 "cells": [
  {
   "cell_type": "markdown",
   "id": "3dd1ac9e-0cc1-4244-9dfc-56da05c2b99a",
   "metadata": {},
   "source": [
    "# Create geojson file with the caucus supersite borders\n",
    "    \n",
    "- read Judi's supersite precinct file\n",
    "- group precincts by supersite\n",
    "- create a border file around the each supersite precincts\n",
    "- Save files in geojson format ready to be used directly in an online map\n",
    "    - GeoJSON output files for Leaflet\n",
    "\n",
    "\n",
    "- NOTE: need to update precinct to Supersite geojson every time a Supersite/precinct list is modified \n",
    "    - e.g. move precincts 814 and 823 from Frasier to Manhatten\n",
    "\n",
    "- Started: January 7, 2024\n",
    "- Updated: \n",
    "\n",
    "### Input Files\n",
    "\n",
    "- Judi Bodinger's Caucus Supersite file with precinct column\n",
    "    - supersiteDB/data/Draft Supersites-judi-20240106.xlsx\n",
    "\n",
    "        - Supersite\n",
    "        - Pct #'s\n",
    "        ...\n",
    "\n",
    "### Output Files\n",
    "- ss_pct_geom.geojson file \n",
    "  - supersite_pct.geojson\n",
    "  - ss_name\n",
    "  - geometry - border around all precincts\n"
   ]
  },
  {
   "cell_type": "code",
   "execution_count": 1,
   "id": "9b66485f-7f6d-4d5f-bfca-3ef066a25931",
   "metadata": {
    "tags": []
   },
   "outputs": [],
   "source": [
    "import pandas as pd\n",
    "import geopandas as gpd\n",
    "import fiona\n",
    "# import numpy as np"
   ]
  },
  {
   "cell_type": "markdown",
   "id": "57440289-839b-48bb-b876-7308d25c19c2",
   "metadata": {
    "tags": []
   },
   "source": [
    "## Create sspct - dataframe of supersites with list of precincts in a column  \n",
    "\n",
    "- sspct - dataframe of 2024 supersites  \n",
    "\n",
    "        - Supersite\n",
    "        - Region\t\n",
    "        - (# of Reg Dems)\t\n",
    "        - Forecast of  Attendees\t\n",
    "        - (# of Pct's)\t\n",
    "        - Pct #'s\n",
    "        - (# of Chairs)\t\n",
    "        - Chair Name\n",
    "        - Chair2 Name\t\n",
    "        - Chair3 Name\t\n",
    "        - chair 4 Name\t\n",
    "        - Chair 5 Name\n"
   ]
  },
  {
   "cell_type": "code",
   "execution_count": 2,
   "id": "f713f5de-fea1-4afb-b88d-3b0d2f27171b",
   "metadata": {
    "tags": []
   },
   "outputs": [
    {
     "name": "stdout",
     "output_type": "stream",
     "text": [
      "<class 'pandas.core.frame.DataFrame'>\n",
      "RangeIndex: 20 entries, 0 to 19\n",
      "Data columns (total 12 columns):\n",
      " #   Column                  Non-Null Count  Dtype  \n",
      "---  ------                  --------------  -----  \n",
      " 0   Supersite               20 non-null     object \n",
      " 1   Region                  20 non-null     object \n",
      " 2   # of Reg Dems           20 non-null     int64  \n",
      " 3   Forecast of  Attendees  20 non-null     float64\n",
      " 4   # of Pct's              20 non-null     int64  \n",
      " 5   Pct #'s                 20 non-null     object \n",
      " 6   # of Chairs             20 non-null     int64  \n",
      " 7   Chair Name              20 non-null     object \n",
      " 8   Chair2 Name             13 non-null     object \n",
      " 9   Chair3 Name             8 non-null      object \n",
      " 10  chair 4 Name            2 non-null      object \n",
      " 11  Chair 5 Name            1 non-null      object \n",
      "dtypes: float64(1), int64(3), object(8)\n",
      "memory usage: 2.0+ KB\n"
     ]
    }
   ],
   "source": [
    "# Read current supersite list\n",
    "sspct = pd.read_excel('data/Draft Supersites-judi-20240106.xlsx', sheet_name='Draft 1-6', skiprows=3)\n",
    "sspct.info()"
   ]
  },
  {
   "cell_type": "code",
   "execution_count": 3,
   "id": "4402514e-b45b-40de-be10-3b7cc35176b6",
   "metadata": {
    "tags": []
   },
   "outputs": [],
   "source": [
    "cols = sspct.columns\n",
    "# cols = ['Supersite', 'Region', '# of Reg Dems', 'Forecast of  Attendees',\n",
    "#        '# of Pct's', 'Pct #'s', '# of Chairs', 'Chair Name', 'Chair2 Name',\n",
    "#        'Chair3 Name', 'chair 4 Name', 'Chair 5 Name']"
   ]
  },
  {
   "cell_type": "code",
   "execution_count": 4,
   "id": "15fc3f0a",
   "metadata": {},
   "outputs": [
    {
     "data": {
      "text/plain": [
       "0      810,817,818,820,821,828,829,831,832,833,,,,,,,,,\n",
       "1               822,823,824,825,826,827,910,,,,,,,,,,,,\n",
       "2     803,804,805,806,807,808,811,812,813,814,815,81...\n",
       "3                                 913,,,,,,,,,,,,,,,,,,\n",
       "4     4,500,501,834,835,836,837,838,839,840,841,842,...\n",
       "5     830,843,844,845,846,847,850,851,852,853,854,85...\n",
       "6         400,401,402,403,404,405,406,407,408,,,,,,,,,,\n",
       "7     503,504,505,506,507,508,509,510,800,801,802,80...\n",
       "8     300,301,302,303,304,305,306,307,308,309,310,31...\n",
       "9     606,607,608,609,610,611,614,615,616,624,625,63...\n",
       "10           600,601,602,603,604,605,612,613,,,,,,,,,,,\n",
       "11    626,627,628,629,643,644,645,646,617,632,641,64...\n",
       "12    2,618,619,620,621,622,623,633,634,635,636,637,...\n",
       "13    200,201,202,203,204,205,206,207,208,209,210,21...\n",
       "14                                914,,,,,,,,,,,,,,,,,,\n",
       "15                                909,,,,,,,,,,,,,,,,,,\n",
       "16                    700,701,702,915,916,,,,,,,,,,,,,,\n",
       "17                 901,902,903,904,905,907,,,,,,,,,,,,,\n",
       "18                                908,,,,,,,,,,,,,,,,,,\n",
       "19             3,100,101,102,103,104,105,106,,,,,,,,,,,\n",
       "Name: Pct #'s, dtype: object"
      ]
     },
     "execution_count": 4,
     "metadata": {},
     "output_type": "execute_result"
    }
   ],
   "source": [
    "sspct[\"Pct #'s\"]"
   ]
  },
  {
   "cell_type": "markdown",
   "id": "01604504",
   "metadata": {},
   "source": [
    "### Create Supersite borders and save to file"
   ]
  },
  {
   "cell_type": "code",
   "execution_count": 5,
   "id": "079d3956-bd02-4c8f-bfac-a7884924d26f",
   "metadata": {
    "tags": []
   },
   "outputs": [
    {
     "data": {
      "text/plain": [
       "[['810', '817', '818', '820', '821', '828', '829', '831', '832', '833'],\n",
       " ['822', '823', '824', '825', '826', '827', '910']]"
      ]
     },
     "execution_count": 5,
     "metadata": {},
     "output_type": "execute_result"
    }
   ],
   "source": [
    "# get string of precincts in each supersite\n",
    "sspcts = sspct[\"Pct #'s\"].tolist()\n",
    "\n",
    "# for each supersite, transform precinct strings to list of precincts\n",
    "sspctlist = [pct.rstrip(',').split(',') for pct in sspcts]\n",
    "sspctlist[:2]"
   ]
  },
  {
   "cell_type": "code",
   "execution_count": 6,
   "id": "410d6558",
   "metadata": {},
   "outputs": [
    {
     "name": "stdout",
     "output_type": "stream",
     "text": [
      "<class 'pandas.core.frame.DataFrame'>\n",
      "RangeIndex: 20 entries, 0 to 19\n",
      "Data columns (total 13 columns):\n",
      " #   Column                  Non-Null Count  Dtype  \n",
      "---  ------                  --------------  -----  \n",
      " 0   Supersite               20 non-null     object \n",
      " 1   Region                  20 non-null     object \n",
      " 2   # of Reg Dems           20 non-null     int64  \n",
      " 3   Forecast of  Attendees  20 non-null     float64\n",
      " 4   # of Pct's              20 non-null     int64  \n",
      " 5   Pct #'s                 20 non-null     object \n",
      " 6   # of Chairs             20 non-null     int64  \n",
      " 7   Chair Name              20 non-null     object \n",
      " 8   Chair2 Name             13 non-null     object \n",
      " 9   Chair3 Name             8 non-null      object \n",
      " 10  chair 4 Name            2 non-null      object \n",
      " 11  Chair 5 Name            1 non-null      object \n",
      " 12  pctlist                 20 non-null     object \n",
      "dtypes: float64(1), int64(3), object(9)\n",
      "memory usage: 2.2+ KB\n"
     ]
    }
   ],
   "source": [
    "# add pctlist column to sspct dataframe\n",
    "sspct['pctlist'] = sspctlist\n",
    "sspct.info()"
   ]
  },
  {
   "cell_type": "code",
   "execution_count": 7,
   "id": "700ec434",
   "metadata": {},
   "outputs": [
    {
     "data": {
      "text/plain": [
       "['810', '817', '818', '820', '821', '828', '829', '831', '832', '833']"
      ]
     },
     "execution_count": 7,
     "metadata": {},
     "output_type": "execute_result"
    }
   ],
   "source": [
    "sspct.loc[0,'pctlist']"
   ]
  },
  {
   "cell_type": "markdown",
   "id": "728d6c8c-cf19-4b5d-be6d-a6e2b4b45db2",
   "metadata": {},
   "source": [
    "## Create supersite pct Boundary Files\n",
    "\n",
    "- Create ss_pct boundaries for each supersits\n",
    "- Save ss_pct.geojson GeoJSON files"
   ]
  },
  {
   "cell_type": "code",
   "execution_count": 8,
   "id": "d6d516b4",
   "metadata": {},
   "outputs": [
    {
     "name": "stdout",
     "output_type": "stream",
     "text": [
      "<class 'geopandas.geodataframe.GeoDataFrame'>\n",
      "Index: 193 entries, 002 to 916\n",
      "Data columns (total 7 columns):\n",
      " #   Column     Non-Null Count  Dtype   \n",
      "---  ------     --------------  -----   \n",
      " 0   Pct        193 non-null    object  \n",
      " 1   Precinct   193 non-null    object  \n",
      " 2   AreaShort  193 non-null    object  \n",
      " 3   CD         193 non-null    object  \n",
      " 4   SD         193 non-null    object  \n",
      " 5   HD         193 non-null    object  \n",
      " 6   geometry   193 non-null    geometry\n",
      "dtypes: geometry(1), object(6)\n",
      "memory usage: 16.1+ KB\n"
     ]
    }
   ],
   "source": [
    "# Create GeoDataframe from file with individual precinct boundaries\n",
    "# data/pct_area_boulder.geojson\n",
    "pctgeo = gpd.read_file('data/pct_area_boulder.geojson', driver='GEOJSON')\n",
    "\n",
    "# set sspct index to Pct\n",
    "pctgeo = pctgeo.set_index('Pct', drop=False)\n",
    "\n",
    "pctgeo.info()\n"
   ]
  },
  {
   "cell_type": "markdown",
   "id": "8fdd5977-ebf0-4688-aa1c-0bd9200b2498",
   "metadata": {},
   "source": [
    "### Check precinct data in merged dataframe\n",
    "- Number of precincts = 193\n",
    "- Number of Areas = 28\n",
    "- Review Area_Short column\n",
    "- Check # of precincts in each Area"
   ]
  },
  {
   "cell_type": "code",
   "execution_count": 9,
   "id": "600f3a03",
   "metadata": {},
   "outputs": [
    {
     "data": {
      "text/plain": [
       "193"
      ]
     },
     "execution_count": 9,
     "metadata": {},
     "output_type": "execute_result"
    }
   ],
   "source": [
    "pctgeo['Pct'].nunique() # 193"
   ]
  },
  {
   "cell_type": "code",
   "execution_count": 10,
   "id": "c7cfe64e-a840-4085-a562-b9d753f60567",
   "metadata": {},
   "outputs": [
    {
     "data": {
      "text/plain": [
       "27"
      ]
     },
     "execution_count": 10,
     "metadata": {},
     "output_type": "execute_result"
    }
   ],
   "source": [
    "pctgeo.AreaShort.nunique() # 27"
   ]
  },
  {
   "cell_type": "code",
   "execution_count": 11,
   "id": "e2fcad2c-e2aa-45f9-8231-d7658f87307b",
   "metadata": {},
   "outputs": [
    {
     "data": {
      "text/plain": [
       "AreaShort\n",
       "BO-01     7\n",
       "BO-02     5\n",
       "BO-03     6\n",
       "BO-04    10\n",
       "BO-05     5\n",
       "BO-07     6\n",
       "BO-08     5\n",
       "BO-09     5\n",
       "BO-10     7\n",
       "BO-11     6\n",
       "ER-01     9\n",
       "GN-01     7\n",
       "LF-01     9\n",
       "LF-02    11\n",
       "LM-01     7\n",
       "LM-02     7\n",
       "LM-03     7\n",
       "LM-04     9\n",
       "LM-05     8\n",
       "LM-06     8\n",
       "LM-07    10\n",
       "LV-01     7\n",
       "LV-02     6\n",
       "MT-01     6\n",
       "MT-02     6\n",
       "MT-03     6\n",
       "SU-01     8\n",
       "Name: count, dtype: int64"
      ]
     },
     "execution_count": 11,
     "metadata": {},
     "output_type": "execute_result"
    }
   ],
   "source": [
    "pctgeo.value_counts('AreaShort').sort_index()"
   ]
  },
  {
   "cell_type": "code",
   "execution_count": 12,
   "id": "687cdce0",
   "metadata": {},
   "outputs": [
    {
     "data": {
      "text/html": [
       "<div>\n",
       "<style scoped>\n",
       "    .dataframe tbody tr th:only-of-type {\n",
       "        vertical-align: middle;\n",
       "    }\n",
       "\n",
       "    .dataframe tbody tr th {\n",
       "        vertical-align: top;\n",
       "    }\n",
       "\n",
       "    .dataframe thead th {\n",
       "        text-align: right;\n",
       "    }\n",
       "</style>\n",
       "<table border=\"1\" class=\"dataframe\">\n",
       "  <thead>\n",
       "    <tr style=\"text-align: right;\">\n",
       "      <th></th>\n",
       "      <th>Pct</th>\n",
       "      <th>Precinct</th>\n",
       "      <th>AreaShort</th>\n",
       "      <th>CD</th>\n",
       "      <th>SD</th>\n",
       "      <th>HD</th>\n",
       "      <th>geometry</th>\n",
       "    </tr>\n",
       "    <tr>\n",
       "      <th>Pct</th>\n",
       "      <th></th>\n",
       "      <th></th>\n",
       "      <th></th>\n",
       "      <th></th>\n",
       "      <th></th>\n",
       "      <th></th>\n",
       "      <th></th>\n",
       "    </tr>\n",
       "  </thead>\n",
       "  <tbody>\n",
       "    <tr>\n",
       "      <th>002</th>\n",
       "      <td>002</td>\n",
       "      <td>2151907002</td>\n",
       "      <td>LM-04</td>\n",
       "      <td>2</td>\n",
       "      <td>15</td>\n",
       "      <td>19</td>\n",
       "      <td>POLYGON ((-105.05519 40.19115, -105.05518 40.1...</td>\n",
       "    </tr>\n",
       "    <tr>\n",
       "      <th>003</th>\n",
       "      <td>003</td>\n",
       "      <td>2184907003</td>\n",
       "      <td>SU-01</td>\n",
       "      <td>2</td>\n",
       "      <td>18</td>\n",
       "      <td>49</td>\n",
       "      <td>POLYGON ((-105.16920 39.92870, -105.17207 39.9...</td>\n",
       "    </tr>\n",
       "    <tr>\n",
       "      <th>004</th>\n",
       "      <td>004</td>\n",
       "      <td>2151207004</td>\n",
       "      <td>BO-01</td>\n",
       "      <td>2</td>\n",
       "      <td>15</td>\n",
       "      <td>12</td>\n",
       "      <td>POLYGON ((-105.18469 39.96263, -105.18459 39.9...</td>\n",
       "    </tr>\n",
       "    <tr>\n",
       "      <th>100</th>\n",
       "      <td>100</td>\n",
       "      <td>2181207100</td>\n",
       "      <td>SU-01</td>\n",
       "      <td>2</td>\n",
       "      <td>18</td>\n",
       "      <td>12</td>\n",
       "      <td>POLYGON ((-105.15439 39.92921, -105.15842 39.9...</td>\n",
       "    </tr>\n",
       "    <tr>\n",
       "      <th>101</th>\n",
       "      <td>101</td>\n",
       "      <td>2181207101</td>\n",
       "      <td>SU-01</td>\n",
       "      <td>2</td>\n",
       "      <td>18</td>\n",
       "      <td>12</td>\n",
       "      <td>POLYGON ((-105.14702 39.92887, -105.14736 39.9...</td>\n",
       "    </tr>\n",
       "  </tbody>\n",
       "</table>\n",
       "</div>"
      ],
      "text/plain": [
       "     Pct    Precinct AreaShort CD  SD  HD  \\\n",
       "Pct                                         \n",
       "002  002  2151907002     LM-04  2  15  19   \n",
       "003  003  2184907003     SU-01  2  18  49   \n",
       "004  004  2151207004     BO-01  2  15  12   \n",
       "100  100  2181207100     SU-01  2  18  12   \n",
       "101  101  2181207101     SU-01  2  18  12   \n",
       "\n",
       "                                              geometry  \n",
       "Pct                                                     \n",
       "002  POLYGON ((-105.05519 40.19115, -105.05518 40.1...  \n",
       "003  POLYGON ((-105.16920 39.92870, -105.17207 39.9...  \n",
       "004  POLYGON ((-105.18469 39.96263, -105.18459 39.9...  \n",
       "100  POLYGON ((-105.15439 39.92921, -105.15842 39.9...  \n",
       "101  POLYGON ((-105.14702 39.92887, -105.14736 39.9...  "
      ]
     },
     "execution_count": 12,
     "metadata": {},
     "output_type": "execute_result"
    }
   ],
   "source": [
    "pctgeo.head()"
   ]
  },
  {
   "cell_type": "markdown",
   "id": "4dbd6f24",
   "metadata": {},
   "source": [
    "### Add supersite column to each precinct in pctgeo\n",
    "\n",
    "- get list of precincts for each supersite in sspct\n",
    "- add sspct.supersite column to matching precinct in pctgeo"
   ]
  },
  {
   "cell_type": "markdown",
   "id": "6f18561a",
   "metadata": {},
   "source": [
    "### Explore merge of sspct and pctgeo"
   ]
  },
  {
   "cell_type": "code",
   "execution_count": 13,
   "id": "fc83adc0",
   "metadata": {},
   "outputs": [
    {
     "data": {
      "text/plain": [
       "0     [810, 817, 818, 820, 821, 828, 829, 831, 832, ...\n",
       "1                   [822, 823, 824, 825, 826, 827, 910]\n",
       "2     [803, 804, 805, 806, 807, 808, 811, 812, 813, ...\n",
       "3                                                 [913]\n",
       "4     [4, 500, 501, 834, 835, 836, 837, 838, 839, 84...\n",
       "5     [830, 843, 844, 845, 846, 847, 850, 851, 852, ...\n",
       "6         [400, 401, 402, 403, 404, 405, 406, 407, 408]\n",
       "7     [503, 504, 505, 506, 507, 508, 509, 510, 800, ...\n",
       "8     [300, 301, 302, 303, 304, 305, 306, 307, 308, ...\n",
       "9     [606, 607, 608, 609, 610, 611, 614, 615, 616, ...\n",
       "10             [600, 601, 602, 603, 604, 605, 612, 613]\n",
       "11    [626, 627, 628, 629, 643, 644, 645, 646, 617, ...\n",
       "12    [2, 618, 619, 620, 621, 622, 623, 633, 634, 63...\n",
       "13    [200, 201, 202, 203, 204, 205, 206, 207, 208, ...\n",
       "14                                                [914]\n",
       "15                                                [909]\n",
       "16                            [700, 701, 702, 915, 916]\n",
       "17                       [901, 902, 903, 904, 905, 907]\n",
       "18                                                [908]\n",
       "19               [3, 100, 101, 102, 103, 104, 105, 106]\n",
       "Name: pctlist, dtype: object"
      ]
     },
     "execution_count": 13,
     "metadata": {},
     "output_type": "execute_result"
    }
   ],
   "source": [
    "sspct.pctlist"
   ]
  },
  {
   "cell_type": "code",
   "execution_count": 14,
   "id": "89b3e9f5",
   "metadata": {},
   "outputs": [
    {
     "data": {
      "text/plain": [
       "True"
      ]
     },
     "execution_count": 14,
     "metadata": {},
     "output_type": "execute_result"
    }
   ],
   "source": [
    "sspct['pctlist'][0][0] == '810'"
   ]
  },
  {
   "cell_type": "code",
   "execution_count": 15,
   "id": "1634073a",
   "metadata": {},
   "outputs": [
    {
     "name": "stdout",
     "output_type": "stream",
     "text": [
      "<class 'geopandas.geodataframe.GeoDataFrame'>\n",
      "Index: 193 entries, 002 to 916\n",
      "Data columns (total 8 columns):\n",
      " #   Column     Non-Null Count  Dtype   \n",
      "---  ------     --------------  -----   \n",
      " 0   Pct        193 non-null    object  \n",
      " 1   Precinct   193 non-null    object  \n",
      " 2   AreaShort  193 non-null    object  \n",
      " 3   CD         193 non-null    object  \n",
      " 4   SD         193 non-null    object  \n",
      " 5   HD         193 non-null    object  \n",
      " 6   geometry   193 non-null    geometry\n",
      " 7   supersite  0 non-null      object  \n",
      "dtypes: geometry(1), object(7)\n",
      "memory usage: 17.6+ KB\n"
     ]
    }
   ],
   "source": [
    "pctgeo['supersite'] = None\n",
    "pctgeo.info()"
   ]
  },
  {
   "cell_type": "code",
   "execution_count": 16,
   "id": "c81a37da",
   "metadata": {},
   "outputs": [
    {
     "data": {
      "text/plain": [
       "Pct                                                        810\n",
       "Precinct                                            2181007810\n",
       "AreaShort                                                BO-08\n",
       "CD                                                           2\n",
       "SD                                                          18\n",
       "HD                                                          10\n",
       "geometry     POLYGON ((-105.2541114189239 40.04008556330383...\n",
       "supersite                                           Boulder HS\n",
       "Name: 810, dtype: object"
      ]
     },
     "execution_count": 16,
     "metadata": {},
     "output_type": "execute_result"
    }
   ],
   "source": [
    "# Test on one pct in one ss\n",
    "\n",
    "# get first pct in first supersite\n",
    "ss = 0\n",
    "i = 0\n",
    "pct_in_ss = sspct['pctlist'][ss][i]\n",
    "# get supersite name\n",
    "ssname = sspct.loc[0,'Supersite']\n",
    "pctgeo.loc[pct_in_ss, 'supersite'] = ssname\n",
    "pctgeo.loc[pct_in_ss, :]"
   ]
  },
  {
   "cell_type": "code",
   "execution_count": 17,
   "id": "f5763995",
   "metadata": {},
   "outputs": [
    {
     "name": "stdout",
     "output_type": "stream",
     "text": [
      "Supersite\n"
     ]
    },
    {
     "ename": "TypeError",
     "evalue": "string indices must be integers",
     "output_type": "error",
     "traceback": [
      "\u001b[0;31m---------------------------------------------------------------------------\u001b[0m",
      "\u001b[0;31mTypeError\u001b[0m                                 Traceback (most recent call last)",
      "Cell \u001b[0;32mIn[17], line 11\u001b[0m\n\u001b[1;32m      8\u001b[0m \u001b[38;5;28;01mfor\u001b[39;00m ss \u001b[38;5;129;01min\u001b[39;00m sspct:\n\u001b[1;32m      9\u001b[0m     \u001b[38;5;66;03m# get supersite name\u001b[39;00m\n\u001b[1;32m     10\u001b[0m     \u001b[38;5;28mprint\u001b[39m(ss)\n\u001b[0;32m---> 11\u001b[0m     ssname \u001b[38;5;241m=\u001b[39m \u001b[43mss\u001b[49m\u001b[43m[\u001b[49m\u001b[38;5;124;43m'\u001b[39;49m\u001b[38;5;124;43mSupersite\u001b[39;49m\u001b[38;5;124;43m'\u001b[39;49m\u001b[43m]\u001b[49m\n\u001b[1;32m     12\u001b[0m     \u001b[38;5;28;01mfor\u001b[39;00m p \u001b[38;5;129;01min\u001b[39;00m ss[\u001b[38;5;124m'\u001b[39m\u001b[38;5;124mpctlist\u001b[39m\u001b[38;5;124m'\u001b[39m]:\n\u001b[1;32m     13\u001b[0m         \u001b[38;5;66;03m# set superite name in pctgeo\u001b[39;00m\n\u001b[1;32m     14\u001b[0m         pctgeo\u001b[38;5;241m.\u001b[39mloc[p, \u001b[38;5;124m'\u001b[39m\u001b[38;5;124msupersite\u001b[39m\u001b[38;5;124m'\u001b[39m] \u001b[38;5;241m=\u001b[39m ssname\n",
      "\u001b[0;31mTypeError\u001b[0m: string indices must be integers"
     ]
    }
   ],
   "source": [
    "# add supersite name to all precincts\n",
    "\n",
    "# get first pct in first supersite\n",
    "# ss = 0\n",
    "# i = 0\n",
    "\n",
    "# iterate through all supersites\n",
    "for ss in sspct:\n",
    "    # get supersite name\n",
    "    print(ss)\n",
    "    # ssname = ss['Supersite']\n",
    "    # for p in ss['pctlist']:\n",
    "    #     # set superite name in pctgeo\n",
    "    #     pctgeo.loc[p, 'supersite'] = ssname\n",
    "\n",
    "\n",
    "# pctgeo.loc[pct_in_ss, :]\n"
   ]
  },
  {
   "cell_type": "code",
   "execution_count": null,
   "id": "183831cf",
   "metadata": {},
   "outputs": [],
   "source": []
  },
  {
   "cell_type": "code",
   "execution_count": null,
   "id": "9469c5b8",
   "metadata": {},
   "outputs": [],
   "source": []
  },
  {
   "cell_type": "markdown",
   "id": "01211e1c",
   "metadata": {},
   "source": [
    "### Create Supersite borders and save to file"
   ]
  },
  {
   "cell_type": "code",
   "execution_count": null,
   "id": "c4663aa0",
   "metadata": {},
   "outputs": [
    {
     "data": {
      "text/plain": [
       "[['810', '817', '818', '820', '821', '828', '829', '831', '832', '833'],\n",
       " ['822', '823', '824', '825', '826', '827', '910']]"
      ]
     },
     "metadata": {},
     "output_type": "display_data"
    }
   ],
   "source": [
    "# get string of precincts in each supersite\n",
    "sspcts = sspct[\"Pct #'s\"].tolist()\n",
    "\n",
    "# for each supersite, transform precinct strings to list of precincts\n",
    "sspctlist = [pct.rstrip(',').split(',') for pct in sspcts]\n",
    "sspctlist[:2]"
   ]
  },
  {
   "cell_type": "code",
   "execution_count": null,
   "id": "7652546f",
   "metadata": {},
   "outputs": [
    {
     "name": "stdout",
     "output_type": "stream",
     "text": [
      "<class 'pandas.core.frame.DataFrame'>\n",
      "RangeIndex: 20 entries, 0 to 19\n",
      "Data columns (total 13 columns):\n",
      " #   Column                  Non-Null Count  Dtype  \n",
      "---  ------                  --------------  -----  \n",
      " 0   Supersite               20 non-null     object \n",
      " 1   Region                  20 non-null     object \n",
      " 2   # of Reg Dems           20 non-null     int64  \n",
      " 3   Forecast of  Attendees  20 non-null     float64\n",
      " 4   # of Pct's              20 non-null     int64  \n",
      " 5   Pct #'s                 20 non-null     object \n",
      " 6   # of Chairs             20 non-null     int64  \n",
      " 7   Chair Name              20 non-null     object \n",
      " 8   Chair2 Name             13 non-null     object \n",
      " 9   Chair3 Name             8 non-null      object \n",
      " 10  chair 4 Name            2 non-null      object \n",
      " 11  Chair 5 Name            1 non-null      object \n",
      " 12  pctlist                 20 non-null     object \n",
      "dtypes: float64(1), int64(3), object(9)\n",
      "memory usage: 2.2+ KB\n"
     ]
    }
   ],
   "source": [
    "# add pctlist column to sspct dataframe\n",
    "sspct['pctlist'] = sspctlist\n",
    "sspct.info()"
   ]
  },
  {
   "cell_type": "code",
   "execution_count": null,
   "id": "a3c69897",
   "metadata": {},
   "outputs": [
    {
     "data": {
      "text/plain": [
       "['810', '817', '818', '820', '821', '828', '829', '831', '832', '833']"
      ]
     },
     "metadata": {},
     "output_type": "display_data"
    }
   ],
   "source": [
    "sspct.loc[0,'pctlist']"
   ]
  },
  {
   "cell_type": "code",
   "execution_count": null,
   "id": "094aa4d2",
   "metadata": {},
   "outputs": [],
   "source": []
  },
  {
   "cell_type": "code",
   "execution_count": null,
   "id": "eaaa4bac",
   "metadata": {},
   "outputs": [
    {
     "data": {
      "text/html": [
       "<div>\n",
       "<style scoped>\n",
       "    .dataframe tbody tr th:only-of-type {\n",
       "        vertical-align: middle;\n",
       "    }\n",
       "\n",
       "    .dataframe tbody tr th {\n",
       "        vertical-align: top;\n",
       "    }\n",
       "\n",
       "    .dataframe thead th {\n",
       "        text-align: right;\n",
       "    }\n",
       "</style>\n",
       "<table border=\"1\" class=\"dataframe\">\n",
       "  <thead>\n",
       "    <tr style=\"text-align: right;\">\n",
       "      <th></th>\n",
       "      <th>Supersite</th>\n",
       "      <th>Region</th>\n",
       "      <th># of Reg Dems</th>\n",
       "      <th>Forecast of  Attendees</th>\n",
       "      <th># of Pct's</th>\n",
       "      <th>Pct #'s</th>\n",
       "      <th># of Chairs</th>\n",
       "      <th>Chair Name</th>\n",
       "      <th>Chair2 Name</th>\n",
       "      <th>Chair3 Name</th>\n",
       "      <th>chair 4 Name</th>\n",
       "      <th>Chair 5 Name</th>\n",
       "      <th>pctlist</th>\n",
       "    </tr>\n",
       "  </thead>\n",
       "  <tbody>\n",
       "    <tr>\n",
       "      <th>0</th>\n",
       "      <td>Boulder HS</td>\n",
       "      <td>Boulder</td>\n",
       "      <td>7241</td>\n",
       "      <td>181.025</td>\n",
       "      <td>10</td>\n",
       "      <td>810,817,818,820,821,828,829,831,832,833,,,,,,,,,</td>\n",
       "      <td>3</td>\n",
       "      <td>Michael Smith</td>\n",
       "      <td>Molly Stuart</td>\n",
       "      <td>Bruce Norikane</td>\n",
       "      <td>NaN</td>\n",
       "      <td>NaN</td>\n",
       "      <td>[810, 817, 818, 820, 821, 828, 829, 831, 832, ...</td>\n",
       "    </tr>\n",
       "    <tr>\n",
       "      <th>1</th>\n",
       "      <td>Casey MS</td>\n",
       "      <td>Boulder</td>\n",
       "      <td>4696</td>\n",
       "      <td>117.400</td>\n",
       "      <td>7</td>\n",
       "      <td>822,823,824,825,826,827,910,,,,,,,,,,,,</td>\n",
       "      <td>2</td>\n",
       "      <td>David Kline</td>\n",
       "      <td>Geof Cahoon</td>\n",
       "      <td>NaN</td>\n",
       "      <td>NaN</td>\n",
       "      <td>NaN</td>\n",
       "      <td>[822, 823, 824, 825, 826, 827, 910]</td>\n",
       "    </tr>\n",
       "    <tr>\n",
       "      <th>2</th>\n",
       "      <td>Centennial MS</td>\n",
       "      <td>Boulder</td>\n",
       "      <td>9589</td>\n",
       "      <td>239.725</td>\n",
       "      <td>14</td>\n",
       "      <td>803,804,805,806,807,808,811,812,813,814,815,81...</td>\n",
       "      <td>3</td>\n",
       "      <td>Joel Smith</td>\n",
       "      <td>Michael Hart</td>\n",
       "      <td>Patricia Feeser</td>\n",
       "      <td>NaN</td>\n",
       "      <td>NaN</td>\n",
       "      <td>[803, 804, 805, 806, 807, 808, 811, 812, 813, ...</td>\n",
       "    </tr>\n",
       "    <tr>\n",
       "      <th>3</th>\n",
       "      <td>Jamestown School</td>\n",
       "      <td>Boulder</td>\n",
       "      <td>283</td>\n",
       "      <td>7.075</td>\n",
       "      <td>1</td>\n",
       "      <td>913,,,,,,,,,,,,,,,,,,</td>\n",
       "      <td>1</td>\n",
       "      <td>Gretchen Diefenderfer</td>\n",
       "      <td>NaN</td>\n",
       "      <td>NaN</td>\n",
       "      <td>NaN</td>\n",
       "      <td>NaN</td>\n",
       "      <td>[913]</td>\n",
       "    </tr>\n",
       "    <tr>\n",
       "      <th>4</th>\n",
       "      <td>Manhattan MS</td>\n",
       "      <td>Boulder</td>\n",
       "      <td>7146</td>\n",
       "      <td>178.650</td>\n",
       "      <td>15</td>\n",
       "      <td>4,500,501,834,835,836,837,838,839,840,841,842,...</td>\n",
       "      <td>4</td>\n",
       "      <td>Guy Errickson</td>\n",
       "      <td>Katie Malzbender</td>\n",
       "      <td>Candace Bowie</td>\n",
       "      <td>Peter Dawson</td>\n",
       "      <td>NaN</td>\n",
       "      <td>[4, 500, 501, 834, 835, 836, 837, 838, 839, 84...</td>\n",
       "    </tr>\n",
       "  </tbody>\n",
       "</table>\n",
       "</div>"
      ],
      "text/plain": [
       "          Supersite   Region  # of Reg Dems  Forecast of  Attendees  \\\n",
       "0        Boulder HS  Boulder           7241                 181.025   \n",
       "1          Casey MS  Boulder           4696                 117.400   \n",
       "2     Centennial MS  Boulder           9589                 239.725   \n",
       "3  Jamestown School  Boulder            283                   7.075   \n",
       "4      Manhattan MS  Boulder           7146                 178.650   \n",
       "\n",
       "   # of Pct's                                            Pct #'s  # of Chairs  \\\n",
       "0          10   810,817,818,820,821,828,829,831,832,833,,,,,,,,,            3   \n",
       "1           7            822,823,824,825,826,827,910,,,,,,,,,,,,            2   \n",
       "2          14  803,804,805,806,807,808,811,812,813,814,815,81...            3   \n",
       "3           1                              913,,,,,,,,,,,,,,,,,,            1   \n",
       "4          15  4,500,501,834,835,836,837,838,839,840,841,842,...            4   \n",
       "\n",
       "              Chair Name       Chair2 Name      Chair3 Name  chair 4 Name  \\\n",
       "0          Michael Smith      Molly Stuart   Bruce Norikane           NaN   \n",
       "1            David Kline       Geof Cahoon              NaN           NaN   \n",
       "2             Joel Smith      Michael Hart  Patricia Feeser           NaN   \n",
       "3  Gretchen Diefenderfer               NaN              NaN           NaN   \n",
       "4          Guy Errickson  Katie Malzbender    Candace Bowie  Peter Dawson   \n",
       "\n",
       "  Chair 5 Name                                            pctlist  \n",
       "0          NaN  [810, 817, 818, 820, 821, 828, 829, 831, 832, ...  \n",
       "1          NaN                [822, 823, 824, 825, 826, 827, 910]  \n",
       "2          NaN  [803, 804, 805, 806, 807, 808, 811, 812, 813, ...  \n",
       "3          NaN                                              [913]  \n",
       "4          NaN  [4, 500, 501, 834, 835, 836, 837, 838, 839, 84...  "
      ]
     },
     "metadata": {},
     "output_type": "display_data"
    }
   ],
   "source": [
    "sspct.head()"
   ]
  },
  {
   "cell_type": "markdown",
   "id": "3b5ddd3c",
   "metadata": {},
   "source": [
    "##      TEST OF BOULDER HIGH SCHOOL SUPERSITE "
   ]
  },
  {
   "cell_type": "code",
   "execution_count": 19,
   "id": "5cbc5839",
   "metadata": {},
   "outputs": [
    {
     "data": {
      "text/plain": [
       "['810', '817', '818', '820', '821', '828', '829', '831', '832', '833']"
      ]
     },
     "execution_count": 19,
     "metadata": {},
     "output_type": "execute_result"
    }
   ],
   "source": [
    "# create GeoDataFrame for a single supersite\n",
    "sspct_str_list = sspct.pctlist\n",
    "ssbhs = sspct_str_list[0]\n",
    "ssbhs"
   ]
  },
  {
   "cell_type": "code",
   "execution_count": 20,
   "id": "49472c18",
   "metadata": {},
   "outputs": [],
   "source": [
    "# create GeoDataFrame for a single supersite\n"
   ]
  },
  {
   "cell_type": "code",
   "execution_count": 24,
   "id": "dc9526c2",
   "metadata": {},
   "outputs": [
    {
     "data": {
      "text/plain": [
       "[Pct                                                        810\n",
       " Precinct                                            2181007810\n",
       " AreaShort                                                BO-08\n",
       " CD                                                           2\n",
       " SD                                                          18\n",
       " HD                                                          10\n",
       " geometry     POLYGON ((-105.2541114189239 40.04008556330383...\n",
       " Name: 128, dtype: object,\n",
       " Pct                                                        817\n",
       " Precinct                                            2181007817\n",
       " AreaShort                                                BO-08\n",
       " CD                                                           2\n",
       " SD                                                          18\n",
       " HD                                                          10\n",
       " geometry     POLYGON ((-105.258446899267 40.03646603760756,...\n",
       " Name: 135, dtype: object,\n",
       " Pct                                                        818\n",
       " Precinct                                            2181007818\n",
       " AreaShort                                                BO-08\n",
       " CD                                                           2\n",
       " SD                                                          18\n",
       " HD                                                          10\n",
       " geometry     POLYGON ((-105.2453730542609 40.03402702879499...\n",
       " Name: 136, dtype: object,\n",
       " Pct                                                        820\n",
       " Precinct                                            2181007820\n",
       " AreaShort                                                BO-08\n",
       " CD                                                           2\n",
       " SD                                                          18\n",
       " HD                                                          10\n",
       " geometry     POLYGON ((-105.2160111955 40.02941744250101, -...\n",
       " Name: 138, dtype: object,\n",
       " Pct                                                        821\n",
       " Precinct                                            2181007821\n",
       " AreaShort                                                BO-08\n",
       " CD                                                           2\n",
       " SD                                                          18\n",
       " HD                                                          10\n",
       " geometry     POLYGON ((-105.2584008552258 40.0291030718611,...\n",
       " Name: 139, dtype: object,\n",
       " Pct                                                        828\n",
       " Precinct                                            2184907828\n",
       " AreaShort                                                BO-05\n",
       " CD                                                           2\n",
       " SD                                                          18\n",
       " HD                                                          49\n",
       " geometry     POLYGON ((-105.2837252085129 40.01657343580141...\n",
       " Name: 146, dtype: object,\n",
       " Pct                                                        829\n",
       " Precinct                                            2181007829\n",
       " AreaShort                                                BO-05\n",
       " CD                                                           2\n",
       " SD                                                          18\n",
       " HD                                                          10\n",
       " geometry     POLYGON ((-105.2790212496877 40.01506431947683...\n",
       " Name: 147, dtype: object,\n",
       " Pct                                                        831\n",
       " Precinct                                            2181007831\n",
       " AreaShort                                                BO-05\n",
       " CD                                                           2\n",
       " SD                                                          18\n",
       " HD                                                          10\n",
       " geometry     POLYGON ((-105.2716111402284 40.00551027935118...\n",
       " Name: 149, dtype: object,\n",
       " Pct                                                        832\n",
       " Precinct                                            2181007832\n",
       " AreaShort                                                BO-05\n",
       " CD                                                           2\n",
       " SD                                                          18\n",
       " HD                                                          10\n",
       " geometry     POLYGON ((-105.2537731835135 40.0146261868912,...\n",
       " Name: 150, dtype: object,\n",
       " Pct                                                        833\n",
       " Precinct                                            2181007833\n",
       " AreaShort                                                BO-05\n",
       " CD                                                           2\n",
       " SD                                                          18\n",
       " HD                                                          10\n",
       " geometry     POLYGON ((-105.2586461933803 40.01101437225237...\n",
       " Name: 151, dtype: object]"
      ]
     },
     "execution_count": 24,
     "metadata": {},
     "output_type": "execute_result"
    }
   ],
   "source": [
    "# create a list with a row for each precinct at Boulder High School supersite\n",
    "bhsgeo = []\n",
    "for i, pct in enumerate(pctgeo['Pct']):\n",
    "    # print(i,pct)\n",
    "    if pct in ssbhs:\n",
    "        # print(pctgeo.iloc[i,:])\n",
    "        bhsgeo.append( pctgeo.iloc[i,:])\n",
    "\n",
    "bhsgeo\n"
   ]
  },
  {
   "cell_type": "code",
   "execution_count": 25,
   "id": "fe9fa228",
   "metadata": {},
   "outputs": [
    {
     "data": {
      "text/html": [
       "<div>\n",
       "<style scoped>\n",
       "    .dataframe tbody tr th:only-of-type {\n",
       "        vertical-align: middle;\n",
       "    }\n",
       "\n",
       "    .dataframe tbody tr th {\n",
       "        vertical-align: top;\n",
       "    }\n",
       "\n",
       "    .dataframe thead th {\n",
       "        text-align: right;\n",
       "    }\n",
       "</style>\n",
       "<table border=\"1\" class=\"dataframe\">\n",
       "  <thead>\n",
       "    <tr style=\"text-align: right;\">\n",
       "      <th></th>\n",
       "      <th>Pct</th>\n",
       "      <th>Precinct</th>\n",
       "      <th>AreaShort</th>\n",
       "      <th>CD</th>\n",
       "      <th>SD</th>\n",
       "      <th>HD</th>\n",
       "      <th>geometry</th>\n",
       "    </tr>\n",
       "  </thead>\n",
       "  <tbody>\n",
       "    <tr>\n",
       "      <th>128</th>\n",
       "      <td>810</td>\n",
       "      <td>2181007810</td>\n",
       "      <td>BO-08</td>\n",
       "      <td>2</td>\n",
       "      <td>18</td>\n",
       "      <td>10</td>\n",
       "      <td>POLYGON ((-105.25411 40.04009, -105.25412 40.0...</td>\n",
       "    </tr>\n",
       "    <tr>\n",
       "      <th>135</th>\n",
       "      <td>817</td>\n",
       "      <td>2181007817</td>\n",
       "      <td>BO-08</td>\n",
       "      <td>2</td>\n",
       "      <td>18</td>\n",
       "      <td>10</td>\n",
       "      <td>POLYGON ((-105.25845 40.03647, -105.25850 40.0...</td>\n",
       "    </tr>\n",
       "    <tr>\n",
       "      <th>136</th>\n",
       "      <td>818</td>\n",
       "      <td>2181007818</td>\n",
       "      <td>BO-08</td>\n",
       "      <td>2</td>\n",
       "      <td>18</td>\n",
       "      <td>10</td>\n",
       "      <td>POLYGON ((-105.24537 40.03403, -105.24593 40.0...</td>\n",
       "    </tr>\n",
       "    <tr>\n",
       "      <th>138</th>\n",
       "      <td>820</td>\n",
       "      <td>2181007820</td>\n",
       "      <td>BO-08</td>\n",
       "      <td>2</td>\n",
       "      <td>18</td>\n",
       "      <td>10</td>\n",
       "      <td>POLYGON ((-105.21601 40.02942, -105.21602 40.0...</td>\n",
       "    </tr>\n",
       "    <tr>\n",
       "      <th>139</th>\n",
       "      <td>821</td>\n",
       "      <td>2181007821</td>\n",
       "      <td>BO-08</td>\n",
       "      <td>2</td>\n",
       "      <td>18</td>\n",
       "      <td>10</td>\n",
       "      <td>POLYGON ((-105.25840 40.02910, -105.25909 40.0...</td>\n",
       "    </tr>\n",
       "    <tr>\n",
       "      <th>146</th>\n",
       "      <td>828</td>\n",
       "      <td>2184907828</td>\n",
       "      <td>BO-05</td>\n",
       "      <td>2</td>\n",
       "      <td>18</td>\n",
       "      <td>49</td>\n",
       "      <td>POLYGON ((-105.28373 40.01657, -105.28377 40.0...</td>\n",
       "    </tr>\n",
       "    <tr>\n",
       "      <th>147</th>\n",
       "      <td>829</td>\n",
       "      <td>2181007829</td>\n",
       "      <td>BO-05</td>\n",
       "      <td>2</td>\n",
       "      <td>18</td>\n",
       "      <td>10</td>\n",
       "      <td>POLYGON ((-105.27902 40.01506, -105.27928 40.0...</td>\n",
       "    </tr>\n",
       "    <tr>\n",
       "      <th>149</th>\n",
       "      <td>831</td>\n",
       "      <td>2181007831</td>\n",
       "      <td>BO-05</td>\n",
       "      <td>2</td>\n",
       "      <td>18</td>\n",
       "      <td>10</td>\n",
       "      <td>POLYGON ((-105.27161 40.00551, -105.27226 40.0...</td>\n",
       "    </tr>\n",
       "    <tr>\n",
       "      <th>150</th>\n",
       "      <td>832</td>\n",
       "      <td>2181007832</td>\n",
       "      <td>BO-05</td>\n",
       "      <td>2</td>\n",
       "      <td>18</td>\n",
       "      <td>10</td>\n",
       "      <td>POLYGON ((-105.25377 40.01463, -105.25842 40.0...</td>\n",
       "    </tr>\n",
       "    <tr>\n",
       "      <th>151</th>\n",
       "      <td>833</td>\n",
       "      <td>2181007833</td>\n",
       "      <td>BO-05</td>\n",
       "      <td>2</td>\n",
       "      <td>18</td>\n",
       "      <td>10</td>\n",
       "      <td>POLYGON ((-105.25865 40.01101, -105.25866 40.0...</td>\n",
       "    </tr>\n",
       "  </tbody>\n",
       "</table>\n",
       "</div>"
      ],
      "text/plain": [
       "     Pct    Precinct AreaShort CD  SD  HD  \\\n",
       "128  810  2181007810     BO-08  2  18  10   \n",
       "135  817  2181007817     BO-08  2  18  10   \n",
       "136  818  2181007818     BO-08  2  18  10   \n",
       "138  820  2181007820     BO-08  2  18  10   \n",
       "139  821  2181007821     BO-08  2  18  10   \n",
       "146  828  2184907828     BO-05  2  18  49   \n",
       "147  829  2181007829     BO-05  2  18  10   \n",
       "149  831  2181007831     BO-05  2  18  10   \n",
       "150  832  2181007832     BO-05  2  18  10   \n",
       "151  833  2181007833     BO-05  2  18  10   \n",
       "\n",
       "                                              geometry  \n",
       "128  POLYGON ((-105.25411 40.04009, -105.25412 40.0...  \n",
       "135  POLYGON ((-105.25845 40.03647, -105.25850 40.0...  \n",
       "136  POLYGON ((-105.24537 40.03403, -105.24593 40.0...  \n",
       "138  POLYGON ((-105.21601 40.02942, -105.21602 40.0...  \n",
       "139  POLYGON ((-105.25840 40.02910, -105.25909 40.0...  \n",
       "146  POLYGON ((-105.28373 40.01657, -105.28377 40.0...  \n",
       "147  POLYGON ((-105.27902 40.01506, -105.27928 40.0...  \n",
       "149  POLYGON ((-105.27161 40.00551, -105.27226 40.0...  \n",
       "150  POLYGON ((-105.25377 40.01463, -105.25842 40.0...  \n",
       "151  POLYGON ((-105.25865 40.01101, -105.25866 40.0...  "
      ]
     },
     "execution_count": 25,
     "metadata": {},
     "output_type": "execute_result"
    }
   ],
   "source": [
    "bhsgpd = gpd.GeoDataFrame(bhsgeo)\n",
    "bhsgpd"
   ]
  },
  {
   "cell_type": "code",
   "execution_count": 26,
   "id": "cfd4a9b7",
   "metadata": {},
   "outputs": [
    {
     "data": {
      "text/plain": [
       "<Axes: >"
      ]
     },
     "execution_count": 26,
     "metadata": {},
     "output_type": "execute_result"
    },
    {
     "data": {
      "image/png": "[encoded data removed]",
      "text/plain": [
       "<Figure size 640x480 with 1 Axes>"
      ]
     },
     "metadata": {},
     "output_type": "display_data"
    }
   ],
   "source": [
    "# create supersite boundary geometry for BHS\n",
    "bhsgeom = bhsgpd.dissolve()\n",
    "bhsgeom.plot()"
   ]
  },
  {
   "cell_type": "code",
   "execution_count": null,
   "id": "35e7b049",
   "metadata": {},
   "outputs": [],
   "source": []
  },
  {
   "cell_type": "code",
   "execution_count": null,
   "id": "c5de9ba0",
   "metadata": {},
   "outputs": [],
   "source": [
    "\n",
    "# this sets all column names and data types correctly\n",
    "# area_gdf = gpd.GeoDataFrame(area_groups.get_group('BO-01').dissolve())\n",
    "# area_gdf.plot()"
   ]
  },
  {
   "cell_type": "code",
   "execution_count": null,
   "id": "ebe3d9ba",
   "metadata": {},
   "outputs": [],
   "source": []
  },
  {
   "cell_type": "code",
   "execution_count": null,
   "id": "a504dd97",
   "metadata": {},
   "outputs": [],
   "source": []
  },
  {
   "cell_type": "markdown",
   "id": "0d801024-b3fe-445e-b051-9249a00b616e",
   "metadata": {
    "tags": []
   },
   "source": [
    "### Create Area Boundaries\n",
    "- use .dissolve() to aggregate precincts into Areas and return Area boundary geometry"
   ]
  },
  {
   "cell_type": "code",
   "execution_count": 18,
   "id": "8e4912df-06a5-496f-8d08-2400d25ccb5e",
   "metadata": {},
   "outputs": [],
   "source": [
    "area_groups = pctgeo.groupby('AreaShort')"
   ]
  },
  {
   "cell_type": "code",
   "execution_count": 19,
   "id": "b4d01e79-0da2-4409-8af7-c344398c2f73",
   "metadata": {},
   "outputs": [
    {
     "data": {
      "text/plain": [
       "{'BO-01': [2, 172, 173, 174, 175, 176, 182], 'BO-02': [148, 162, 163, 170, 171], 'BO-03': [160, 161, 164, 165, 168, 169], 'BO-04': [152, 153, 154, 155, 156, 157, 158, 159, 166, 167], 'BO-05': [146, 147, 149, 150, 151], 'BO-07': [140, 141, 142, 143, 144, 145], 'BO-08': [128, 135, 136, 138, 139], 'BO-09': [129, 130, 131, 133, 134], 'BO-10': [121, 122, 123, 124, 125, 126, 132], 'BO-11': [52, 53, 54, 120, 127, 137], 'ER-01': [40, 41, 42, 43, 44, 45, 46, 47, 48], 'GN-01': [55, 56, 57, 58, 59, 118, 119], 'LF-01': [23, 24, 25, 26, 27, 28, 29, 30, 31], 'LF-02': [32, 33, 34, 35, 36, 37, 38, 39, 49, 50, 51], 'LM-01': [60, 61, 62, 63, 64, 72, 73], 'LM-02': [65, 66, 67, 68, 69, 70, 71], 'LM-03': [74, 75, 76, 84, 85, 90, 91], 'LM-04': [0, 78, 79, 80, 81, 82, 95, 96, 97], 'LM-05': [83, 93, 94, 98, 99, 100, 110, 111], 'LM-06': [86, 87, 88, 89, 103, 104, 105, 106], 'LM-07': [77, 92, 101, 102, 107, 108, 109, 115, 116, 117], 'LV-01': [10, 11, 12, 13, 14, 16, 17], 'LV-02': [15, 18, 19, 20, 21, 22], 'MT-01': [177, 178, 179, 180, 181, 183], 'MT-02': [184, 185, 186, 187, 188, 189], 'MT-03': [112, 113, 114, 190, 191, 192], 'SU-01': [1, 3, 4, 5, 6, 7, 8, 9]}"
      ]
     },
     "execution_count": 19,
     "metadata": {},
     "output_type": "execute_result"
    }
   ],
   "source": [
    "area_groups.groups"
   ]
  },
  {
   "cell_type": "code",
   "execution_count": 40,
   "id": "93f13dcd",
   "metadata": {},
   "outputs": [
    {
     "data": {
      "text/html": [
       "<div>\n",
       "<style scoped>\n",
       "    .dataframe tbody tr th:only-of-type {\n",
       "        vertical-align: middle;\n",
       "    }\n",
       "\n",
       "    .dataframe tbody tr th {\n",
       "        vertical-align: top;\n",
       "    }\n",
       "\n",
       "    .dataframe thead th {\n",
       "        text-align: right;\n",
       "    }\n",
       "</style>\n",
       "<table border=\"1\" class=\"dataframe\">\n",
       "  <thead>\n",
       "    <tr style=\"text-align: right;\">\n",
       "      <th></th>\n",
       "      <th>Pct</th>\n",
       "      <th>Precinct</th>\n",
       "      <th>AreaShort</th>\n",
       "      <th>CD</th>\n",
       "      <th>SD</th>\n",
       "      <th>HD</th>\n",
       "      <th>geometry</th>\n",
       "    </tr>\n",
       "  </thead>\n",
       "  <tbody>\n",
       "    <tr>\n",
       "      <th>2</th>\n",
       "      <td>004</td>\n",
       "      <td>2151207004</td>\n",
       "      <td>BO-01</td>\n",
       "      <td>2</td>\n",
       "      <td>15</td>\n",
       "      <td>12</td>\n",
       "      <td>POLYGON ((-105.18469 39.96263, -105.18459 39.9...</td>\n",
       "    </tr>\n",
       "    <tr>\n",
       "      <th>172</th>\n",
       "      <td>854</td>\n",
       "      <td>2184907854</td>\n",
       "      <td>BO-01</td>\n",
       "      <td>2</td>\n",
       "      <td>18</td>\n",
       "      <td>49</td>\n",
       "      <td>POLYGON ((-105.26011 39.97808, -105.26105 39.9...</td>\n",
       "    </tr>\n",
       "    <tr>\n",
       "      <th>173</th>\n",
       "      <td>855</td>\n",
       "      <td>2184907855</td>\n",
       "      <td>BO-01</td>\n",
       "      <td>2</td>\n",
       "      <td>18</td>\n",
       "      <td>49</td>\n",
       "      <td>POLYGON ((-105.24580 39.98095, -105.24586 39.9...</td>\n",
       "    </tr>\n",
       "    <tr>\n",
       "      <th>174</th>\n",
       "      <td>856</td>\n",
       "      <td>2184907856</td>\n",
       "      <td>BO-01</td>\n",
       "      <td>2</td>\n",
       "      <td>18</td>\n",
       "      <td>49</td>\n",
       "      <td>POLYGON ((-105.24597 39.97645, -105.24597 39.9...</td>\n",
       "    </tr>\n",
       "    <tr>\n",
       "      <th>175</th>\n",
       "      <td>857</td>\n",
       "      <td>2184907857</td>\n",
       "      <td>BO-01</td>\n",
       "      <td>2</td>\n",
       "      <td>18</td>\n",
       "      <td>49</td>\n",
       "      <td>POLYGON ((-105.24748 39.96770, -105.24777 39.9...</td>\n",
       "    </tr>\n",
       "    <tr>\n",
       "      <th>176</th>\n",
       "      <td>900</td>\n",
       "      <td>2154907900</td>\n",
       "      <td>BO-01</td>\n",
       "      <td>2</td>\n",
       "      <td>15</td>\n",
       "      <td>49</td>\n",
       "      <td>MULTIPOLYGON (((-105.16920 39.92870, -105.1689...</td>\n",
       "    </tr>\n",
       "    <tr>\n",
       "      <th>182</th>\n",
       "      <td>906</td>\n",
       "      <td>2154907906</td>\n",
       "      <td>BO-01</td>\n",
       "      <td>2</td>\n",
       "      <td>15</td>\n",
       "      <td>49</td>\n",
       "      <td>POLYGON ((-105.32196 40.01455, -105.32214 40.0...</td>\n",
       "    </tr>\n",
       "  </tbody>\n",
       "</table>\n",
       "</div>"
      ],
      "text/plain": [
       "     Pct    Precinct AreaShort CD  SD  HD  \\\n",
       "2    004  2151207004     BO-01  2  15  12   \n",
       "172  854  2184907854     BO-01  2  18  49   \n",
       "173  855  2184907855     BO-01  2  18  49   \n",
       "174  856  2184907856     BO-01  2  18  49   \n",
       "175  857  2184907857     BO-01  2  18  49   \n",
       "176  900  2154907900     BO-01  2  15  49   \n",
       "182  906  2154907906     BO-01  2  15  49   \n",
       "\n",
       "                                              geometry  \n",
       "2    POLYGON ((-105.18469 39.96263, -105.18459 39.9...  \n",
       "172  POLYGON ((-105.26011 39.97808, -105.26105 39.9...  \n",
       "173  POLYGON ((-105.24580 39.98095, -105.24586 39.9...  \n",
       "174  POLYGON ((-105.24597 39.97645, -105.24597 39.9...  \n",
       "175  POLYGON ((-105.24748 39.96770, -105.24777 39.9...  \n",
       "176  MULTIPOLYGON (((-105.16920 39.92870, -105.1689...  \n",
       "182  POLYGON ((-105.32196 40.01455, -105.32214 40.0...  "
      ]
     },
     "execution_count": 40,
     "metadata": {},
     "output_type": "execute_result"
    }
   ],
   "source": [
    "# type(area_groups.get_group('BO-01'))\n",
    "area_groups.get_group('BO-01')"
   ]
  },
  {
   "cell_type": "code",
   "execution_count": null,
   "id": "5be60dd8",
   "metadata": {},
   "outputs": [],
   "source": []
  },
  {
   "cell_type": "code",
   "execution_count": 18,
   "id": "ea9393fd-a1fe-4a13-9770-f07b18c7960c",
   "metadata": {
    "tags": []
   },
   "outputs": [],
   "source": [
    "# Create boundary for each Area from outline of precincts in Area\n",
    "for name, group in area_groups:\n",
    "    area_gdf = pd.concat([area_gdf, group.dissolve()], ignore_index=True)   "
   ]
  },
  {
   "cell_type": "code",
   "execution_count": 19,
   "id": "058b30bc-50e2-40fa-875b-ac5eaa366108",
   "metadata": {},
   "outputs": [
    {
     "name": "stdout",
     "output_type": "stream",
     "text": [
      "<class 'geopandas.geodataframe.GeoDataFrame'>\n",
      "RangeIndex: 28 entries, 0 to 27\n",
      "Data columns (total 7 columns):\n",
      " #   Column     Non-Null Count  Dtype   \n",
      "---  ------     --------------  -----   \n",
      " 0   geometry   28 non-null     geometry\n",
      " 1   Pct        28 non-null     object  \n",
      " 2   Precinct   28 non-null     object  \n",
      " 3   AreaShort  28 non-null     object  \n",
      " 4   CD         28 non-null     object  \n",
      " 5   SD         28 non-null     object  \n",
      " 6   HD         28 non-null     object  \n",
      "dtypes: geometry(1), object(6)\n",
      "memory usage: 1.7+ KB\n"
     ]
    }
   ],
   "source": [
    "area_gdf.info()"
   ]
  },
  {
   "cell_type": "code",
   "execution_count": 20,
   "id": "dc7e3f5a-fcd1-4fb1-b967-7f185a71bc14",
   "metadata": {},
   "outputs": [
    {
     "data": {
      "text/html": [
       "<div>\n",
       "<style scoped>\n",
       "    .dataframe tbody tr th:only-of-type {\n",
       "        vertical-align: middle;\n",
       "    }\n",
       "\n",
       "    .dataframe tbody tr th {\n",
       "        vertical-align: top;\n",
       "    }\n",
       "\n",
       "    .dataframe thead th {\n",
       "        text-align: right;\n",
       "    }\n",
       "</style>\n",
       "<table border=\"1\" class=\"dataframe\">\n",
       "  <thead>\n",
       "    <tr style=\"text-align: right;\">\n",
       "      <th></th>\n",
       "      <th>geometry</th>\n",
       "      <th>Pct</th>\n",
       "      <th>Precinct</th>\n",
       "      <th>AreaShort</th>\n",
       "      <th>CD</th>\n",
       "      <th>SD</th>\n",
       "      <th>HD</th>\n",
       "    </tr>\n",
       "  </thead>\n",
       "  <tbody>\n",
       "    <tr>\n",
       "      <th>0</th>\n",
       "      <td>MULTIPOLYGON (((-105.16920 39.92870, -105.1691...</td>\n",
       "      <td>004</td>\n",
       "      <td>2151207004</td>\n",
       "      <td>BO-01</td>\n",
       "      <td>2</td>\n",
       "      <td>15</td>\n",
       "      <td>12</td>\n",
       "    </tr>\n",
       "    <tr>\n",
       "      <th>1</th>\n",
       "      <td>MULTIPOLYGON (((-105.16920 39.92870, -105.1691...</td>\n",
       "      <td>004</td>\n",
       "      <td>2151207004</td>\n",
       "      <td>BO-01</td>\n",
       "      <td>2</td>\n",
       "      <td>15</td>\n",
       "      <td>12</td>\n",
       "    </tr>\n",
       "    <tr>\n",
       "      <th>2</th>\n",
       "      <td>POLYGON ((-105.24761 39.98298, -105.24699 39.9...</td>\n",
       "      <td>830</td>\n",
       "      <td>2181007830</td>\n",
       "      <td>BO-02</td>\n",
       "      <td>2</td>\n",
       "      <td>18</td>\n",
       "      <td>10</td>\n",
       "    </tr>\n",
       "    <tr>\n",
       "      <th>3</th>\n",
       "      <td>POLYGON ((-105.23584 39.98517, -105.23555 39.9...</td>\n",
       "      <td>842</td>\n",
       "      <td>2181007842</td>\n",
       "      <td>BO-03</td>\n",
       "      <td>2</td>\n",
       "      <td>18</td>\n",
       "      <td>10</td>\n",
       "    </tr>\n",
       "    <tr>\n",
       "      <th>4</th>\n",
       "      <td>POLYGON ((-105.21283 39.98575, -105.21282 39.9...</td>\n",
       "      <td>834</td>\n",
       "      <td>2181007834</td>\n",
       "      <td>BO-04</td>\n",
       "      <td>2</td>\n",
       "      <td>18</td>\n",
       "      <td>10</td>\n",
       "    </tr>\n",
       "    <tr>\n",
       "      <th>5</th>\n",
       "      <td>POLYGON ((-105.25864 40.00236, -105.25865 40.0...</td>\n",
       "      <td>828</td>\n",
       "      <td>2184907828</td>\n",
       "      <td>BO-05</td>\n",
       "      <td>2</td>\n",
       "      <td>18</td>\n",
       "      <td>49</td>\n",
       "    </tr>\n",
       "    <tr>\n",
       "      <th>6</th>\n",
       "      <td>POLYGON ((-105.25838 40.01917, -105.25838 40.0...</td>\n",
       "      <td>822</td>\n",
       "      <td>2181007822</td>\n",
       "      <td>BO-07</td>\n",
       "      <td>2</td>\n",
       "      <td>18</td>\n",
       "      <td>10</td>\n",
       "    </tr>\n",
       "    <tr>\n",
       "      <th>7</th>\n",
       "      <td>POLYGON ((-105.21595 40.02929, -105.21586 40.0...</td>\n",
       "      <td>810</td>\n",
       "      <td>2181007810</td>\n",
       "      <td>BO-08</td>\n",
       "      <td>2</td>\n",
       "      <td>18</td>\n",
       "      <td>10</td>\n",
       "    </tr>\n",
       "    <tr>\n",
       "      <th>8</th>\n",
       "      <td>POLYGON ((-105.27269 40.03465, -105.27268 40.0...</td>\n",
       "      <td>811</td>\n",
       "      <td>2181007811</td>\n",
       "      <td>BO-09</td>\n",
       "      <td>2</td>\n",
       "      <td>18</td>\n",
       "      <td>10</td>\n",
       "    </tr>\n",
       "    <tr>\n",
       "      <th>9</th>\n",
       "      <td>POLYGON ((-105.25965 40.05103, -105.25948 40.0...</td>\n",
       "      <td>803</td>\n",
       "      <td>2181007803</td>\n",
       "      <td>BO-10</td>\n",
       "      <td>2</td>\n",
       "      <td>18</td>\n",
       "      <td>10</td>\n",
       "    </tr>\n",
       "    <tr>\n",
       "      <th>10</th>\n",
       "      <td>POLYGON ((-105.17826 40.05174, -105.17826 40.0...</td>\n",
       "      <td>503</td>\n",
       "      <td>2181207503</td>\n",
       "      <td>BO-11</td>\n",
       "      <td>2</td>\n",
       "      <td>18</td>\n",
       "      <td>12</td>\n",
       "    </tr>\n",
       "    <tr>\n",
       "      <th>11</th>\n",
       "      <td>POLYGON ((-105.05531 40.02197, -105.05532 40.0...</td>\n",
       "      <td>400</td>\n",
       "      <td>2171907400</td>\n",
       "      <td>ER-01</td>\n",
       "      <td>2</td>\n",
       "      <td>17</td>\n",
       "      <td>19</td>\n",
       "    </tr>\n",
       "    <tr>\n",
       "      <th>12</th>\n",
       "      <td>POLYGON ((-105.13147 40.08736, -105.13142 40.0...</td>\n",
       "      <td>506</td>\n",
       "      <td>2181207506</td>\n",
       "      <td>GN-01</td>\n",
       "      <td>2</td>\n",
       "      <td>18</td>\n",
       "      <td>12</td>\n",
       "    </tr>\n",
       "    <tr>\n",
       "      <th>13</th>\n",
       "      <td>MULTIPOLYGON (((-105.05283 39.97775, -105.0624...</td>\n",
       "      <td>300</td>\n",
       "      <td>2171207300</td>\n",
       "      <td>LF-01</td>\n",
       "      <td>2</td>\n",
       "      <td>17</td>\n",
       "      <td>12</td>\n",
       "    </tr>\n",
       "    <tr>\n",
       "      <th>14</th>\n",
       "      <td>POLYGON ((-105.16526 39.98831, -105.16524 39.9...</td>\n",
       "      <td>309</td>\n",
       "      <td>2171207309</td>\n",
       "      <td>LF-02</td>\n",
       "      <td>2</td>\n",
       "      <td>17</td>\n",
       "      <td>12</td>\n",
       "    </tr>\n",
       "    <tr>\n",
       "      <th>15</th>\n",
       "      <td>POLYGON ((-105.12952 40.13073, -105.12974 40.1...</td>\n",
       "      <td>600</td>\n",
       "      <td>2171107600</td>\n",
       "      <td>LM-01</td>\n",
       "      <td>2</td>\n",
       "      <td>17</td>\n",
       "      <td>11</td>\n",
       "    </tr>\n",
       "    <tr>\n",
       "      <th>16</th>\n",
       "      <td>POLYGON ((-105.14563 40.12885, -105.14577 40.1...</td>\n",
       "      <td>605</td>\n",
       "      <td>2171107605</td>\n",
       "      <td>LM-02</td>\n",
       "      <td>2</td>\n",
       "      <td>17</td>\n",
       "      <td>11</td>\n",
       "    </tr>\n",
       "    <tr>\n",
       "      <th>17</th>\n",
       "      <td>POLYGON ((-105.11324 40.15598, -105.11711 40.1...</td>\n",
       "      <td>614</td>\n",
       "      <td>2171107614</td>\n",
       "      <td>LM-03</td>\n",
       "      <td>2</td>\n",
       "      <td>17</td>\n",
       "      <td>11</td>\n",
       "    </tr>\n",
       "    <tr>\n",
       "      <th>18</th>\n",
       "      <td>POLYGON ((-105.07755 40.16358, -105.07880 40.1...</td>\n",
       "      <td>002</td>\n",
       "      <td>2151907002</td>\n",
       "      <td>LM-04</td>\n",
       "      <td>2</td>\n",
       "      <td>15</td>\n",
       "      <td>19</td>\n",
       "    </tr>\n",
       "    <tr>\n",
       "      <th>19</th>\n",
       "      <td>POLYGON ((-105.08307 40.18001, -105.08307 40.1...</td>\n",
       "      <td>623</td>\n",
       "      <td>2171107623</td>\n",
       "      <td>LM-05</td>\n",
       "      <td>2</td>\n",
       "      <td>17</td>\n",
       "      <td>11</td>\n",
       "    </tr>\n",
       "    <tr>\n",
       "      <th>20</th>\n",
       "      <td>POLYGON ((-105.13091 40.17687, -105.13091 40.1...</td>\n",
       "      <td>626</td>\n",
       "      <td>2171107626</td>\n",
       "      <td>LM-06</td>\n",
       "      <td>2</td>\n",
       "      <td>17</td>\n",
       "      <td>11</td>\n",
       "    </tr>\n",
       "    <tr>\n",
       "      <th>21</th>\n",
       "      <td>MULTIPOLYGON (((-105.08308 40.17274, -105.0830...</td>\n",
       "      <td>617</td>\n",
       "      <td>2171107617</td>\n",
       "      <td>LM-07</td>\n",
       "      <td>2</td>\n",
       "      <td>17</td>\n",
       "      <td>11</td>\n",
       "    </tr>\n",
       "    <tr>\n",
       "      <th>22</th>\n",
       "      <td>POLYGON ((-105.13261 39.97237, -105.13260 39.9...</td>\n",
       "      <td>200</td>\n",
       "      <td>2181207200</td>\n",
       "      <td>LV-01</td>\n",
       "      <td>2</td>\n",
       "      <td>18</td>\n",
       "      <td>12</td>\n",
       "    </tr>\n",
       "    <tr>\n",
       "      <th>23</th>\n",
       "      <td>POLYGON ((-105.12765 39.97673, -105.12766 39.9...</td>\n",
       "      <td>205</td>\n",
       "      <td>2181207205</td>\n",
       "      <td>LV-02</td>\n",
       "      <td>2</td>\n",
       "      <td>18</td>\n",
       "      <td>12</td>\n",
       "    </tr>\n",
       "    <tr>\n",
       "      <th>24</th>\n",
       "      <td>POLYGON ((-105.35071 39.96978, -105.35027 39.9...</td>\n",
       "      <td>901</td>\n",
       "      <td>2154907901</td>\n",
       "      <td>MT-01</td>\n",
       "      <td>2</td>\n",
       "      <td>15</td>\n",
       "      <td>49</td>\n",
       "    </tr>\n",
       "    <tr>\n",
       "      <th>25</th>\n",
       "      <td>POLYGON ((-105.29734 40.06363, -105.29654 40.0...</td>\n",
       "      <td>908</td>\n",
       "      <td>2154907908</td>\n",
       "      <td>MT-02</td>\n",
       "      <td>2</td>\n",
       "      <td>15</td>\n",
       "      <td>49</td>\n",
       "    </tr>\n",
       "    <tr>\n",
       "      <th>26</th>\n",
       "      <td>POLYGON ((-105.17849 40.13071, -105.17839 40.1...</td>\n",
       "      <td>700</td>\n",
       "      <td>2151207700</td>\n",
       "      <td>MT-03</td>\n",
       "      <td>2</td>\n",
       "      <td>15</td>\n",
       "      <td>12</td>\n",
       "    </tr>\n",
       "    <tr>\n",
       "      <th>27</th>\n",
       "      <td>POLYGON ((-105.14702 39.92762, -105.14702 39.9...</td>\n",
       "      <td>003</td>\n",
       "      <td>2184907003</td>\n",
       "      <td>SU-01</td>\n",
       "      <td>2</td>\n",
       "      <td>18</td>\n",
       "      <td>49</td>\n",
       "    </tr>\n",
       "  </tbody>\n",
       "</table>\n",
       "</div>"
      ],
      "text/plain": [
       "                                             geometry  Pct    Precinct  \\\n",
       "0   MULTIPOLYGON (((-105.16920 39.92870, -105.1691...  004  2151207004   \n",
       "1   MULTIPOLYGON (((-105.16920 39.92870, -105.1691...  004  2151207004   \n",
       "2   POLYGON ((-105.24761 39.98298, -105.24699 39.9...  830  2181007830   \n",
       "3   POLYGON ((-105.23584 39.98517, -105.23555 39.9...  842  2181007842   \n",
       "4   POLYGON ((-105.21283 39.98575, -105.21282 39.9...  834  2181007834   \n",
       "5   POLYGON ((-105.25864 40.00236, -105.25865 40.0...  828  2184907828   \n",
       "6   POLYGON ((-105.25838 40.01917, -105.25838 40.0...  822  2181007822   \n",
       "7   POLYGON ((-105.21595 40.02929, -105.21586 40.0...  810  2181007810   \n",
       "8   POLYGON ((-105.27269 40.03465, -105.27268 40.0...  811  2181007811   \n",
       "9   POLYGON ((-105.25965 40.05103, -105.25948 40.0...  803  2181007803   \n",
       "10  POLYGON ((-105.17826 40.05174, -105.17826 40.0...  503  2181207503   \n",
       "11  POLYGON ((-105.05531 40.02197, -105.05532 40.0...  400  2171907400   \n",
       "12  POLYGON ((-105.13147 40.08736, -105.13142 40.0...  506  2181207506   \n",
       "13  MULTIPOLYGON (((-105.05283 39.97775, -105.0624...  300  2171207300   \n",
       "14  POLYGON ((-105.16526 39.98831, -105.16524 39.9...  309  2171207309   \n",
       "15  POLYGON ((-105.12952 40.13073, -105.12974 40.1...  600  2171107600   \n",
       "16  POLYGON ((-105.14563 40.12885, -105.14577 40.1...  605  2171107605   \n",
       "17  POLYGON ((-105.11324 40.15598, -105.11711 40.1...  614  2171107614   \n",
       "18  POLYGON ((-105.07755 40.16358, -105.07880 40.1...  002  2151907002   \n",
       "19  POLYGON ((-105.08307 40.18001, -105.08307 40.1...  623  2171107623   \n",
       "20  POLYGON ((-105.13091 40.17687, -105.13091 40.1...  626  2171107626   \n",
       "21  MULTIPOLYGON (((-105.08308 40.17274, -105.0830...  617  2171107617   \n",
       "22  POLYGON ((-105.13261 39.97237, -105.13260 39.9...  200  2181207200   \n",
       "23  POLYGON ((-105.12765 39.97673, -105.12766 39.9...  205  2181207205   \n",
       "24  POLYGON ((-105.35071 39.96978, -105.35027 39.9...  901  2154907901   \n",
       "25  POLYGON ((-105.29734 40.06363, -105.29654 40.0...  908  2154907908   \n",
       "26  POLYGON ((-105.17849 40.13071, -105.17839 40.1...  700  2151207700   \n",
       "27  POLYGON ((-105.14702 39.92762, -105.14702 39.9...  003  2184907003   \n",
       "\n",
       "   AreaShort CD  SD  HD  \n",
       "0      BO-01  2  15  12  \n",
       "1      BO-01  2  15  12  \n",
       "2      BO-02  2  18  10  \n",
       "3      BO-03  2  18  10  \n",
       "4      BO-04  2  18  10  \n",
       "5      BO-05  2  18  49  \n",
       "6      BO-07  2  18  10  \n",
       "7      BO-08  2  18  10  \n",
       "8      BO-09  2  18  10  \n",
       "9      BO-10  2  18  10  \n",
       "10     BO-11  2  18  12  \n",
       "11     ER-01  2  17  19  \n",
       "12     GN-01  2  18  12  \n",
       "13     LF-01  2  17  12  \n",
       "14     LF-02  2  17  12  \n",
       "15     LM-01  2  17  11  \n",
       "16     LM-02  2  17  11  \n",
       "17     LM-03  2  17  11  \n",
       "18     LM-04  2  15  19  \n",
       "19     LM-05  2  17  11  \n",
       "20     LM-06  2  17  11  \n",
       "21     LM-07  2  17  11  \n",
       "22     LV-01  2  18  12  \n",
       "23     LV-02  2  18  12  \n",
       "24     MT-01  2  15  49  \n",
       "25     MT-02  2  15  49  \n",
       "26     MT-03  2  15  12  \n",
       "27     SU-01  2  18  49  "
      ]
     },
     "execution_count": 20,
     "metadata": {},
     "output_type": "execute_result"
    }
   ],
   "source": [
    "area_gdf"
   ]
  },
  {
   "cell_type": "code",
   "execution_count": 21,
   "id": "1053ccef-48d2-4aca-b5c2-bf1d50759ad2",
   "metadata": {},
   "outputs": [],
   "source": [
    "# Delete duplicate 1st row\n",
    "area_gdf.drop(0, inplace=True)"
   ]
  },
  {
   "cell_type": "code",
   "execution_count": 23,
   "id": "abfd9f94-19dd-44bf-b911-96507aac5c2f",
   "metadata": {},
   "outputs": [
    {
     "data": {
      "text/html": [
       "<div>\n",
       "<style scoped>\n",
       "    .dataframe tbody tr th:only-of-type {\n",
       "        vertical-align: middle;\n",
       "    }\n",
       "\n",
       "    .dataframe tbody tr th {\n",
       "        vertical-align: top;\n",
       "    }\n",
       "\n",
       "    .dataframe thead th {\n",
       "        text-align: right;\n",
       "    }\n",
       "</style>\n",
       "<table border=\"1\" class=\"dataframe\">\n",
       "  <thead>\n",
       "    <tr style=\"text-align: right;\">\n",
       "      <th></th>\n",
       "      <th>AreaShort</th>\n",
       "      <th>geometry</th>\n",
       "    </tr>\n",
       "  </thead>\n",
       "  <tbody>\n",
       "    <tr>\n",
       "      <th>1</th>\n",
       "      <td>BO-01</td>\n",
       "      <td>MULTIPOLYGON (((-105.16920 39.92870, -105.1691...</td>\n",
       "    </tr>\n",
       "    <tr>\n",
       "      <th>2</th>\n",
       "      <td>BO-02</td>\n",
       "      <td>POLYGON ((-105.24761 39.98298, -105.24699 39.9...</td>\n",
       "    </tr>\n",
       "    <tr>\n",
       "      <th>3</th>\n",
       "      <td>BO-03</td>\n",
       "      <td>POLYGON ((-105.23584 39.98517, -105.23555 39.9...</td>\n",
       "    </tr>\n",
       "    <tr>\n",
       "      <th>4</th>\n",
       "      <td>BO-04</td>\n",
       "      <td>POLYGON ((-105.21283 39.98575, -105.21282 39.9...</td>\n",
       "    </tr>\n",
       "    <tr>\n",
       "      <th>5</th>\n",
       "      <td>BO-05</td>\n",
       "      <td>POLYGON ((-105.25864 40.00236, -105.25865 40.0...</td>\n",
       "    </tr>\n",
       "    <tr>\n",
       "      <th>6</th>\n",
       "      <td>BO-07</td>\n",
       "      <td>POLYGON ((-105.25838 40.01917, -105.25838 40.0...</td>\n",
       "    </tr>\n",
       "    <tr>\n",
       "      <th>7</th>\n",
       "      <td>BO-08</td>\n",
       "      <td>POLYGON ((-105.21595 40.02929, -105.21586 40.0...</td>\n",
       "    </tr>\n",
       "    <tr>\n",
       "      <th>8</th>\n",
       "      <td>BO-09</td>\n",
       "      <td>POLYGON ((-105.27269 40.03465, -105.27268 40.0...</td>\n",
       "    </tr>\n",
       "    <tr>\n",
       "      <th>9</th>\n",
       "      <td>BO-10</td>\n",
       "      <td>POLYGON ((-105.25965 40.05103, -105.25948 40.0...</td>\n",
       "    </tr>\n",
       "    <tr>\n",
       "      <th>10</th>\n",
       "      <td>BO-11</td>\n",
       "      <td>POLYGON ((-105.17826 40.05174, -105.17826 40.0...</td>\n",
       "    </tr>\n",
       "    <tr>\n",
       "      <th>11</th>\n",
       "      <td>ER-01</td>\n",
       "      <td>POLYGON ((-105.05531 40.02197, -105.05532 40.0...</td>\n",
       "    </tr>\n",
       "    <tr>\n",
       "      <th>12</th>\n",
       "      <td>GN-01</td>\n",
       "      <td>POLYGON ((-105.13147 40.08736, -105.13142 40.0...</td>\n",
       "    </tr>\n",
       "    <tr>\n",
       "      <th>13</th>\n",
       "      <td>LF-01</td>\n",
       "      <td>MULTIPOLYGON (((-105.05283 39.97775, -105.0624...</td>\n",
       "    </tr>\n",
       "    <tr>\n",
       "      <th>14</th>\n",
       "      <td>LF-02</td>\n",
       "      <td>POLYGON ((-105.16526 39.98831, -105.16524 39.9...</td>\n",
       "    </tr>\n",
       "    <tr>\n",
       "      <th>15</th>\n",
       "      <td>LM-01</td>\n",
       "      <td>POLYGON ((-105.12952 40.13073, -105.12974 40.1...</td>\n",
       "    </tr>\n",
       "    <tr>\n",
       "      <th>16</th>\n",
       "      <td>LM-02</td>\n",
       "      <td>POLYGON ((-105.14563 40.12885, -105.14577 40.1...</td>\n",
       "    </tr>\n",
       "    <tr>\n",
       "      <th>17</th>\n",
       "      <td>LM-03</td>\n",
       "      <td>POLYGON ((-105.11324 40.15598, -105.11711 40.1...</td>\n",
       "    </tr>\n",
       "    <tr>\n",
       "      <th>18</th>\n",
       "      <td>LM-04</td>\n",
       "      <td>POLYGON ((-105.07755 40.16358, -105.07880 40.1...</td>\n",
       "    </tr>\n",
       "    <tr>\n",
       "      <th>19</th>\n",
       "      <td>LM-05</td>\n",
       "      <td>POLYGON ((-105.08307 40.18001, -105.08307 40.1...</td>\n",
       "    </tr>\n",
       "    <tr>\n",
       "      <th>20</th>\n",
       "      <td>LM-06</td>\n",
       "      <td>POLYGON ((-105.13091 40.17687, -105.13091 40.1...</td>\n",
       "    </tr>\n",
       "    <tr>\n",
       "      <th>21</th>\n",
       "      <td>LM-07</td>\n",
       "      <td>MULTIPOLYGON (((-105.08308 40.17274, -105.0830...</td>\n",
       "    </tr>\n",
       "    <tr>\n",
       "      <th>22</th>\n",
       "      <td>LV-01</td>\n",
       "      <td>POLYGON ((-105.13261 39.97237, -105.13260 39.9...</td>\n",
       "    </tr>\n",
       "    <tr>\n",
       "      <th>23</th>\n",
       "      <td>LV-02</td>\n",
       "      <td>POLYGON ((-105.12765 39.97673, -105.12766 39.9...</td>\n",
       "    </tr>\n",
       "    <tr>\n",
       "      <th>24</th>\n",
       "      <td>MT-01</td>\n",
       "      <td>POLYGON ((-105.35071 39.96978, -105.35027 39.9...</td>\n",
       "    </tr>\n",
       "    <tr>\n",
       "      <th>25</th>\n",
       "      <td>MT-02</td>\n",
       "      <td>POLYGON ((-105.29734 40.06363, -105.29654 40.0...</td>\n",
       "    </tr>\n",
       "    <tr>\n",
       "      <th>26</th>\n",
       "      <td>MT-03</td>\n",
       "      <td>POLYGON ((-105.17849 40.13071, -105.17839 40.1...</td>\n",
       "    </tr>\n",
       "    <tr>\n",
       "      <th>27</th>\n",
       "      <td>SU-01</td>\n",
       "      <td>POLYGON ((-105.14702 39.92762, -105.14702 39.9...</td>\n",
       "    </tr>\n",
       "  </tbody>\n",
       "</table>\n",
       "</div>"
      ],
      "text/plain": [
       "   AreaShort                                           geometry\n",
       "1      BO-01  MULTIPOLYGON (((-105.16920 39.92870, -105.1691...\n",
       "2      BO-02  POLYGON ((-105.24761 39.98298, -105.24699 39.9...\n",
       "3      BO-03  POLYGON ((-105.23584 39.98517, -105.23555 39.9...\n",
       "4      BO-04  POLYGON ((-105.21283 39.98575, -105.21282 39.9...\n",
       "5      BO-05  POLYGON ((-105.25864 40.00236, -105.25865 40.0...\n",
       "6      BO-07  POLYGON ((-105.25838 40.01917, -105.25838 40.0...\n",
       "7      BO-08  POLYGON ((-105.21595 40.02929, -105.21586 40.0...\n",
       "8      BO-09  POLYGON ((-105.27269 40.03465, -105.27268 40.0...\n",
       "9      BO-10  POLYGON ((-105.25965 40.05103, -105.25948 40.0...\n",
       "10     BO-11  POLYGON ((-105.17826 40.05174, -105.17826 40.0...\n",
       "11     ER-01  POLYGON ((-105.05531 40.02197, -105.05532 40.0...\n",
       "12     GN-01  POLYGON ((-105.13147 40.08736, -105.13142 40.0...\n",
       "13     LF-01  MULTIPOLYGON (((-105.05283 39.97775, -105.0624...\n",
       "14     LF-02  POLYGON ((-105.16526 39.98831, -105.16524 39.9...\n",
       "15     LM-01  POLYGON ((-105.12952 40.13073, -105.12974 40.1...\n",
       "16     LM-02  POLYGON ((-105.14563 40.12885, -105.14577 40.1...\n",
       "17     LM-03  POLYGON ((-105.11324 40.15598, -105.11711 40.1...\n",
       "18     LM-04  POLYGON ((-105.07755 40.16358, -105.07880 40.1...\n",
       "19     LM-05  POLYGON ((-105.08307 40.18001, -105.08307 40.1...\n",
       "20     LM-06  POLYGON ((-105.13091 40.17687, -105.13091 40.1...\n",
       "21     LM-07  MULTIPOLYGON (((-105.08308 40.17274, -105.0830...\n",
       "22     LV-01  POLYGON ((-105.13261 39.97237, -105.13260 39.9...\n",
       "23     LV-02  POLYGON ((-105.12765 39.97673, -105.12766 39.9...\n",
       "24     MT-01  POLYGON ((-105.35071 39.96978, -105.35027 39.9...\n",
       "25     MT-02  POLYGON ((-105.29734 40.06363, -105.29654 40.0...\n",
       "26     MT-03  POLYGON ((-105.17849 40.13071, -105.17839 40.1...\n",
       "27     SU-01  POLYGON ((-105.14702 39.92762, -105.14702 39.9..."
      ]
     },
     "execution_count": 23,
     "metadata": {},
     "output_type": "execute_result"
    }
   ],
   "source": [
    "area_gdf = area_gdf[['AreaShort', 'geometry']]\n",
    "area_gdf"
   ]
  },
  {
   "cell_type": "code",
   "execution_count": 24,
   "id": "ac839477-7798-4644-aafc-1a37fd14c162",
   "metadata": {},
   "outputs": [
    {
     "data": {
      "text/plain": [
       "<Axes: >"
      ]
     },
     "execution_count": 24,
     "metadata": {},
     "output_type": "execute_result"
    },
    {
     "data": {
      "image/png": "[encoded data removed]",
      "text/plain": [
       "<Figure size 640x480 with 1 Axes>"
      ]
     },
     "metadata": {},
     "output_type": "display_data"
    }
   ],
   "source": [
    "area_gdf.plot()"
   ]
  },
  {
   "cell_type": "code",
   "execution_count": 32,
   "id": "c272611c-4e67-481b-b31f-b2b70f6a45e3",
   "metadata": {},
   "outputs": [],
   "source": [
    "area_gdf.to_file('../geo/geojson/areas.geojson', driver='GeoJSON')"
   ]
  },
  {
   "cell_type": "markdown",
   "id": "910e465d",
   "metadata": {},
   "source": [
    "### test areas.geojson"
   ]
  },
  {
   "cell_type": "code",
   "execution_count": 29,
   "id": "ef665427-db69-4655-a6dd-9878f9534e75",
   "metadata": {},
   "outputs": [
    {
     "name": "stdout",
     "output_type": "stream",
     "text": [
      "<class 'geopandas.geodataframe.GeoDataFrame'>\n",
      "RangeIndex: 27 entries, 0 to 26\n",
      "Data columns (total 2 columns):\n",
      " #   Column     Non-Null Count  Dtype   \n",
      "---  ------     --------------  -----   \n",
      " 0   AreaShort  27 non-null     object  \n",
      " 1   geometry   27 non-null     geometry\n",
      "dtypes: geometry(1), object(1)\n",
      "memory usage: 560.0+ bytes\n"
     ]
    }
   ],
   "source": [
    "area_test = gpd.read_file('../geo/geojson/areas.geojson', driver='GeoJSON')\n",
    "area_test.info()"
   ]
  },
  {
   "cell_type": "code",
   "execution_count": 31,
   "id": "21d85e91-815c-42cb-b6b0-1bbdc66f5238",
   "metadata": {},
   "outputs": [
    {
     "data": {
      "text/plain": [
       "<Axes: >"
      ]
     },
     "execution_count": 31,
     "metadata": {},
     "output_type": "execute_result"
    },
    {
     "data": {
      "image/png": "[encoded data removed]",
      "text/plain": [
       "<Figure size 640x480 with 1 Axes>"
      ]
     },
     "metadata": {},
     "output_type": "display_data"
    }
   ],
   "source": [
    "area_test[area_test.AreaShort == 'BO-09'].plot()"
   ]
  },
  {
   "cell_type": "markdown",
   "id": "82374aeb-c767-4dba-94c0-3de3ce8fdf42",
   "metadata": {
    "jp-MarkdownHeadingCollapsed": true,
    "tags": []
   },
   "source": [
    "## Transform data in dataframes"
   ]
  },
  {
   "cell_type": "markdown",
   "id": "426919e3-d829-4d23-8766-38705fab26ac",
   "metadata": {},
   "source": [
    "## Save transformed data in map format files"
   ]
  },
  {
   "cell_type": "code",
   "execution_count": null,
   "id": "6cd5d5f9-8a76-4769-80fa-f740f6e6bd5f",
   "metadata": {},
   "outputs": [],
   "source": []
  },
  {
   "cell_type": "code",
   "execution_count": null,
   "id": "0d5d2c62-5bac-4197-9284-5d015ffa8b49",
   "metadata": {},
   "outputs": [],
   "source": []
  }
 ],
 "metadata": {
  "kernelspec": {
   "display_name": "Python 3 (ipykernel)",
   "language": "python",
   "name": "python3"
  },
  "language_info": {
   "codemirror_mode": {
    "name": "ipython",
    "version": 3
   },
   "file_extension": ".py",
   "mimetype": "text/x-python",
   "name": "python",
   "nbconvert_exporter": "python",
   "pygments_lexer": "ipython3",
   "version": "3.9.17"
  }
 },
 "nbformat": 4,
 "nbformat_minor": 5
}
