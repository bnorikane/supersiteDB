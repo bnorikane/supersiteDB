{
 "cells": [
  {
   "cell_type": "markdown",
   "id": "3dd1ac9e-0cc1-4244-9dfc-56da05c2b99a",
   "metadata": {},
   "source": [
    "# Create supersites_geom.geojson geojson file with the caucus supersite borders\n",
    "\n",
    "#### latest run of notebook: 1/14/2024 7am\n",
    "\n",
    "## Main Steps\n",
    "1. create supersites DataFrame from Judi's supersite precinct file\n",
    "    - INPUT: data/2024_Supersite_list w Chairs & Cochairs.xlsx (update: 1/13/2024)\n",
    "    - supersites- DataFrame read from Judi's supersite file\n",
    "    - OUTPUT: none\n",
    "2. create pctgeo (precinct GeoDataFrame)\n",
    "    - INPUT: read precinct geometry from current pct_area_boulder.geojson file\n",
    "    - add supersite name column using supersites dataframe\n",
    "    - OUTPUT: data/pct_supersite.geojson (save pctgeo with supersite column) \n",
    "3. create ssgeo (supersite border geometry) and save geojson file\n",
    "    - INPUT: pctgeo GeoDataFrame\n",
    "    - create ssgeo border_geom\n",
    "        - from pctgeo by using dissolve('supersite')\n",
    "    - OUTPUT: data/supersites_region_geom.geojson (save ssgeo)\n",
    "4. add supersite location information and save file\n",
    "    - from supersite_venues_all_years.xlsx\n",
    "        - address\n",
    "        - website\n",
    "        - google map link\n",
    "        - location geometry\n",
    "    - save to supersite_venues.xlsx worksheet=2024\n",
    "    - save to supersite_venues_2024.geojson\n",
    "\n",
    "- NOTE: need to update precinct to Supersite geojson every time a Supersite/precinct list is modified \n",
    "    - e.g. move precincts 814 and 823 from Frasier to Manhatten\n",
    "\n",
    "### Notebook History Summary\n",
    "- full history see git commits\n",
    "- Started: January 7, 2024\n",
    "- Update: January 8, 2024 - large revision - add ssname column to supersites\n",
    "- Update: January 9, 2024 - version 0.1.0 add ssgeom to supersitesgeo\n",
    "- Update: January 11, 2024 - version 0.2.0 add pctlist column to supersites dataframe\n",
    "- Update: January 12, 2024 - version 0.3.0 start supersite boundary geometry\n",
    "- Update: January 13, 2024 - version 0.3.1 finish supersite boundary geometry\n",
    "- Update: January 19, 2024 - version 0.4.0 add supersite locations\n"
   ]
  },
  {
   "cell_type": "markdown",
   "id": "8f40d0bf",
   "metadata": {},
   "source": [
    "##     ISSUES\n",
    "\n",
    "#### FIXED Precinct format mismatch\n",
    "- pct_area_boulder.geojson lists zero-filled precincts, e.g. 002, 003, 004\n",
    "- Draft Supersites-judi-20240106.xlsx lists single-digit precincts, e.g. 2, 3, 4\n",
    "    - notebook creates rows for both, 002 and 2, 003 and 3, 004 and 4\n",
    "    - not critical failure but should be fixed. \n",
    "- WORKAROUND: drop extra rows 2, 3, 4\n",
    "- FIXED: zfill precincts when reading in Judi's file\n"
   ]
  },
  {
   "cell_type": "code",
   "execution_count": null,
   "id": "9b66485f-7f6d-4d5f-bfca-3ef066a25931",
   "metadata": {
    "tags": []
   },
   "outputs": [],
   "source": [
    "import pandas as pd\n",
    "import geopandas as gpd\n",
    "\n",
    "import supersites as ss\n",
    "# import fiona\n",
    "# import numpy as np"
   ]
  },
  {
   "cell_type": "markdown",
   "id": "57440289-839b-48bb-b876-7308d25c19c2",
   "metadata": {
    "tags": []
   },
   "source": [
    "## 1. Create supersites - dataframe of supersites with list of precincts in a column  \n",
    "- start with Judi's spreadsheet\n",
    "- create pctlist from \"Pct #'s\" column\n",
    "    - use pctstr_to_list(ss) function to create series of lists\n",
    "    - add pctlist series as column on supersites"
   ]
  },
  {
   "cell_type": "code",
   "execution_count": null,
   "id": "e3a88e24",
   "metadata": {},
   "outputs": [],
   "source": [
    "# check supersites\n",
    "# - total_precincts matches length of pctlist for each supersites\n",
    "# - 20 unique supersites in dataframe\n",
    "# - all columns are 20 non-null\n",
    "\n",
    "\n",
    "# supersite_input = 'data/Draft Recap Supersites, Precincts & Chairs .xlsx' # 1/13/2024\n",
    "supersite_input = 'data/Draft Recap Supersites, Precincts & Chairs .xlsx' # 1/19/2024\n",
    "sheetname ='Draft 1-19'\n",
    "\n",
    "supersites = ss.read_supersite_pct(supersite_input, sheetname)\n",
    "supersites.info()\n",
    "supersites"
   ]
  },
  {
   "cell_type": "code",
   "execution_count": null,
   "id": "cdefd2c3",
   "metadata": {},
   "outputs": [],
   "source": [
    "# pct_ss['pctlist'].nunique()"
   ]
  },
  {
   "cell_type": "code",
   "execution_count": null,
   "id": "f43fce11",
   "metadata": {},
   "outputs": [],
   "source": [
    "# pct_ss[pct_ss.duplicated(subset=['pctlist'])]\n",
    "# pct_ss[pct_ss.duplicated()]"
   ]
  },
  {
   "cell_type": "code",
   "execution_count": null,
   "id": "4bbecc8e",
   "metadata": {},
   "outputs": [],
   "source": [
    "# pct_ss[pct_ss['pctlist']=='631']"
   ]
  },
  {
   "cell_type": "code",
   "execution_count": null,
   "id": "659a9337",
   "metadata": {},
   "outputs": [],
   "source": [
    "# altona_pcts = supersites[supersites['supersite']=='Altona MS']['pctlist'].to_list()\n",
    "# altona_pcts"
   ]
  },
  {
   "cell_type": "markdown",
   "id": "728d6c8c-cf19-4b5d-be6d-a6e2b4b45db2",
   "metadata": {},
   "source": [
    "## 2 create pctgeo (precinct GeoDataFrame)\n",
    "- read precinct geometry from current pct_area_boulder.geojson file\n",
    "- add supersite name column using supersites dataframe\n",
    "- save as pct_supersite.geojson"
   ]
  },
  {
   "cell_type": "code",
   "execution_count": null,
   "id": "d6d516b4",
   "metadata": {},
   "outputs": [],
   "source": [
    "# 2. Create pctgeo, GeoDataframe from file with individual precinct boundaries\n",
    "# data/pct_area_boulder.geojson\n",
    "pctgeo = gpd.read_file('data/pct_area_boulder.geojson', driver='GEOJSON')\n",
    "\n",
    "# set pctgeo index to Pct\n",
    "pctgeo = pctgeo.set_index('Pct', drop=False)\n",
    "\n",
    "pctgeo.info()\n",
    "pctgeo.head()"
   ]
  },
  {
   "cell_type": "code",
   "execution_count": null,
   "id": "7765dbd1",
   "metadata": {},
   "outputs": [],
   "source": [
    "# FUNCTION: Add supersite name column to pctgeo\n",
    "\n",
    "def add_ss_to_pctgeo(ssdf):\n",
    "\n",
    "    for ss in ssdf.index:\n",
    "\n",
    "        # get pctlist in first supersite\n",
    "        pctlist = ssdf['pctlist'][ss]\n",
    "        # print(pctlist, '\\n')  # list of pcts in supersite\n",
    "\n",
    "        # get supersite name\n",
    "        ssname = ssdf.loc[ss,'supersite'] \n",
    "\n",
    "        # loop through each pct in pctlist\n",
    "\n",
    "        for p in pctlist:\n",
    "            \n",
    "            # print(p, ssname,'\\n')\n",
    "\n",
    "            # add supersite name to pctgeo\n",
    "            pctgeo.loc[p, 'supersite'] = ssname\n",
    "            # print(pctgeo.loc[p, :], '\\n')  #  dataframe row\n",
    "    return\n",
    "\n"
   ]
  },
  {
   "cell_type": "code",
   "execution_count": null,
   "id": "336ba65c",
   "metadata": {},
   "outputs": [],
   "source": [
    "# add supersite column to pctgeo and populate it\n",
    "pctgeo['supersite'] = ''\n",
    "add_ss_to_pctgeo(supersites)\n",
    "\n",
    "pctgeo.info() # check all columns have 193 non-null values\n",
    "pctgeo.head()"
   ]
  },
  {
   "cell_type": "code",
   "execution_count": null,
   "id": "600f3a03",
   "metadata": {},
   "outputs": [],
   "source": [
    "# ### Check precinct data in  geodataframe\n",
    "# - Number of precincts = 193\n",
    "# - Number of Areas = 27\n",
    "# - Check precincts in each Area\n",
    "\n",
    "pctgeo['Pct'].nunique() # 193\n",
    "# pctgeo.AreaShort.nunique() # 27\n",
    "# pctgeo.value_counts('AreaShort').sort_index()"
   ]
  },
  {
   "cell_type": "code",
   "execution_count": null,
   "id": "76fce814",
   "metadata": {},
   "outputs": [],
   "source": [
    "# check # of supersites - expect 20\n",
    "pctgeo['supersite'].nunique()\n",
    "\n",
    "# check precincts per supersite\n",
    "pctgeo['supersite'].value_counts()"
   ]
  },
  {
   "cell_type": "code",
   "execution_count": null,
   "id": "9469c5b8",
   "metadata": {},
   "outputs": [],
   "source": [
    "# save pctgeo with supersite column to file \n",
    "pctgeo.to_file('data/pct_supersite.geojson', driver='GeoJSON', index=False)"
   ]
  },
  {
   "cell_type": "markdown",
   "id": "01211e1c",
   "metadata": {},
   "source": [
    "### 3 Create Supersite GeoDataFrame, ssgeo, and add geometry column \n",
    "\n",
    "- create ssgeo by dissolving pctgeo('supersite')\n",
    "- save ssgeo to supersites_region_geom.geojson"
   ]
  },
  {
   "cell_type": "code",
   "execution_count": null,
   "id": "4b8105dd",
   "metadata": {},
   "outputs": [],
   "source": [
    "# Create ssgeo: Supersite GeoDataFrame with supersite boundaries\n",
    "#   pctgeo.dissolve('supersite') \n",
    "#      group precincts by supersite \n",
    "#      combine group precinct geometry into supersite geometry\n",
    "\n",
    "ssgeo = pctgeo.dissolve('supersite')\n",
    "ssgeo = ssgeo.reset_index()\n",
    "ssgeo = ssgeo[['supersite','geometry']]\n",
    "ssgeo['supersite'] = ssgeo['supersite'].str.strip()\n",
    "\n",
    "ssgeo.to_file('data/supersites_region_geom.geojson', driver='GeoJSON')\n",
    "\n",
    "ssgeo.plot()\n",
    "ssgeo"
   ]
  },
  {
   "cell_type": "markdown",
   "id": "910e465d",
   "metadata": {},
   "source": [
    "### test supersite_region_geom.geojson"
   ]
  },
  {
   "cell_type": "markdown",
   "id": "b9e59bb6",
   "metadata": {},
   "source": []
  },
  {
   "cell_type": "code",
   "execution_count": null,
   "id": "ef665427-db69-4655-a6dd-9878f9534e75",
   "metadata": {},
   "outputs": [],
   "source": [
    "supersite_test = gpd.read_file('data/supersites_region_geom.geojson', driver='GeoJSON')\n",
    "supersite_test.info()"
   ]
  },
  {
   "cell_type": "code",
   "execution_count": null,
   "id": "21d85e91-815c-42cb-b6b0-1bbdc66f5238",
   "metadata": {},
   "outputs": [],
   "source": [
    "# supersite_test[supersite_test['supersite'] == 'Boulder HS'].plot()\n",
    "# supersite_test[supersite_test['supersite'] == 'Allenspark Fire Station'].plot()\n",
    "supersite_test[supersite_test['supersite'] == 'New Vista'].plot()"
   ]
  },
  {
   "cell_type": "markdown",
   "id": "42b71137",
   "metadata": {},
   "source": [
    "## 4 ADD LOCATION COLUMN TO 2024 SUPERSITES\n",
    "- ssgeo GeoDataFrame\n",
    "    - add location_geom column from supersite_venues_all_years.xlsx\n",
    "    - copy geometry column to border\n",
    "    - set_geometry('border') to border"
   ]
  },
  {
   "cell_type": "code",
   "execution_count": null,
   "id": "3548368e",
   "metadata": {},
   "outputs": [],
   "source": [
    "ssgeo.info()"
   ]
  },
  {
   "cell_type": "code",
   "execution_count": null,
   "id": "d7a77d7e",
   "metadata": {},
   "outputs": [],
   "source": [
    "ssgeo"
   ]
  },
  {
   "cell_type": "code",
   "execution_count": null,
   "id": "b7bc5ac8",
   "metadata": {},
   "outputs": [],
   "source": [
    "# read in supersite_venues.xlsx\n",
    "venues = pd.read_excel('data/venues_all_years_fixed.xlsx')\n",
    "\n",
    "venues.info()\n",
    "venues"
   ]
  },
  {
   "cell_type": "code",
   "execution_count": null,
   "id": "e20dfdfd",
   "metadata": {},
   "outputs": [],
   "source": [
    "venues['Venue'] = venues['Venue'].str.strip()"
   ]
  },
  {
   "cell_type": "code",
   "execution_count": null,
   "id": "e0b7a4ac",
   "metadata": {},
   "outputs": [],
   "source": [
    "# create GeoDataFrame with location geometry from lon and lat columns\n",
    "vengdf = gpd.GeoDataFrame(venues, geometry=gpd.points_from_xy(venues['lon'], venues['lat']), crs='EPSG:4326' )\n",
    "\n",
    "vengdf.info()\n",
    "# vengdf.plot()"
   ]
  },
  {
   "cell_type": "code",
   "execution_count": null,
   "id": "82a48ca6",
   "metadata": {},
   "outputs": [],
   "source": [
    "vengdf.to_excel('data/venues_all_years_fixed.xlsx')"
   ]
  },
  {
   "cell_type": "code",
   "execution_count": null,
   "id": "d145234c",
   "metadata": {},
   "outputs": [],
   "source": [
    "# merge in location information to venues2024\n",
    "ss2024 = pd.merge(ssgeo, vengdf, left_on='supersite', right_on='Venue', how='left')\n",
    "ss2024 = ss2024.rename(columns={'geometry_x':'border_geom', 'geometry_y': 'location_geom'})\n",
    "ss2024 = ss2024.set_geometry('location_geom')\n",
    "ss2024 = ss2024.drop(columns=['geometry-invalid'])\n",
    "# ss2024 = ss2024.set_geometry('border_geom')\n",
    "\n",
    "ss2024 = ss2024.set_crs('EPSG:4326')\n",
    "\n",
    "ss2024.info()\n",
    "ss2024"
   ]
  },
  {
   "cell_type": "code",
   "execution_count": null,
   "id": "4dd241a5",
   "metadata": {},
   "outputs": [],
   "source": [
    "ss2024.plot()"
   ]
  },
  {
   "cell_type": "code",
   "execution_count": null,
   "id": "922d0dda",
   "metadata": {},
   "outputs": [],
   "source": [
    "ss2024.set_geometry('border_geom').plot()"
   ]
  },
  {
   "cell_type": "code",
   "execution_count": null,
   "id": "60843795",
   "metadata": {},
   "outputs": [],
   "source": [
    "\n",
    "ss2024.to_excel('data/supersites_geom_2024.xlsx')"
   ]
  },
  {
   "cell_type": "code",
   "execution_count": null,
   "id": "1fab22fe",
   "metadata": {},
   "outputs": [],
   "source": [
    "# save supersite locations in geojson file\n",
    "\n",
    "ss2024.set_geometry('location_geom')\n",
    "ss2024.drop(columns=['border_geom']).to_file('data/supersites_location_geom_2024.geojson', driver='GeoJSON')"
   ]
  },
  {
   "cell_type": "code",
   "execution_count": null,
   "id": "237b44a1",
   "metadata": {},
   "outputs": [],
   "source": [
    "ss2024gdf = gpd.read_file('data/supersites_location_geom_2024.geojson', driver='GeoJSON')\n",
    "\n",
    "ss2024gdf.info()\n",
    "ss2024gdf.plot()\n"
   ]
  },
  {
   "cell_type": "code",
   "execution_count": null,
   "id": "b37867f1",
   "metadata": {},
   "outputs": [],
   "source": []
  }
 ],
 "metadata": {
  "kernelspec": {
   "display_name": "Python 3 (ipykernel)",
   "language": "python",
   "name": "python3"
  },
  "language_info": {
   "codemirror_mode": {
    "name": "ipython",
    "version": 3
   },
   "file_extension": ".py",
   "mimetype": "text/x-python",
   "name": "python",
   "nbconvert_exporter": "python",
   "pygments_lexer": "ipython3",
   "version": "3.9.17"
  }
 },
 "nbformat": 4,
 "nbformat_minor": 5
}
